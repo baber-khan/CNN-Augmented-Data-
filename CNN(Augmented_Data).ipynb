{
  "nbformat": 4,
  "nbformat_minor": 0,
  "metadata": {
    "colab": {
      "name": "Copy of CNN (Augmented Data).ipynb",
      "provenance": [],
      "collapsed_sections": []
    },
    "kernelspec": {
      "name": "python3",
      "display_name": "Python 3"
    },
    "accelerator": "GPU"
  },
  "cells": [
    {
      "cell_type": "code",
      "metadata": {
        "id": "lz_tma7gAlsn",
        "colab_type": "code",
        "outputId": "a356d7f4-95cd-4617-cfcb-4cdf41706303",
        "colab": {
          "base_uri": "https://localhost:8080/",
          "height": 139
        }
      },
      "source": [
        "from google.colab import drive\n",
        "drive.mount('/content/Drive')\n",
        "!ls"
      ],
      "execution_count": 1,
      "outputs": [
        {
          "output_type": "stream",
          "text": [
            "Go to this URL in a browser: https://accounts.google.com/o/oauth2/auth?client_id=947318989803-6bn6qk8qdgf4n4g3pfee6491hc0brc4i.apps.googleusercontent.com&redirect_uri=urn%3aietf%3awg%3aoauth%3a2.0%3aoob&response_type=code&scope=email%20https%3a%2f%2fwww.googleapis.com%2fauth%2fdocs.test%20https%3a%2f%2fwww.googleapis.com%2fauth%2fdrive%20https%3a%2f%2fwww.googleapis.com%2fauth%2fdrive.photos.readonly%20https%3a%2f%2fwww.googleapis.com%2fauth%2fpeopleapi.readonly\n",
            "\n",
            "Enter your authorization code:\n",
            "··········\n",
            "Mounted at /content/Drive\n",
            "Drive  sample_data\n"
          ],
          "name": "stdout"
        }
      ]
    },
    {
      "cell_type": "code",
      "metadata": {
        "id": "RICAeU1MAsVT",
        "colab_type": "code",
        "outputId": "2257abde-9bd9-40e7-8184-2ed60107325a",
        "colab": {
          "base_uri": "https://localhost:8080/",
          "height": 34
        }
      },
      "source": [
        "import os\n",
        "os.getcwd()\n",
        "\n",
        "os.chdir('/content/Drive/My Drive/Colab Notebooks/Augmented')\n",
        "\n",
        "!ls  "
      ],
      "execution_count": 2,
      "outputs": [
        {
          "output_type": "stream",
          "text": [
            "Test  Training\tValidation\n"
          ],
          "name": "stdout"
        }
      ]
    },
    {
      "cell_type": "code",
      "metadata": {
        "id": "FfJp_AX0AvXj",
        "colab_type": "code",
        "outputId": "941ad34e-4054-4e5f-aa16-fe3edb423b2c",
        "colab": {
          "base_uri": "https://localhost:8080/",
          "height": 474
        }
      },
      "source": [
        "from keras.applications import VGG16\n",
        "conv_base = VGG16(weights='imagenet',\n",
        "include_top=False,\n",
        "input_shape=(150, 150, 3))"
      ],
      "execution_count": 3,
      "outputs": [
        {
          "output_type": "stream",
          "text": [
            "Using TensorFlow backend.\n"
          ],
          "name": "stderr"
        },
        {
          "output_type": "display_data",
          "data": {
            "text/html": [
              "<p style=\"color: red;\">\n",
              "The default version of TensorFlow in Colab will soon switch to TensorFlow 2.x.<br>\n",
              "We recommend you <a href=\"https://www.tensorflow.org/guide/migrate\" target=\"_blank\">upgrade</a> now \n",
              "or ensure your notebook will continue to use TensorFlow 1.x via the <code>%tensorflow_version 1.x</code> magic:\n",
              "<a href=\"https://colab.research.google.com/notebooks/tensorflow_version.ipynb\" target=\"_blank\">more info</a>.</p>\n"
            ],
            "text/plain": [
              "<IPython.core.display.HTML object>"
            ]
          },
          "metadata": {
            "tags": []
          }
        },
        {
          "output_type": "stream",
          "text": [
            "WARNING:tensorflow:From /usr/local/lib/python3.6/dist-packages/keras/backend/tensorflow_backend.py:66: The name tf.get_default_graph is deprecated. Please use tf.compat.v1.get_default_graph instead.\n",
            "\n",
            "WARNING:tensorflow:From /usr/local/lib/python3.6/dist-packages/keras/backend/tensorflow_backend.py:541: The name tf.placeholder is deprecated. Please use tf.compat.v1.placeholder instead.\n",
            "\n",
            "WARNING:tensorflow:From /usr/local/lib/python3.6/dist-packages/keras/backend/tensorflow_backend.py:4432: The name tf.random_uniform is deprecated. Please use tf.random.uniform instead.\n",
            "\n",
            "WARNING:tensorflow:From /usr/local/lib/python3.6/dist-packages/keras/backend/tensorflow_backend.py:4267: The name tf.nn.max_pool is deprecated. Please use tf.nn.max_pool2d instead.\n",
            "\n",
            "Downloading data from https://github.com/fchollet/deep-learning-models/releases/download/v0.1/vgg16_weights_tf_dim_ordering_tf_kernels_notop.h5\n",
            "58892288/58889256 [==============================] - 12s 0us/step\n",
            "WARNING:tensorflow:From /usr/local/lib/python3.6/dist-packages/keras/backend/tensorflow_backend.py:190: The name tf.get_default_session is deprecated. Please use tf.compat.v1.get_default_session instead.\n",
            "\n",
            "WARNING:tensorflow:From /usr/local/lib/python3.6/dist-packages/keras/backend/tensorflow_backend.py:197: The name tf.ConfigProto is deprecated. Please use tf.compat.v1.ConfigProto instead.\n",
            "\n",
            "WARNING:tensorflow:From /usr/local/lib/python3.6/dist-packages/keras/backend/tensorflow_backend.py:203: The name tf.Session is deprecated. Please use tf.compat.v1.Session instead.\n",
            "\n",
            "WARNING:tensorflow:From /usr/local/lib/python3.6/dist-packages/keras/backend/tensorflow_backend.py:207: The name tf.global_variables is deprecated. Please use tf.compat.v1.global_variables instead.\n",
            "\n",
            "WARNING:tensorflow:From /usr/local/lib/python3.6/dist-packages/keras/backend/tensorflow_backend.py:216: The name tf.is_variable_initialized is deprecated. Please use tf.compat.v1.is_variable_initialized instead.\n",
            "\n",
            "WARNING:tensorflow:From /usr/local/lib/python3.6/dist-packages/keras/backend/tensorflow_backend.py:223: The name tf.variables_initializer is deprecated. Please use tf.compat.v1.variables_initializer instead.\n",
            "\n"
          ],
          "name": "stdout"
        }
      ]
    },
    {
      "cell_type": "code",
      "metadata": {
        "id": "wNFzRnG6A17D",
        "colab_type": "code",
        "outputId": "9615450f-34ed-4319-e236-4c636537145d",
        "colab": {
          "base_uri": "https://localhost:8080/",
          "height": 799
        }
      },
      "source": [
        " conv_base.summary()"
      ],
      "execution_count": 4,
      "outputs": [
        {
          "output_type": "stream",
          "text": [
            "Model: \"vgg16\"\n",
            "_________________________________________________________________\n",
            "Layer (type)                 Output Shape              Param #   \n",
            "=================================================================\n",
            "input_1 (InputLayer)         (None, 150, 150, 3)       0         \n",
            "_________________________________________________________________\n",
            "block1_conv1 (Conv2D)        (None, 150, 150, 64)      1792      \n",
            "_________________________________________________________________\n",
            "block1_conv2 (Conv2D)        (None, 150, 150, 64)      36928     \n",
            "_________________________________________________________________\n",
            "block1_pool (MaxPooling2D)   (None, 75, 75, 64)        0         \n",
            "_________________________________________________________________\n",
            "block2_conv1 (Conv2D)        (None, 75, 75, 128)       73856     \n",
            "_________________________________________________________________\n",
            "block2_conv2 (Conv2D)        (None, 75, 75, 128)       147584    \n",
            "_________________________________________________________________\n",
            "block2_pool (MaxPooling2D)   (None, 37, 37, 128)       0         \n",
            "_________________________________________________________________\n",
            "block3_conv1 (Conv2D)        (None, 37, 37, 256)       295168    \n",
            "_________________________________________________________________\n",
            "block3_conv2 (Conv2D)        (None, 37, 37, 256)       590080    \n",
            "_________________________________________________________________\n",
            "block3_conv3 (Conv2D)        (None, 37, 37, 256)       590080    \n",
            "_________________________________________________________________\n",
            "block3_pool (MaxPooling2D)   (None, 18, 18, 256)       0         \n",
            "_________________________________________________________________\n",
            "block4_conv1 (Conv2D)        (None, 18, 18, 512)       1180160   \n",
            "_________________________________________________________________\n",
            "block4_conv2 (Conv2D)        (None, 18, 18, 512)       2359808   \n",
            "_________________________________________________________________\n",
            "block4_conv3 (Conv2D)        (None, 18, 18, 512)       2359808   \n",
            "_________________________________________________________________\n",
            "block4_pool (MaxPooling2D)   (None, 9, 9, 512)         0         \n",
            "_________________________________________________________________\n",
            "block5_conv1 (Conv2D)        (None, 9, 9, 512)         2359808   \n",
            "_________________________________________________________________\n",
            "block5_conv2 (Conv2D)        (None, 9, 9, 512)         2359808   \n",
            "_________________________________________________________________\n",
            "block5_conv3 (Conv2D)        (None, 9, 9, 512)         2359808   \n",
            "_________________________________________________________________\n",
            "block5_pool (MaxPooling2D)   (None, 4, 4, 512)         0         \n",
            "=================================================================\n",
            "Total params: 14,714,688\n",
            "Trainable params: 14,714,688\n",
            "Non-trainable params: 0\n",
            "_________________________________________________________________\n"
          ],
          "name": "stdout"
        }
      ]
    },
    {
      "cell_type": "code",
      "metadata": {
        "id": "n-miyhY8A558",
        "colab_type": "code",
        "outputId": "c6f13153-9cee-4216-8d22-238aa6f3682b",
        "colab": {
          "base_uri": "https://localhost:8080/",
          "height": 72
        }
      },
      "source": [
        "import os\n",
        "import numpy as np\n",
        "from keras.preprocessing.image import ImageDataGenerator\n",
        "\n",
        "base_dir ='/content/Drive/My Drive/Colab Notebooks/Augmented'\n",
        "train_dir = os.path.join(base_dir, 'Training')\n",
        "validation_dir = os.path.join(base_dir, 'Validation')\n",
        "test_dir = os.path.join(base_dir, 'Test')\n",
        "\n",
        "datagen = ImageDataGenerator(rescale=1./255)\n",
        "batch_size = 10\n",
        "def extract_features(directory, sample_count):\n",
        "    features = np.zeros(shape=(sample_count, 4, 4, 512))\n",
        "    labels = np.zeros(shape=(sample_count))\n",
        "    generator = datagen.flow_from_directory(\n",
        "        directory,\n",
        "        target_size=(150, 150),\n",
        "        batch_size=batch_size,\n",
        "        class_mode='binary')\n",
        "    i=0\n",
        "    for inputs_batch, labels_batch in generator:\n",
        "        features_batch = conv_base.predict(inputs_batch)\n",
        "        features[i * batch_size : (i + 1) * batch_size] = features_batch\n",
        "        labels[i * batch_size : (i + 1) * batch_size] = labels_batch\n",
        "        i += 1\n",
        "        if i * batch_size >= sample_count:\n",
        "            break\n",
        "    return features, labels\n",
        "train_features, train_labels = extract_features(train_dir, 3320)\n",
        "validation_features, validation_labels = extract_features(validation_dir,1832)\n",
        "test_features, test_labels = extract_features(test_dir, 1096)\n",
        "\n",
        "\n"
      ],
      "execution_count": 0,
      "outputs": [
        {
          "output_type": "stream",
          "text": [
            "Found 3320 images belonging to 2 classes.\n",
            "Found 1832 images belonging to 2 classes.\n",
            "Found 1096 images belonging to 2 classes.\n"
          ],
          "name": "stdout"
        }
      ]
    },
    {
      "cell_type": "code",
      "metadata": {
        "id": "uxVqY_cGGgFy",
        "colab_type": "code",
        "colab": {}
      },
      "source": [
        "train_features = np.reshape(train_features, (3320, 4*4* 512))\n",
        "validation_features = np.reshape(validation_features, (1832, 4*4* 512))\n",
        "test_features = np.reshape(test_features, (1096, 4*4* 512))"
      ],
      "execution_count": 0,
      "outputs": []
    },
    {
      "cell_type": "code",
      "metadata": {
        "id": "Fp2-qEGYBBag",
        "colab_type": "code",
        "outputId": "4dc0a847-2166-47bf-b2db-2dc511af5c65",
        "colab": {
          "base_uri": "https://localhost:8080/",
          "height": 1000
        }
      },
      "source": [
        "from keras import models\n",
        "from keras import layers\n",
        "from keras import optimizers\n",
        "import keras\n",
        "\n",
        "model = models.Sequential()\n",
        "model.add(layers.Dense(256, activation='relu', input_dim=4* 4 * 512))\n",
        "model.add(layers.Dropout(0.5))\n",
        "model.add(layers.Dense(1, activation='sigmoid'))\n",
        "\n",
        "\n",
        "model.compile(optimizer=optimizers.RMSprop(lr=2e-5),\n",
        "loss='binary_crossentropy',\n",
        "metrics=['acc'])\n",
        "\n",
        "history = model.fit(train_features, train_labels,\n",
        "epochs=30,\n",
        "batch_size=20,\n",
        "validation_data=(validation_features, validation_labels)\n",
        ")"
      ],
      "execution_count": 0,
      "outputs": [
        {
          "output_type": "stream",
          "text": [
            "WARNING:tensorflow:From /usr/local/lib/python3.6/dist-packages/keras/backend/tensorflow_backend.py:148: The name tf.placeholder_with_default is deprecated. Please use tf.compat.v1.placeholder_with_default instead.\n",
            "\n",
            "WARNING:tensorflow:From /usr/local/lib/python3.6/dist-packages/keras/backend/tensorflow_backend.py:3733: calling dropout (from tensorflow.python.ops.nn_ops) with keep_prob is deprecated and will be removed in a future version.\n",
            "Instructions for updating:\n",
            "Please use `rate` instead of `keep_prob`. Rate should be set to `rate = 1 - keep_prob`.\n",
            "WARNING:tensorflow:From /usr/local/lib/python3.6/dist-packages/keras/optimizers.py:793: The name tf.train.Optimizer is deprecated. Please use tf.compat.v1.train.Optimizer instead.\n",
            "\n",
            "WARNING:tensorflow:From /usr/local/lib/python3.6/dist-packages/keras/backend/tensorflow_backend.py:3657: The name tf.log is deprecated. Please use tf.math.log instead.\n",
            "\n",
            "WARNING:tensorflow:From /usr/local/lib/python3.6/dist-packages/tensorflow_core/python/ops/nn_impl.py:183: where (from tensorflow.python.ops.array_ops) is deprecated and will be removed in a future version.\n",
            "Instructions for updating:\n",
            "Use tf.where in 2.0, which has the same broadcast rule as np.where\n",
            "WARNING:tensorflow:From /usr/local/lib/python3.6/dist-packages/keras/backend/tensorflow_backend.py:1033: The name tf.assign_add is deprecated. Please use tf.compat.v1.assign_add instead.\n",
            "\n",
            "WARNING:tensorflow:From /usr/local/lib/python3.6/dist-packages/keras/backend/tensorflow_backend.py:1020: The name tf.assign is deprecated. Please use tf.compat.v1.assign instead.\n",
            "\n",
            "Train on 3320 samples, validate on 1832 samples\n",
            "Epoch 1/30\n",
            "3320/3320 [==============================] - 1s 420us/step - loss: 0.7340 - acc: 0.5133 - val_loss: 0.6717 - val_acc: 0.5431\n",
            "Epoch 2/30\n",
            "3320/3320 [==============================] - 1s 320us/step - loss: 0.6927 - acc: 0.5449 - val_loss: 0.6537 - val_acc: 0.6141\n",
            "Epoch 3/30\n",
            "3320/3320 [==============================] - 1s 326us/step - loss: 0.6547 - acc: 0.6102 - val_loss: 0.6460 - val_acc: 0.5862\n",
            "Epoch 4/30\n",
            "3320/3320 [==============================] - 1s 321us/step - loss: 0.6351 - acc: 0.6404 - val_loss: 0.6256 - val_acc: 0.6572\n",
            "Epoch 5/30\n",
            "3320/3320 [==============================] - 1s 350us/step - loss: 0.6161 - acc: 0.6693 - val_loss: 0.6127 - val_acc: 0.6861\n",
            "Epoch 6/30\n",
            "3320/3320 [==============================] - 1s 322us/step - loss: 0.5976 - acc: 0.6949 - val_loss: 0.5989 - val_acc: 0.7052\n",
            "Epoch 7/30\n",
            "3320/3320 [==============================] - 1s 310us/step - loss: 0.5841 - acc: 0.7163 - val_loss: 0.5874 - val_acc: 0.7183\n",
            "Epoch 8/30\n",
            "3320/3320 [==============================] - 1s 352us/step - loss: 0.5733 - acc: 0.7253 - val_loss: 0.5759 - val_acc: 0.7380\n",
            "Epoch 9/30\n",
            "3320/3320 [==============================] - 1s 332us/step - loss: 0.5620 - acc: 0.7331 - val_loss: 0.5666 - val_acc: 0.7353\n",
            "Epoch 10/30\n",
            "3320/3320 [==============================] - 1s 309us/step - loss: 0.5431 - acc: 0.7485 - val_loss: 0.5544 - val_acc: 0.7467\n",
            "Epoch 11/30\n",
            "3320/3320 [==============================] - 1s 321us/step - loss: 0.5319 - acc: 0.7702 - val_loss: 0.5445 - val_acc: 0.7620\n",
            "Epoch 12/30\n",
            "3320/3320 [==============================] - 1s 314us/step - loss: 0.5194 - acc: 0.7675 - val_loss: 0.5353 - val_acc: 0.7767\n",
            "Epoch 13/30\n",
            "3320/3320 [==============================] - 1s 320us/step - loss: 0.5086 - acc: 0.7804 - val_loss: 0.5256 - val_acc: 0.7718\n",
            "Epoch 14/30\n",
            "3320/3320 [==============================] - 1s 325us/step - loss: 0.4971 - acc: 0.7819 - val_loss: 0.5265 - val_acc: 0.7593\n",
            "Epoch 15/30\n",
            "3320/3320 [==============================] - 1s 309us/step - loss: 0.4881 - acc: 0.7961 - val_loss: 0.5143 - val_acc: 0.7615\n",
            "Epoch 16/30\n",
            "3320/3320 [==============================] - 1s 362us/step - loss: 0.4802 - acc: 0.8018 - val_loss: 0.5049 - val_acc: 0.7855\n",
            "Epoch 17/30\n",
            "3320/3320 [==============================] - 1s 339us/step - loss: 0.4657 - acc: 0.8114 - val_loss: 0.4950 - val_acc: 0.7860\n",
            "Epoch 18/30\n",
            "3320/3320 [==============================] - 1s 317us/step - loss: 0.4567 - acc: 0.8084 - val_loss: 0.4905 - val_acc: 0.7893\n",
            "Epoch 19/30\n",
            "3320/3320 [==============================] - 1s 307us/step - loss: 0.4479 - acc: 0.8253 - val_loss: 0.4783 - val_acc: 0.8029\n",
            "Epoch 20/30\n",
            "3320/3320 [==============================] - 1s 319us/step - loss: 0.4401 - acc: 0.8289 - val_loss: 0.4688 - val_acc: 0.8155\n",
            "Epoch 21/30\n",
            "3320/3320 [==============================] - 1s 313us/step - loss: 0.4322 - acc: 0.8395 - val_loss: 0.4671 - val_acc: 0.7986\n",
            "Epoch 22/30\n",
            "3320/3320 [==============================] - 1s 312us/step - loss: 0.4248 - acc: 0.8449 - val_loss: 0.4591 - val_acc: 0.8100\n",
            "Epoch 23/30\n",
            "3320/3320 [==============================] - 1s 330us/step - loss: 0.4161 - acc: 0.8470 - val_loss: 0.4502 - val_acc: 0.8248\n",
            "Epoch 24/30\n",
            "3320/3320 [==============================] - 1s 346us/step - loss: 0.4051 - acc: 0.8524 - val_loss: 0.4429 - val_acc: 0.8237\n",
            "Epoch 25/30\n",
            "3320/3320 [==============================] - 1s 325us/step - loss: 0.3952 - acc: 0.8557 - val_loss: 0.4398 - val_acc: 0.8155\n",
            "Epoch 26/30\n",
            "3320/3320 [==============================] - 1s 321us/step - loss: 0.3914 - acc: 0.8533 - val_loss: 0.4347 - val_acc: 0.8270\n",
            "Epoch 27/30\n",
            "3320/3320 [==============================] - 1s 316us/step - loss: 0.3819 - acc: 0.8611 - val_loss: 0.4249 - val_acc: 0.8286\n",
            "Epoch 28/30\n",
            "3320/3320 [==============================] - 1s 319us/step - loss: 0.3739 - acc: 0.8690 - val_loss: 0.4227 - val_acc: 0.8368\n",
            "Epoch 29/30\n",
            "3320/3320 [==============================] - 1s 338us/step - loss: 0.3701 - acc: 0.8726 - val_loss: 0.4136 - val_acc: 0.8368\n",
            "Epoch 30/30\n",
            "3320/3320 [==============================] - 1s 347us/step - loss: 0.3637 - acc: 0.8708 - val_loss: 0.4114 - val_acc: 0.8319\n"
          ],
          "name": "stdout"
        }
      ]
    },
    {
      "cell_type": "code",
      "metadata": {
        "id": "ZdYGJv7LBJu2",
        "colab_type": "code",
        "outputId": "22f4dc83-1823-4a15-a054-94b14cb07f59",
        "colab": {
          "base_uri": "https://localhost:8080/",
          "height": 545
        }
      },
      "source": [
        "import matplotlib.pyplot as plt\n",
        "acc = history.history['acc']\n",
        "val_acc = history.history['val_acc']\n",
        "loss = history.history['loss']\n",
        "val_loss = history.history['val_loss']\n",
        "epochs = range(1, len(acc) + 1)\n",
        "plt.plot(epochs, acc, 'bo', label='Training acc')\n",
        "plt.plot(epochs, val_acc, 'b', label='Validation acc')\n",
        "plt.title('Training and validation accuracy')\n",
        "plt.legend()\n",
        "plt.figure()\n",
        "plt.plot(epochs, loss, 'bo', label='Training loss')\n",
        "plt.plot(epochs, val_loss, 'b', label='Validation loss')\n",
        "plt.title('Training and validation loss')\n",
        "plt.legend()\n",
        "plt.show()"
      ],
      "execution_count": 0,
      "outputs": [
        {
          "output_type": "display_data",
          "data": {
            "image/png": "[encoded data removed]",
            "text/plain": [
              "<Figure size 432x288 with 1 Axes>"
            ]
          },
          "metadata": {
            "tags": []
          }
        },
        {
          "output_type": "display_data",
          "data": {
            "image/png": "[encoded data removed]",
            "text/plain": [
              "<Figure size 432x288 with 1 Axes>"
            ]
          },
          "metadata": {
            "tags": []
          }
        }
      ]
    },
    {
      "cell_type": "code",
      "metadata": {
        "id": "DjWWMw04sh8q",
        "colab_type": "code",
        "colab": {}
      },
      "source": [
        "from keras import models\n",
        "from keras import layers\n",
        "model = models.Sequential()\n",
        "model.add(conv_base)\n",
        "model.add(layers.Flatten())\n",
        "model.add(layers.Dense(256, activation='relu'))\n",
        "model.add(layers.Dense(1, activation='sigmoid'))"
      ],
      "execution_count": 0,
      "outputs": []
    },
    {
      "cell_type": "code",
      "metadata": {
        "id": "A5-3mqokcL3E",
        "colab_type": "code",
        "outputId": "bea261a8-f638-4b65-91a2-d48226f1206c",
        "colab": {
          "base_uri": "https://localhost:8080/",
          "height": 311
        }
      },
      "source": [
        "model.summary()"
      ],
      "execution_count": 0,
      "outputs": [
        {
          "output_type": "stream",
          "text": [
            "Model: \"sequential_2\"\n",
            "_________________________________________________________________\n",
            "Layer (type)                 Output Shape              Param #   \n",
            "=================================================================\n",
            "vgg16 (Model)                (None, 4, 4, 512)         14714688  \n",
            "_________________________________________________________________\n",
            "flatten_1 (Flatten)          (None, 8192)              0         \n",
            "_________________________________________________________________\n",
            "dense_3 (Dense)              (None, 256)               2097408   \n",
            "_________________________________________________________________\n",
            "dense_4 (Dense)              (None, 1)                 257       \n",
            "=================================================================\n",
            "Total params: 16,812,353\n",
            "Trainable params: 16,812,353\n",
            "Non-trainable params: 0\n",
            "_________________________________________________________________\n"
          ],
          "name": "stdout"
        }
      ]
    },
    {
      "cell_type": "code",
      "metadata": {
        "id": "r53fwHtdcON9",
        "colab_type": "code",
        "outputId": "438185e0-d723-47a5-a183-0afc20971fd9",
        "colab": {
          "base_uri": "https://localhost:8080/",
          "height": 1000
        }
      },
      "source": [
        "from keras.preprocessing.image import ImageDataGenerator\n",
        "from keras import optimizers\n",
        "train_datagen = ImageDataGenerator(\n",
        "rescale=1./255,\n",
        "rotation_range=40,\n",
        "width_shift_range=0.2,\n",
        "height_shift_range=0.2,\n",
        "shear_range=0.2,\n",
        "zoom_range=0.2,\n",
        "horizontal_flip=True,\n",
        "fill_mode='nearest')\n",
        "test_datagen = ImageDataGenerator(rescale=1./255)\n",
        "train_generator = train_datagen.flow_from_directory(\n",
        "train_dir,\n",
        "target_size=(150, 150),\n",
        "batch_size=20,\n",
        "class_mode='binary')\n",
        "validation_generator = test_datagen.flow_from_directory(\n",
        "validation_dir,\n",
        "target_size=(150, 150),\n",
        "batch_size=20,\n",
        "class_mode='binary')\n",
        "model.compile(loss='binary_crossentropy',\n",
        "optimizer=optimizers.RMSprop(lr=2e-5),\n",
        "metrics=['acc'])\n",
        "history = model.fit_generator(\n",
        "train_generator,\n",
        "steps_per_epoch=100,\n",
        "epochs=30,\n",
        "validation_data=validation_generator,\n",
        "validation_steps=50)"
      ],
      "execution_count": 0,
      "outputs": [
        {
          "output_type": "stream",
          "text": [
            "Found 3320 images belonging to 2 classes.\n",
            "Found 1832 images belonging to 2 classes.\n",
            "Epoch 1/30\n",
            "100/100 [==============================] - 54s 544ms/step - loss: 0.6958 - acc: 0.5280 - val_loss: 0.6873 - val_acc: 0.5630\n",
            "Epoch 2/30\n",
            "100/100 [==============================] - 50s 497ms/step - loss: 0.6950 - acc: 0.5250 - val_loss: 0.6902 - val_acc: 0.5272\n",
            "Epoch 3/30\n",
            "100/100 [==============================] - 50s 495ms/step - loss: 0.6946 - acc: 0.5145 - val_loss: 0.6865 - val_acc: 0.5570\n",
            "Epoch 4/30\n",
            "100/100 [==============================] - 50s 499ms/step - loss: 0.6911 - acc: 0.5315 - val_loss: 0.6903 - val_acc: 0.5565\n",
            "Epoch 5/30\n",
            "100/100 [==============================] - 50s 503ms/step - loss: 0.6915 - acc: 0.5380 - val_loss: 0.7037 - val_acc: 0.5400\n",
            "Epoch 6/30\n",
            "100/100 [==============================] - 50s 497ms/step - loss: 0.6898 - acc: 0.5445 - val_loss: 0.6945 - val_acc: 0.4839\n",
            "Epoch 7/30\n",
            "100/100 [==============================] - 50s 497ms/step - loss: 0.6852 - acc: 0.5515 - val_loss: 0.6788 - val_acc: 0.5520\n",
            "Epoch 8/30\n",
            "100/100 [==============================] - 50s 499ms/step - loss: 0.6890 - acc: 0.5395 - val_loss: 0.6819 - val_acc: 0.5796\n",
            "Epoch 9/30\n",
            "100/100 [==============================] - 50s 503ms/step - loss: 0.6787 - acc: 0.5550 - val_loss: 0.6545 - val_acc: 0.6250\n",
            "Epoch 10/30\n",
            "100/100 [==============================] - 50s 504ms/step - loss: 0.6557 - acc: 0.6085 - val_loss: 0.6444 - val_acc: 0.6482\n",
            "Epoch 11/30\n",
            "100/100 [==============================] - 51s 506ms/step - loss: 0.6175 - acc: 0.6505 - val_loss: 0.5943 - val_acc: 0.6800\n",
            "Epoch 12/30\n",
            "100/100 [==============================] - 51s 508ms/step - loss: 0.5567 - acc: 0.7010 - val_loss: 0.4456 - val_acc: 0.7802\n",
            "Epoch 13/30\n",
            "100/100 [==============================] - 50s 502ms/step - loss: 0.5510 - acc: 0.7045 - val_loss: 0.4193 - val_acc: 0.8065\n",
            "Epoch 14/30\n",
            "100/100 [==============================] - 50s 503ms/step - loss: 0.4804 - acc: 0.7670 - val_loss: 0.3592 - val_acc: 0.8130\n",
            "Epoch 15/30\n",
            "100/100 [==============================] - 50s 502ms/step - loss: 0.4638 - acc: 0.7680 - val_loss: 0.3525 - val_acc: 0.8710\n",
            "Epoch 16/30\n",
            "100/100 [==============================] - 50s 503ms/step - loss: 0.4209 - acc: 0.7975 - val_loss: 0.2984 - val_acc: 0.8830\n",
            "Epoch 17/30\n",
            "100/100 [==============================] - 51s 506ms/step - loss: 0.3756 - acc: 0.8295 - val_loss: 0.2674 - val_acc: 0.8841\n",
            "Epoch 18/30\n",
            "100/100 [==============================] - 50s 505ms/step - loss: 0.3326 - acc: 0.8410 - val_loss: 0.2495 - val_acc: 0.8700\n",
            "Epoch 19/30\n",
            "100/100 [==============================] - 50s 502ms/step - loss: 0.3119 - acc: 0.8505 - val_loss: 0.1759 - val_acc: 0.9163\n",
            "Epoch 20/30\n",
            "100/100 [==============================] - 50s 503ms/step - loss: 0.3012 - acc: 0.8630 - val_loss: 0.2360 - val_acc: 0.8980\n",
            "Epoch 21/30\n",
            "100/100 [==============================] - 51s 507ms/step - loss: 0.2852 - acc: 0.8785 - val_loss: 0.1742 - val_acc: 0.9244\n",
            "Epoch 22/30\n",
            "100/100 [==============================] - 50s 505ms/step - loss: 0.2622 - acc: 0.8900 - val_loss: 0.3112 - val_acc: 0.8730\n",
            "Epoch 23/30\n",
            "100/100 [==============================] - 51s 513ms/step - loss: 0.2479 - acc: 0.8800 - val_loss: 0.1721 - val_acc: 0.9214\n",
            "Epoch 24/30\n",
            "100/100 [==============================] - 50s 500ms/step - loss: 0.2348 - acc: 0.8970 - val_loss: 0.1348 - val_acc: 0.9476\n",
            "Epoch 25/30\n",
            "100/100 [==============================] - 50s 503ms/step - loss: 0.2151 - acc: 0.9105 - val_loss: 0.1657 - val_acc: 0.9280\n",
            "Epoch 26/30\n",
            "100/100 [==============================] - 50s 500ms/step - loss: 0.2200 - acc: 0.8985 - val_loss: 0.1023 - val_acc: 0.9587\n",
            "Epoch 27/30\n",
            "100/100 [==============================] - 50s 499ms/step - loss: 0.2050 - acc: 0.9100 - val_loss: 0.1126 - val_acc: 0.9550\n",
            "Epoch 28/30\n",
            "100/100 [==============================] - 50s 499ms/step - loss: 0.1821 - acc: 0.9240 - val_loss: 0.1283 - val_acc: 0.9476\n",
            "Epoch 29/30\n",
            "100/100 [==============================] - 50s 504ms/step - loss: 0.1831 - acc: 0.9260 - val_loss: 0.0919 - val_acc: 0.9630\n",
            "Epoch 30/30\n",
            "100/100 [==============================] - 50s 497ms/step - loss: 0.1825 - acc: 0.9365 - val_loss: 0.1155 - val_acc: 0.9526\n"
          ],
          "name": "stdout"
        }
      ]
    },
    {
      "cell_type": "code",
      "metadata": {
        "id": "U7--W__dKxgY",
        "colab_type": "code",
        "outputId": "ee616408-d2b9-455d-80f6-acf4fd710a33",
        "colab": {
          "base_uri": "https://localhost:8080/",
          "height": 545
        }
      },
      "source": [
        "import matplotlib.pyplot as plt\n",
        "acc = history.history['acc']\n",
        "val_acc = history.history['val_acc']\n",
        "loss = history.history['loss']\n",
        "val_loss = history.history['val_loss']\n",
        "epochs = range(1, len(acc) + 1)\n",
        "plt.plot(epochs, acc, 'bo', label='Training acc')\n",
        "plt.plot(epochs, val_acc, 'b', label='Validation acc')\n",
        "plt.title('Training and validation accuracy')\n",
        "plt.legend()\n",
        "plt.figure()\n",
        "plt.plot(epochs, loss, 'bo', label='Training loss')\n",
        "plt.plot(epochs, val_loss, 'b', label='Validation loss')\n",
        "plt.title('Training and validation loss')\n",
        "plt.legend()\n",
        "plt.show()"
      ],
      "execution_count": 0,
      "outputs": [
        {
          "output_type": "display_data",
          "data": {
            "image/png": "[encoded data removed]",
            "text/plain": [
              "<Figure size 432x288 with 1 Axes>"
            ]
          },
          "metadata": {
            "tags": []
          }
        },
        {
          "output_type": "display_data",
          "data": {
            "image/png": "[encoded data removed]",
            "text/plain": [
              "<Figure size 432x288 with 1 Axes>"
            ]
          },
          "metadata": {
            "tags": []
          }
        }
      ]
    },
    {
      "cell_type": "code",
      "metadata": {
        "id": "g-KfyWrPOL2W",
        "colab_type": "code",
        "outputId": "d6b49d6e-ae83-47ec-ba5e-c5942e494a5b",
        "colab": {
          "base_uri": "https://localhost:8080/",
          "height": 862
        }
      },
      "source": [
        "conv_base.summary()"
      ],
      "execution_count": 0,
      "outputs": [
        {
          "output_type": "stream",
          "text": [
            "Model: \"vgg16\"\n",
            "_________________________________________________________________\n",
            "Layer (type)                 Output Shape              Param #   \n",
            "=================================================================\n",
            "input_1 (InputLayer)         (None, 150, 150, 3)       0         \n",
            "_________________________________________________________________\n",
            "block1_conv1 (Conv2D)        (None, 150, 150, 64)      1792      \n",
            "_________________________________________________________________\n",
            "block1_conv2 (Conv2D)        (None, 150, 150, 64)      36928     \n",
            "_________________________________________________________________\n",
            "block1_pool (MaxPooling2D)   (None, 75, 75, 64)        0         \n",
            "_________________________________________________________________\n",
            "block2_conv1 (Conv2D)        (None, 75, 75, 128)       73856     \n",
            "_________________________________________________________________\n",
            "block2_conv2 (Conv2D)        (None, 75, 75, 128)       147584    \n",
            "_________________________________________________________________\n",
            "block2_pool (MaxPooling2D)   (None, 37, 37, 128)       0         \n",
            "_________________________________________________________________\n",
            "block3_conv1 (Conv2D)        (None, 37, 37, 256)       295168    \n",
            "_________________________________________________________________\n",
            "block3_conv2 (Conv2D)        (None, 37, 37, 256)       590080    \n",
            "_________________________________________________________________\n",
            "block3_conv3 (Conv2D)        (None, 37, 37, 256)       590080    \n",
            "_________________________________________________________________\n",
            "block3_pool (MaxPooling2D)   (None, 18, 18, 256)       0         \n",
            "_________________________________________________________________\n",
            "block4_conv1 (Conv2D)        (None, 18, 18, 512)       1180160   \n",
            "_________________________________________________________________\n",
            "block4_conv2 (Conv2D)        (None, 18, 18, 512)       2359808   \n",
            "_________________________________________________________________\n",
            "block4_conv3 (Conv2D)        (None, 18, 18, 512)       2359808   \n",
            "_________________________________________________________________\n",
            "block4_pool (MaxPooling2D)   (None, 9, 9, 512)         0         \n",
            "_________________________________________________________________\n",
            "block5_conv1 (Conv2D)        (None, 9, 9, 512)         2359808   \n",
            "_________________________________________________________________\n",
            "block5_conv2 (Conv2D)        (None, 9, 9, 512)         2359808   \n",
            "_________________________________________________________________\n",
            "block5_conv3 (Conv2D)        (None, 9, 9, 512)         2359808   \n",
            "_________________________________________________________________\n",
            "block5_pool (MaxPooling2D)   (None, 4, 4, 512)         0         \n",
            "=================================================================\n",
            "Total params: 14,714,688\n",
            "Trainable params: 14,714,688\n",
            "Non-trainable params: 0\n",
            "_________________________________________________________________\n"
          ],
          "name": "stdout"
        }
      ]
    },
    {
      "cell_type": "code",
      "metadata": {
        "id": "uByUG_dvxK9T",
        "colab_type": "code",
        "outputId": "9f3f6bdc-f3aa-4fa5-e999-0f4f101c0929",
        "colab": {
          "base_uri": "https://localhost:8080/",
          "height": 54
        }
      },
      "source": [
        "test_generator = test_datagen.flow_from_directory(\n",
        "    test_dir,\n",
        "    target_size=(150, 150),\n",
        "    batch_size=20,\n",
        "    class_mode='binary')\n",
        "test_loss, test_acc = model.evaluate_generator(test_generator, steps=50)\n",
        "print('test acc:', test_acc)"
      ],
      "execution_count": 0,
      "outputs": [
        {
          "output_type": "stream",
          "text": [
            "Found 1096 images belonging to 2 classes.\n",
            "test acc: 0.9369999897480011\n"
          ],
          "name": "stdout"
        }
      ]
    },
    {
      "cell_type": "code",
      "metadata": {
        "id": "R_NOF39wOXvq",
        "colab_type": "code",
        "colab": {}
      },
      "source": [
        "conv_base.trainable = True\n",
        "set_trainable = False\n",
        "for layer in conv_base.layers:\n",
        "  if layer.name == 'block5_conv1':\n",
        "    set_trainable = True\n",
        "  if set_trainable:\n",
        "    layer.trainable = True\n",
        "  else:\n",
        "    layer.trainable = False"
      ],
      "execution_count": 0,
      "outputs": []
    },
    {
      "cell_type": "code",
      "metadata": {
        "id": "AGtsgng_OmgP",
        "colab_type": "code",
        "outputId": "d0ae5728-4f79-4b4b-ce49-6743c1f88cb9",
        "colab": {
          "base_uri": "https://localhost:8080/",
          "height": 1000
        }
      },
      "source": [
        "model.compile(loss='binary_crossentropy',\n",
        "    optimizer=optimizers.RMSprop(lr=1e-5),\n",
        "    metrics=['acc'])\n",
        "history = model.fit_generator(\n",
        "    train_generator,\n",
        "    steps_per_epoch=100,\n",
        "    epochs=100,\n",
        "    validation_data=validation_generator,\n",
        "    validation_steps=50)"
      ],
      "execution_count": 0,
      "outputs": [
        {
          "output_type": "stream",
          "text": [
            "Epoch 1/100\n",
            "100/100 [==============================] - 52s 522ms/step - loss: 0.1269 - acc: 0.9445 - val_loss: 0.0686 - val_acc: 0.9700\n",
            "Epoch 2/100\n",
            "100/100 [==============================] - 48s 476ms/step - loss: 0.0949 - acc: 0.9575 - val_loss: 0.0919 - val_acc: 0.9667\n",
            "Epoch 3/100\n",
            "100/100 [==============================] - 48s 481ms/step - loss: 0.1070 - acc: 0.9595 - val_loss: 0.0745 - val_acc: 0.9730\n",
            "Epoch 4/100\n",
            "100/100 [==============================] - 48s 481ms/step - loss: 0.0920 - acc: 0.9625 - val_loss: 0.0570 - val_acc: 0.9808\n",
            "Epoch 5/100\n",
            "100/100 [==============================] - 49s 488ms/step - loss: 0.0923 - acc: 0.9570 - val_loss: 0.0758 - val_acc: 0.9750\n",
            "Epoch 6/100\n",
            "100/100 [==============================] - 48s 481ms/step - loss: 0.0883 - acc: 0.9645 - val_loss: 0.0696 - val_acc: 0.9778\n",
            "Epoch 7/100\n",
            "100/100 [==============================] - 49s 486ms/step - loss: 0.0927 - acc: 0.9585 - val_loss: 0.0603 - val_acc: 0.9790\n",
            "Epoch 8/100\n",
            "100/100 [==============================] - 49s 485ms/step - loss: 0.0780 - acc: 0.9665 - val_loss: 0.0634 - val_acc: 0.9768\n",
            "Epoch 9/100\n",
            "100/100 [==============================] - 49s 488ms/step - loss: 0.0818 - acc: 0.9680 - val_loss: 0.0448 - val_acc: 0.9820\n",
            "Epoch 10/100\n",
            "100/100 [==============================] - 49s 486ms/step - loss: 0.0793 - acc: 0.9690 - val_loss: 0.0644 - val_acc: 0.9798\n",
            "Epoch 11/100\n",
            "100/100 [==============================] - 48s 478ms/step - loss: 0.0753 - acc: 0.9675 - val_loss: 0.0681 - val_acc: 0.9770\n",
            "Epoch 12/100\n",
            "100/100 [==============================] - 49s 487ms/step - loss: 0.0884 - acc: 0.9635 - val_loss: 0.0474 - val_acc: 0.9808\n",
            "Epoch 13/100\n",
            "100/100 [==============================] - 48s 480ms/step - loss: 0.0666 - acc: 0.9720 - val_loss: 0.0770 - val_acc: 0.9728\n",
            "Epoch 14/100\n",
            "100/100 [==============================] - 48s 483ms/step - loss: 0.0764 - acc: 0.9660 - val_loss: 0.0460 - val_acc: 0.9850\n",
            "Epoch 15/100\n",
            "100/100 [==============================] - 48s 481ms/step - loss: 0.0751 - acc: 0.9725 - val_loss: 0.0657 - val_acc: 0.9758\n",
            "Epoch 16/100\n",
            "100/100 [==============================] - 48s 475ms/step - loss: 0.0832 - acc: 0.9630 - val_loss: 0.0516 - val_acc: 0.9790\n",
            "Epoch 17/100\n",
            "100/100 [==============================] - 48s 479ms/step - loss: 0.0759 - acc: 0.9655 - val_loss: 0.0314 - val_acc: 0.9879\n",
            "Epoch 18/100\n",
            "100/100 [==============================] - 48s 481ms/step - loss: 0.0652 - acc: 0.9745 - val_loss: 0.0747 - val_acc: 0.9710\n",
            "Epoch 19/100\n",
            "100/100 [==============================] - 47s 475ms/step - loss: 0.0748 - acc: 0.9690 - val_loss: 0.0581 - val_acc: 0.9748\n",
            "Epoch 20/100\n",
            "100/100 [==============================] - 48s 482ms/step - loss: 0.0695 - acc: 0.9715 - val_loss: 0.0400 - val_acc: 0.9880\n",
            "Epoch 21/100\n",
            "100/100 [==============================] - 48s 476ms/step - loss: 0.0655 - acc: 0.9735 - val_loss: 0.0480 - val_acc: 0.9819\n",
            "Epoch 22/100\n",
            "100/100 [==============================] - 48s 479ms/step - loss: 0.0772 - acc: 0.9665 - val_loss: 0.0476 - val_acc: 0.9780\n",
            "Epoch 23/100\n",
            "100/100 [==============================] - 48s 481ms/step - loss: 0.0642 - acc: 0.9695 - val_loss: 0.0384 - val_acc: 0.9879\n",
            "Epoch 24/100\n",
            "100/100 [==============================] - 48s 482ms/step - loss: 0.0552 - acc: 0.9770 - val_loss: 0.0401 - val_acc: 0.9819\n",
            "Epoch 25/100\n",
            "100/100 [==============================] - 48s 484ms/step - loss: 0.0557 - acc: 0.9780 - val_loss: 0.0351 - val_acc: 0.9870\n",
            "Epoch 26/100\n",
            "100/100 [==============================] - 48s 479ms/step - loss: 0.0467 - acc: 0.9805 - val_loss: 0.0465 - val_acc: 0.9859\n",
            "Epoch 27/100\n",
            "100/100 [==============================] - 48s 481ms/step - loss: 0.0701 - acc: 0.9700 - val_loss: 0.0388 - val_acc: 0.9860\n",
            "Epoch 28/100\n",
            "100/100 [==============================] - 48s 477ms/step - loss: 0.0471 - acc: 0.9825 - val_loss: 0.0492 - val_acc: 0.9859\n",
            "Epoch 29/100\n",
            "100/100 [==============================] - 48s 481ms/step - loss: 0.0582 - acc: 0.9760 - val_loss: 0.0354 - val_acc: 0.9870\n",
            "Epoch 30/100\n",
            "100/100 [==============================] - 48s 479ms/step - loss: 0.0648 - acc: 0.9750 - val_loss: 0.0356 - val_acc: 0.9899\n",
            "Epoch 31/100\n",
            "100/100 [==============================] - 48s 480ms/step - loss: 0.0610 - acc: 0.9720 - val_loss: 0.0339 - val_acc: 0.9880\n",
            "Epoch 32/100\n",
            "100/100 [==============================] - 48s 475ms/step - loss: 0.0621 - acc: 0.9780 - val_loss: 0.0379 - val_acc: 0.9899\n",
            "Epoch 33/100\n",
            "100/100 [==============================] - 48s 475ms/step - loss: 0.0569 - acc: 0.9765 - val_loss: 0.0287 - val_acc: 0.9880\n",
            "Epoch 34/100\n",
            "100/100 [==============================] - 48s 478ms/step - loss: 0.0569 - acc: 0.9760 - val_loss: 0.0369 - val_acc: 0.9869\n",
            "Epoch 35/100\n",
            "100/100 [==============================] - 48s 479ms/step - loss: 0.0519 - acc: 0.9810 - val_loss: 0.0395 - val_acc: 0.9879\n",
            "Epoch 36/100\n",
            "100/100 [==============================] - 48s 478ms/step - loss: 0.0597 - acc: 0.9785 - val_loss: 0.0395 - val_acc: 0.9840\n",
            "Epoch 37/100\n",
            "100/100 [==============================] - 48s 477ms/step - loss: 0.0584 - acc: 0.9745 - val_loss: 0.0265 - val_acc: 0.9919\n",
            "Epoch 38/100\n",
            "100/100 [==============================] - 48s 478ms/step - loss: 0.0495 - acc: 0.9820 - val_loss: 0.0221 - val_acc: 0.9930\n",
            "Epoch 39/100\n",
            "100/100 [==============================] - 47s 475ms/step - loss: 0.0579 - acc: 0.9775 - val_loss: 0.0377 - val_acc: 0.9839\n",
            "Epoch 40/100\n",
            "100/100 [==============================] - 48s 477ms/step - loss: 0.0590 - acc: 0.9790 - val_loss: 0.0279 - val_acc: 0.9890\n",
            "Epoch 41/100\n",
            "100/100 [==============================] - 48s 476ms/step - loss: 0.0465 - acc: 0.9775 - val_loss: 0.0426 - val_acc: 0.9859\n",
            "Epoch 42/100\n",
            "100/100 [==============================] - 48s 480ms/step - loss: 0.0381 - acc: 0.9850 - val_loss: 0.0307 - val_acc: 0.9880\n",
            "Epoch 43/100\n",
            "100/100 [==============================] - 48s 478ms/step - loss: 0.0581 - acc: 0.9780 - val_loss: 0.0315 - val_acc: 0.9859\n",
            "Epoch 44/100\n",
            "100/100 [==============================] - 48s 482ms/step - loss: 0.0525 - acc: 0.9750 - val_loss: 0.0277 - val_acc: 0.9900\n",
            "Epoch 45/100\n",
            "100/100 [==============================] - 48s 481ms/step - loss: 0.0561 - acc: 0.9780 - val_loss: 0.0228 - val_acc: 0.9909\n",
            "Epoch 46/100\n",
            "100/100 [==============================] - 48s 483ms/step - loss: 0.0386 - acc: 0.9850 - val_loss: 0.0351 - val_acc: 0.9859\n",
            "Epoch 47/100\n",
            "100/100 [==============================] - 48s 477ms/step - loss: 0.0551 - acc: 0.9775 - val_loss: 0.0216 - val_acc: 0.9950\n",
            "Epoch 48/100\n",
            "100/100 [==============================] - 49s 487ms/step - loss: 0.0408 - acc: 0.9815 - val_loss: 0.0307 - val_acc: 0.9829\n",
            "Epoch 49/100\n",
            "100/100 [==============================] - 50s 504ms/step - loss: 0.0512 - acc: 0.9780 - val_loss: 0.0207 - val_acc: 0.9920\n",
            "Epoch 50/100\n",
            "100/100 [==============================] - 49s 485ms/step - loss: 0.0405 - acc: 0.9830 - val_loss: 0.0336 - val_acc: 0.9899\n",
            "Epoch 51/100\n",
            "100/100 [==============================] - 48s 485ms/step - loss: 0.0465 - acc: 0.9800 - val_loss: 0.0463 - val_acc: 0.9870\n",
            "Epoch 52/100\n",
            "100/100 [==============================] - 49s 486ms/step - loss: 0.0466 - acc: 0.9850 - val_loss: 0.0147 - val_acc: 0.9919\n",
            "Epoch 53/100\n",
            "100/100 [==============================] - 48s 481ms/step - loss: 0.0398 - acc: 0.9835 - val_loss: 0.0263 - val_acc: 0.9880\n",
            "Epoch 54/100\n",
            "100/100 [==============================] - 48s 479ms/step - loss: 0.0470 - acc: 0.9795 - val_loss: 0.0592 - val_acc: 0.9768\n",
            "Epoch 55/100\n",
            "100/100 [==============================] - 48s 483ms/step - loss: 0.0429 - acc: 0.9815 - val_loss: 0.0215 - val_acc: 0.9910\n",
            "Epoch 56/100\n",
            "100/100 [==============================] - 49s 488ms/step - loss: 0.0419 - acc: 0.9875 - val_loss: 0.0169 - val_acc: 0.9940\n",
            "Epoch 57/100\n",
            "100/100 [==============================] - 49s 486ms/step - loss: 0.0558 - acc: 0.9790 - val_loss: 0.0447 - val_acc: 0.9850\n",
            "Epoch 58/100\n",
            "100/100 [==============================] - 48s 481ms/step - loss: 0.0393 - acc: 0.9825 - val_loss: 0.0212 - val_acc: 0.9929\n",
            "Epoch 59/100\n",
            "100/100 [==============================] - 48s 481ms/step - loss: 0.0410 - acc: 0.9805 - val_loss: 0.0335 - val_acc: 0.9849\n",
            "Epoch 60/100\n",
            "100/100 [==============================] - 48s 479ms/step - loss: 0.0505 - acc: 0.9800 - val_loss: 0.0231 - val_acc: 0.9910\n",
            "Epoch 61/100\n",
            "100/100 [==============================] - 48s 481ms/step - loss: 0.0390 - acc: 0.9835 - val_loss: 0.0154 - val_acc: 0.9960\n",
            "Epoch 62/100\n",
            "100/100 [==============================] - 48s 480ms/step - loss: 0.0509 - acc: 0.9825 - val_loss: 0.0220 - val_acc: 0.9900\n",
            "Epoch 63/100\n",
            "100/100 [==============================] - 47s 471ms/step - loss: 0.0395 - acc: 0.9855 - val_loss: 0.0258 - val_acc: 0.9889\n",
            "Epoch 64/100\n",
            "100/100 [==============================] - 49s 492ms/step - loss: 0.0484 - acc: 0.9820 - val_loss: 0.0375 - val_acc: 0.9910\n",
            "Epoch 65/100\n",
            "100/100 [==============================] - 49s 490ms/step - loss: 0.0554 - acc: 0.9855 - val_loss: 0.0160 - val_acc: 0.9940\n",
            "Epoch 66/100\n",
            "100/100 [==============================] - 48s 483ms/step - loss: 0.0336 - acc: 0.9870 - val_loss: 0.0330 - val_acc: 0.9890\n",
            "Epoch 67/100\n",
            "100/100 [==============================] - 49s 486ms/step - loss: 0.0471 - acc: 0.9830 - val_loss: 0.0236 - val_acc: 0.9929\n",
            "Epoch 68/100\n",
            "100/100 [==============================] - 47s 472ms/step - loss: 0.0394 - acc: 0.9830 - val_loss: 0.0235 - val_acc: 0.9950\n",
            "Epoch 69/100\n",
            "100/100 [==============================] - 51s 510ms/step - loss: 0.0410 - acc: 0.9845 - val_loss: 0.0307 - val_acc: 0.9909\n",
            "Epoch 70/100\n",
            "100/100 [==============================] - 49s 487ms/step - loss: 0.0340 - acc: 0.9870 - val_loss: 0.0250 - val_acc: 0.9909\n",
            "Epoch 71/100\n",
            "100/100 [==============================] - 48s 482ms/step - loss: 0.0296 - acc: 0.9910 - val_loss: 0.0260 - val_acc: 0.9940\n",
            "Epoch 72/100\n",
            "100/100 [==============================] - 48s 480ms/step - loss: 0.0373 - acc: 0.9860 - val_loss: 0.0180 - val_acc: 0.9950\n",
            "Epoch 73/100\n",
            "100/100 [==============================] - 47s 467ms/step - loss: 0.0357 - acc: 0.9850 - val_loss: 0.0183 - val_acc: 0.9920\n",
            "Epoch 74/100\n",
            "100/100 [==============================] - 51s 506ms/step - loss: 0.0383 - acc: 0.9865 - val_loss: 0.0187 - val_acc: 0.9919\n",
            "Epoch 75/100\n",
            "100/100 [==============================] - 49s 486ms/step - loss: 0.0352 - acc: 0.9885 - val_loss: 0.0218 - val_acc: 0.9910\n",
            "Epoch 76/100\n",
            "100/100 [==============================] - 48s 485ms/step - loss: 0.0378 - acc: 0.9880 - val_loss: 0.0331 - val_acc: 0.9879\n",
            "Epoch 77/100\n",
            "100/100 [==============================] - 49s 487ms/step - loss: 0.0370 - acc: 0.9885 - val_loss: 0.0246 - val_acc: 0.9930\n",
            "Epoch 78/100\n",
            "100/100 [==============================] - 46s 462ms/step - loss: 0.0239 - acc: 0.9910 - val_loss: 0.0246 - val_acc: 0.9929\n",
            "Epoch 79/100\n",
            "100/100 [==============================] - 52s 518ms/step - loss: 0.0443 - acc: 0.9860 - val_loss: 0.0124 - val_acc: 0.9950\n",
            "Epoch 80/100\n",
            "100/100 [==============================] - 49s 490ms/step - loss: 0.0344 - acc: 0.9880 - val_loss: 0.0265 - val_acc: 0.9940\n",
            "Epoch 81/100\n",
            "100/100 [==============================] - 49s 489ms/step - loss: 0.0349 - acc: 0.9860 - val_loss: 0.0125 - val_acc: 0.9940\n",
            "Epoch 82/100\n",
            "100/100 [==============================] - 49s 489ms/step - loss: 0.0486 - acc: 0.9825 - val_loss: 0.0165 - val_acc: 0.9940\n",
            "Epoch 83/100\n",
            "100/100 [==============================] - 49s 486ms/step - loss: 0.0345 - acc: 0.9880 - val_loss: 0.0151 - val_acc: 0.9929\n",
            "Epoch 84/100\n",
            "100/100 [==============================] - 48s 482ms/step - loss: 0.0334 - acc: 0.9885 - val_loss: 0.0300 - val_acc: 0.9900\n",
            "Epoch 85/100\n",
            "100/100 [==============================] - 49s 487ms/step - loss: 0.0406 - acc: 0.9840 - val_loss: 0.0163 - val_acc: 0.9929\n",
            "Epoch 86/100\n",
            "100/100 [==============================] - 48s 483ms/step - loss: 0.0235 - acc: 0.9915 - val_loss: 0.0086 - val_acc: 0.9960\n",
            "Epoch 87/100\n",
            "100/100 [==============================] - 48s 482ms/step - loss: 0.0241 - acc: 0.9905 - val_loss: 0.0173 - val_acc: 0.9940\n",
            "Epoch 88/100\n",
            "100/100 [==============================] - 48s 484ms/step - loss: 0.0523 - acc: 0.9830 - val_loss: 0.0206 - val_acc: 0.9930\n",
            "Epoch 89/100\n",
            "100/100 [==============================] - 48s 483ms/step - loss: 0.0277 - acc: 0.9865 - val_loss: 0.0137 - val_acc: 0.9960\n",
            "Epoch 90/100\n",
            "100/100 [==============================] - 48s 483ms/step - loss: 0.0295 - acc: 0.9865 - val_loss: 0.0122 - val_acc: 0.9950\n",
            "Epoch 91/100\n",
            "100/100 [==============================] - 48s 481ms/step - loss: 0.0407 - acc: 0.9860 - val_loss: 0.0171 - val_acc: 0.9960\n",
            "Epoch 92/100\n",
            "100/100 [==============================] - 47s 472ms/step - loss: 0.0319 - acc: 0.9880 - val_loss: 0.0225 - val_acc: 0.9919\n",
            "Epoch 93/100\n",
            "100/100 [==============================] - 48s 479ms/step - loss: 0.0296 - acc: 0.9920 - val_loss: 0.0194 - val_acc: 0.9940\n",
            "Epoch 94/100\n",
            "100/100 [==============================] - 49s 489ms/step - loss: 0.0275 - acc: 0.9895 - val_loss: 0.0236 - val_acc: 0.9899\n",
            "Epoch 95/100\n",
            "100/100 [==============================] - 48s 479ms/step - loss: 0.0383 - acc: 0.9885 - val_loss: 0.0133 - val_acc: 0.9960\n",
            "Epoch 96/100\n",
            "100/100 [==============================] - 47s 474ms/step - loss: 0.0235 - acc: 0.9880 - val_loss: 0.0084 - val_acc: 0.9970\n",
            "Epoch 97/100\n",
            "100/100 [==============================] - 48s 476ms/step - loss: 0.0395 - acc: 0.9870 - val_loss: 0.0150 - val_acc: 0.9930\n",
            "Epoch 98/100\n",
            "100/100 [==============================] - 48s 476ms/step - loss: 0.0312 - acc: 0.9890 - val_loss: 0.0257 - val_acc: 0.9899\n",
            "Epoch 99/100\n",
            "100/100 [==============================] - 47s 474ms/step - loss: 0.0289 - acc: 0.9885 - val_loss: 0.0262 - val_acc: 0.9890\n",
            "Epoch 100/100\n",
            "100/100 [==============================] - 48s 475ms/step - loss: 0.0280 - acc: 0.9895 - val_loss: 0.0576 - val_acc: 0.9849\n"
          ],
          "name": "stdout"
        }
      ]
    },
    {
      "cell_type": "code",
      "metadata": {
        "id": "wA7GpfhVO41F",
        "colab_type": "code",
        "outputId": "12abf2f3-2c97-42ad-c6e7-e77c66a5a316",
        "colab": {
          "base_uri": "https://localhost:8080/",
          "height": 545
        }
      },
      "source": [
        "def smooth_curve(points, factor=0.1):\n",
        "  smoothed_points = []\n",
        "  for point in points:\n",
        "    if smoothed_points:\n",
        "      previous = smoothed_points[-1]\n",
        "      smoothed_points.append(previous * factor + point * (1 - factor))\n",
        "    else:\n",
        "        smoothed_points.append(point)\n",
        "  return smoothed_points\n",
        "plt.plot(epochs,\n",
        "  smooth_curve(acc), 'bo', label='Smoothed training acc')\n",
        "plt.plot(epochs,\n",
        "  smooth_curve(val_acc), 'b', label='Smoothed validation acc')\n",
        "plt.title('Training and validation accuracy')\n",
        "plt.legend()\n",
        "plt.figure()\n",
        "plt.plot(epochs,\n",
        "  smooth_curve(loss), 'bo', label='Smoothed training loss')\n",
        "plt.plot(epochs,\n",
        "  smooth_curve(val_loss), 'b', label='Smoothed validation loss')\n",
        "plt.title('Training and validation loss')\n",
        "plt.legend()\n",
        "plt.show()"
      ],
      "execution_count": 0,
      "outputs": [
        {
          "output_type": "display_data",
          "data": {
            "image/png": "[encoded data removed]",
            "text/plain": [
              "<Figure size 432x288 with 1 Axes>"
            ]
          },
          "metadata": {
            "tags": []
          }
        },
        {
          "output_type": "display_data",
          "data": {
            "image/png": "[encoded data removed]",
            "text/plain": [
              "<Figure size 432x288 with 1 Axes>"
            ]
          },
          "metadata": {
            "tags": []
          }
        }
      ]
    },
    {
      "cell_type": "code",
      "metadata": {
        "id": "Eardsd0WpHzA",
        "colab_type": "code",
        "outputId": "76a0c515-e80b-4f84-98fb-888ee2742879",
        "colab": {
          "base_uri": "https://localhost:8080/",
          "height": 54
        }
      },
      "source": [
        "test_generator = test_datagen.flow_from_directory(\n",
        "    test_dir,\n",
        "    target_size=(150, 150),\n",
        "    batch_size=20,\n",
        "    class_mode='binary')\n",
        "test_loss, test_acc = model.evaluate_generator(test_generator, steps=50)\n",
        "print('test acc:', test_acc)"
      ],
      "execution_count": 0,
      "outputs": [
        {
          "output_type": "stream",
          "text": [
            "Found 1096 images belonging to 2 classes.\n",
            "test acc: 0.9779999947547913\n"
          ],
          "name": "stdout"
        }
      ]
    },
    {
      "cell_type": "code",
      "metadata": {
        "id": "cjxmmPdfyWX4",
        "colab_type": "code",
        "colab": {}
      },
      "source": [
        ""
      ],
      "execution_count": 0,
      "outputs": []
    }
  ]
}