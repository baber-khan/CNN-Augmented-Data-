{
  "nbformat": 4,
  "nbformat_minor": 0,
  "metadata": {
    "colab": {
      "name": "CNN (Augmented Data).ipynb",
      "provenance": [],
      "collapsed_sections": []
    },
    "kernelspec": {
      "name": "python3",
      "display_name": "Python 3"
    },
    "accelerator": "GPU"
  },
  "cells": [
    {
      "cell_type": "code",
      "metadata": {
        "id": "lz_tma7gAlsn",
        "colab_type": "code",
        "outputId": "a0d8f179-4a26-4197-82a7-b442862ce90f",
        "colab": {
          "base_uri": "https://localhost:8080/",
          "height": 139
        }
      },
      "source": [
        "from google.colab import drive\n",
        "drive.mount('/content/Drive')\n",
        "!ls"
      ],
      "execution_count": 1,
      "outputs": [
        {
          "output_type": "stream",
          "text": [
            "Go to this URL in a browser: https://accounts.google.com/o/oauth2/auth?client_id=947318989803-6bn6qk8qdgf4n4g3pfee6491hc0brc4i.apps.googleusercontent.com&redirect_uri=urn%3aietf%3awg%3aoauth%3a2.0%3aoob&response_type=code&scope=email%20https%3a%2f%2fwww.googleapis.com%2fauth%2fdocs.test%20https%3a%2f%2fwww.googleapis.com%2fauth%2fdrive%20https%3a%2f%2fwww.googleapis.com%2fauth%2fdrive.photos.readonly%20https%3a%2f%2fwww.googleapis.com%2fauth%2fpeopleapi.readonly\n",
            "\n",
            "Enter your authorization code:\n",
            "··········\n",
            "Mounted at /content/Drive\n",
            "Drive  sample_data\n"
          ],
          "name": "stdout"
        }
      ]
    },
    {
      "cell_type": "code",
      "metadata": {
        "id": "RICAeU1MAsVT",
        "colab_type": "code",
        "outputId": "dc004fba-6824-4652-e7b6-3b3416a98073",
        "colab": {
          "base_uri": "https://localhost:8080/",
          "height": 34
        }
      },
      "source": [
        "import os\n",
        "os.getcwd()\n",
        "\n",
        "os.chdir('/content/Drive/My Drive/Colab Notebooks/Augmented')\n",
        "\n",
        "!ls  "
      ],
      "execution_count": 2,
      "outputs": [
        {
          "output_type": "stream",
          "text": [
            "Test  Training\tValidation\n"
          ],
          "name": "stdout"
        }
      ]
    },
    {
      "cell_type": "code",
      "metadata": {
        "id": "FfJp_AX0AvXj",
        "colab_type": "code",
        "outputId": "c25e3692-f235-44d3-9476-0f51082d3897",
        "colab": {
          "base_uri": "https://localhost:8080/",
          "height": 474
        }
      },
      "source": [
        "from keras.applications import VGG16\n",
        "conv_base = VGG16(weights='imagenet',\n",
        "include_top=False,\n",
        "input_shape=(150, 150, 3))"
      ],
      "execution_count": 4,
      "outputs": [
        {
          "output_type": "stream",
          "text": [
            "Using TensorFlow backend.\n"
          ],
          "name": "stderr"
        },
        {
          "output_type": "display_data",
          "data": {
            "text/html": [
              "<p style=\"color: red;\">\n",
              "The default version of TensorFlow in Colab will soon switch to TensorFlow 2.x.<br>\n",
              "We recommend you <a href=\"https://www.tensorflow.org/guide/migrate\" target=\"_blank\">upgrade</a> now \n",
              "or ensure your notebook will continue to use TensorFlow 1.x via the <code>%tensorflow_version 1.x</code> magic:\n",
              "<a href=\"https://colab.research.google.com/notebooks/tensorflow_version.ipynb\" target=\"_blank\">more info</a>.</p>\n"
            ],
            "text/plain": [
              "<IPython.core.display.HTML object>"
            ]
          },
          "metadata": {
            "tags": []
          }
        },
        {
          "output_type": "stream",
          "text": [
            "WARNING:tensorflow:From /usr/local/lib/python3.6/dist-packages/keras/backend/tensorflow_backend.py:66: The name tf.get_default_graph is deprecated. Please use tf.compat.v1.get_default_graph instead.\n",
            "\n",
            "WARNING:tensorflow:From /usr/local/lib/python3.6/dist-packages/keras/backend/tensorflow_backend.py:541: The name tf.placeholder is deprecated. Please use tf.compat.v1.placeholder instead.\n",
            "\n",
            "WARNING:tensorflow:From /usr/local/lib/python3.6/dist-packages/keras/backend/tensorflow_backend.py:4432: The name tf.random_uniform is deprecated. Please use tf.random.uniform instead.\n",
            "\n",
            "WARNING:tensorflow:From /usr/local/lib/python3.6/dist-packages/keras/backend/tensorflow_backend.py:4267: The name tf.nn.max_pool is deprecated. Please use tf.nn.max_pool2d instead.\n",
            "\n",
            "Downloading data from https://github.com/fchollet/deep-learning-models/releases/download/v0.1/vgg16_weights_tf_dim_ordering_tf_kernels_notop.h5\n",
            "58892288/58889256 [==============================] - 6s 0us/step\n",
            "WARNING:tensorflow:From /usr/local/lib/python3.6/dist-packages/keras/backend/tensorflow_backend.py:190: The name tf.get_default_session is deprecated. Please use tf.compat.v1.get_default_session instead.\n",
            "\n",
            "WARNING:tensorflow:From /usr/local/lib/python3.6/dist-packages/keras/backend/tensorflow_backend.py:197: The name tf.ConfigProto is deprecated. Please use tf.compat.v1.ConfigProto instead.\n",
            "\n",
            "WARNING:tensorflow:From /usr/local/lib/python3.6/dist-packages/keras/backend/tensorflow_backend.py:203: The name tf.Session is deprecated. Please use tf.compat.v1.Session instead.\n",
            "\n",
            "WARNING:tensorflow:From /usr/local/lib/python3.6/dist-packages/keras/backend/tensorflow_backend.py:207: The name tf.global_variables is deprecated. Please use tf.compat.v1.global_variables instead.\n",
            "\n",
            "WARNING:tensorflow:From /usr/local/lib/python3.6/dist-packages/keras/backend/tensorflow_backend.py:216: The name tf.is_variable_initialized is deprecated. Please use tf.compat.v1.is_variable_initialized instead.\n",
            "\n",
            "WARNING:tensorflow:From /usr/local/lib/python3.6/dist-packages/keras/backend/tensorflow_backend.py:223: The name tf.variables_initializer is deprecated. Please use tf.compat.v1.variables_initializer instead.\n",
            "\n"
          ],
          "name": "stdout"
        }
      ]
    },
    {
      "cell_type": "code",
      "metadata": {
        "id": "wNFzRnG6A17D",
        "colab_type": "code",
        "outputId": "bdbfdbb3-7090-4498-a4f4-41aeec9de7eb",
        "colab": {
          "base_uri": "https://localhost:8080/",
          "height": 799
        }
      },
      "source": [
        " conv_base.summary()"
      ],
      "execution_count": 5,
      "outputs": [
        {
          "output_type": "stream",
          "text": [
            "Model: \"vgg16\"\n",
            "_________________________________________________________________\n",
            "Layer (type)                 Output Shape              Param #   \n",
            "=================================================================\n",
            "input_1 (InputLayer)         (None, 150, 150, 3)       0         \n",
            "_________________________________________________________________\n",
            "block1_conv1 (Conv2D)        (None, 150, 150, 64)      1792      \n",
            "_________________________________________________________________\n",
            "block1_conv2 (Conv2D)        (None, 150, 150, 64)      36928     \n",
            "_________________________________________________________________\n",
            "block1_pool (MaxPooling2D)   (None, 75, 75, 64)        0         \n",
            "_________________________________________________________________\n",
            "block2_conv1 (Conv2D)        (None, 75, 75, 128)       73856     \n",
            "_________________________________________________________________\n",
            "block2_conv2 (Conv2D)        (None, 75, 75, 128)       147584    \n",
            "_________________________________________________________________\n",
            "block2_pool (MaxPooling2D)   (None, 37, 37, 128)       0         \n",
            "_________________________________________________________________\n",
            "block3_conv1 (Conv2D)        (None, 37, 37, 256)       295168    \n",
            "_________________________________________________________________\n",
            "block3_conv2 (Conv2D)        (None, 37, 37, 256)       590080    \n",
            "_________________________________________________________________\n",
            "block3_conv3 (Conv2D)        (None, 37, 37, 256)       590080    \n",
            "_________________________________________________________________\n",
            "block3_pool (MaxPooling2D)   (None, 18, 18, 256)       0         \n",
            "_________________________________________________________________\n",
            "block4_conv1 (Conv2D)        (None, 18, 18, 512)       1180160   \n",
            "_________________________________________________________________\n",
            "block4_conv2 (Conv2D)        (None, 18, 18, 512)       2359808   \n",
            "_________________________________________________________________\n",
            "block4_conv3 (Conv2D)        (None, 18, 18, 512)       2359808   \n",
            "_________________________________________________________________\n",
            "block4_pool (MaxPooling2D)   (None, 9, 9, 512)         0         \n",
            "_________________________________________________________________\n",
            "block5_conv1 (Conv2D)        (None, 9, 9, 512)         2359808   \n",
            "_________________________________________________________________\n",
            "block5_conv2 (Conv2D)        (None, 9, 9, 512)         2359808   \n",
            "_________________________________________________________________\n",
            "block5_conv3 (Conv2D)        (None, 9, 9, 512)         2359808   \n",
            "_________________________________________________________________\n",
            "block5_pool (MaxPooling2D)   (None, 4, 4, 512)         0         \n",
            "=================================================================\n",
            "Total params: 14,714,688\n",
            "Trainable params: 14,714,688\n",
            "Non-trainable params: 0\n",
            "_________________________________________________________________\n"
          ],
          "name": "stdout"
        }
      ]
    },
    {
      "cell_type": "code",
      "metadata": {
        "id": "n-miyhY8A558",
        "colab_type": "code",
        "outputId": "21692dde-f9eb-4438-ca42-01a87bd4014d",
        "colab": {
          "base_uri": "https://localhost:8080/",
          "height": 34
        }
      },
      "source": [
        "import os\n",
        "import numpy as np\n",
        "from keras.preprocessing.image import ImageDataGenerator\n",
        "\n",
        "base_dir ='/content/Drive/My Drive/Colab Notebooks/Augmented'\n",
        "train_dir = os.path.join(base_dir, 'Training')\n",
        "validation_dir = os.path.join(base_dir, 'Validation')\n",
        "test_dir = os.path.join(base_dir, 'Test')\n",
        "\n",
        "datagen = ImageDataGenerator(rescale=1./255)\n",
        "batch_size = 10\n",
        "def extract_features(directory, sample_count):\n",
        "    features = np.zeros(shape=(sample_count, 4, 4, 512))\n",
        "    labels = np.zeros(shape=(sample_count))\n",
        "    generator = datagen.flow_from_directory(\n",
        "        directory,\n",
        "        target_size=(150, 150),\n",
        "        batch_size=batch_size,\n",
        "        class_mode='binary')\n",
        "    i=0\n",
        "    for inputs_batch, labels_batch in generator:\n",
        "        features_batch = conv_base.predict(inputs_batch)\n",
        "        features[i * batch_size : (i + 1) * batch_size] = features_batch\n",
        "        labels[i * batch_size : (i + 1) * batch_size] = labels_batch\n",
        "        i += 1\n",
        "        if i * batch_size >= sample_count:\n",
        "            break\n",
        "    return features, labels\n",
        "train_features, train_labels = extract_features(train_dir, 3320)\n",
        "validation_features, validation_labels = extract_features(validation_dir,1832)\n",
        "test_features, test_labels = extract_features(test_dir, 1096)\n",
        "\n",
        "\n"
      ],
      "execution_count": 0,
      "outputs": [
        {
          "output_type": "stream",
          "text": [
            "Found 3320 images belonging to 2 classes.\n"
          ],
          "name": "stdout"
        }
      ]
    },
    {
      "cell_type": "code",
      "metadata": {
        "id": "uxVqY_cGGgFy",
        "colab_type": "code",
        "colab": {}
      },
      "source": [
        "train_features = np.reshape(train_features, (3320, 4*4* 512))\n",
        "validation_features = np.reshape(validation_features, (1832, 4*4* 512))\n",
        "test_features = np.reshape(test_features, (1096, 4*4* 512))"
      ],
      "execution_count": 0,
      "outputs": []
    },
    {
      "cell_type": "code",
      "metadata": {
        "id": "Fp2-qEGYBBag",
        "colab_type": "code",
        "colab": {}
      },
      "source": [
        "from keras import models\n",
        "from keras import layers\n",
        "from keras import optimizers\n",
        "import keras\n",
        "\n",
        "model = models.Sequential()\n",
        "model.add(layers.Dense(256, activation='relu', input_dim=4* 4 * 512))\n",
        "model.add(layers.Dropout(0.2))\n",
        "model.add(layers.Dense(1, activation='sigmoid'))\n",
        "\n",
        "\n",
        "model.compile(optimizer=optimizers.RMSprop(lr=2e-5),\n",
        "loss='binary_crossentropy',\n",
        "metrics=['acc'])\n",
        "\n",
        "history = model.fit(train_features, train_labels,\n",
        "epochs=30,\n",
        "batch_size=20,\n",
        "validation_data=(validation_features, validation_labels)\n",
        ")"
      ],
      "execution_count": 0,
      "outputs": []
    },
    {
      "cell_type": "code",
      "metadata": {
        "id": "ZdYGJv7LBJu2",
        "colab_type": "code",
        "colab": {}
      },
      "source": [
        "import matplotlib.pyplot as plt\n",
        "acc = history.history['acc']\n",
        "val_acc = history.history['val_acc']\n",
        "loss = history.history['loss']\n",
        "val_loss = history.history['val_loss']\n",
        "epochs = range(1, len(acc) + 1)\n",
        "plt.plot(epochs, acc, 'bo', label='Training acc')\n",
        "plt.plot(epochs, val_acc, 'b', label='Validation acc')\n",
        "plt.title('Training and validation accuracy')\n",
        "plt.legend()\n",
        "plt.figure()\n",
        "plt.plot(epochs, loss, 'bo', label='Training loss')\n",
        "plt.plot(epochs, val_loss, 'b', label='Validation loss')\n",
        "plt.title('Training and validation loss')\n",
        "plt.legend()\n",
        "plt.show()"
      ],
      "execution_count": 0,
      "outputs": []
    },
    {
      "cell_type": "code",
      "metadata": {
        "id": "DjWWMw04sh8q",
        "colab_type": "code",
        "colab": {}
      },
      "source": [
        "from keras import models\n",
        "from keras import layers\n",
        "model = models.Sequential()\n",
        "model.add(conv_base)\n",
        "model.add(layers.Flatten())\n",
        "model.add(layers.Dense(256, activation='relu'))\n",
        "model.add(layers.Dense(1, activation='sigmoid'))"
      ],
      "execution_count": 0,
      "outputs": []
    },
    {
      "cell_type": "code",
      "metadata": {
        "id": "A5-3mqokcL3E",
        "colab_type": "code",
        "colab": {}
      },
      "source": [
        "model.summary()"
      ],
      "execution_count": 0,
      "outputs": []
    },
    {
      "cell_type": "code",
      "metadata": {
        "id": "r53fwHtdcON9",
        "colab_type": "code",
        "colab": {}
      },
      "source": [
        "from keras.preprocessing.image import ImageDataGenerator\n",
        "from keras import optimizers\n",
        "\n",
        "train_datagen = ImageDataGenerator(\n",
        "    rescale=1./255,\n",
        "    rotation_range=40,\n",
        "    width_shift_range=0.2,\n",
        "    height_shift_range=0.2,\n",
        "    shear_range=0.2,\n",
        "    zoom_range=0.2,\n",
        "    horizontal_flip=True,\n",
        "    fill_mode='nearest')\n",
        "\n",
        "test_datagen = ImageDataGenerator(rescale=1./255)\n",
        "\n",
        "train_generator = train_datagen.flow_from_directory(\n",
        "    train_dir,\n",
        "    target_size=(150, 150),\n",
        "    batch_size=20,\n",
        "    class_mode='binary')\n",
        "\n",
        "validation_generator = test_datagen.flow_from_directory(\n",
        "    validation_dir,\n",
        "    target_size=(150, 150),\n",
        "    batch_size=20,\n",
        "    class_mode='binary')\n",
        "\n",
        "model.compile(loss='binary_crossentropy',\n",
        "    optimizer=optimizers.RMSprop(lr=2e-5),\n",
        "    metrics=['acc'])\n",
        "\n",
        "history = model.fit_generator(\n",
        "    train_generator,\n",
        "    steps_per_epoch=100,\n",
        "    epochs=30,\n",
        "    validation_data=validation_generator,\n",
        "    validation_steps=50)"
      ],
      "execution_count": 0,
      "outputs": []
    },
    {
      "cell_type": "code",
      "metadata": {
        "id": "U7--W__dKxgY",
        "colab_type": "code",
        "colab": {}
      },
      "source": [
        "import matplotlib.pyplot as plt\n",
        "acc = history.history['acc']\n",
        "val_acc = history.history['val_acc']\n",
        "loss = history.history['loss']\n",
        "val_loss = history.history['val_loss']\n",
        "epochs = range(1, len(acc) + 1)\n",
        "plt.plot(epochs, acc, 'bo', label='Training acc')\n",
        "plt.plot(epochs, val_acc, 'b', label='Validation acc')\n",
        "plt.title('Training and validation accuracy')\n",
        "plt.legend()\n",
        "plt.figure()\n",
        "plt.plot(epochs, loss, 'bo', label='Training loss')\n",
        "plt.plot(epochs, val_loss, 'b', label='Validation loss')\n",
        "plt.title('Training and validation loss')\n",
        "plt.legend()\n",
        "plt.show()"
      ],
      "execution_count": 0,
      "outputs": []
    },
    {
      "cell_type": "code",
      "metadata": {
        "id": "g-KfyWrPOL2W",
        "colab_type": "code",
        "colab": {}
      },
      "source": [
        "conv_base.summary()"
      ],
      "execution_count": 0,
      "outputs": []
    },
    {
      "cell_type": "code",
      "metadata": {
        "id": "uByUG_dvxK9T",
        "colab_type": "code",
        "colab": {}
      },
      "source": [
        "test_generator = test_datagen.flow_from_directory(\n",
        "    test_dir,\n",
        "    target_size=(150, 150),\n",
        "    batch_size=20,\n",
        "    class_mode='binary')\n",
        "test_loss, test_acc = model.evaluate_generator(test_generator, steps=50)\n",
        "print('test acc:', test_acc)"
      ],
      "execution_count": 0,
      "outputs": []
    },
    {
      "cell_type": "code",
      "metadata": {
        "id": "R_NOF39wOXvq",
        "colab_type": "code",
        "colab": {}
      },
      "source": [
        "conv_base.trainable = True\n",
        "set_trainable = False\n",
        "for layer in conv_base.layers:\n",
        "  if layer.name == 'block5_conv1':\n",
        "    set_trainable = True\n",
        "  if set_trainable:\n",
        "    layer.trainable = True\n",
        "  else:\n",
        "    layer.trainable = False"
      ],
      "execution_count": 0,
      "outputs": []
    },
    {
      "cell_type": "code",
      "metadata": {
        "id": "AGtsgng_OmgP",
        "colab_type": "code",
        "outputId": "b74de755-06e0-44d2-d0c4-c683b93b0d97",
        "colab": {
          "base_uri": "https://localhost:8080/",
          "height": 1000
        }
      },
      "source": [
        "model.compile(loss='binary_crossentropy',\n",
        "    optimizer=optimizers.RMSprop(lr=1e-5),\n",
        "    metrics=['acc'])\n",
        "history = model.fit_generator(\n",
        "    train_generator,\n",
        "    steps_per_epoch=100,\n",
        "    epochs=100,\n",
        "    validation_data=validation_generator,\n",
        "    validation_steps=50)"
      ],
      "execution_count": 0,
      "outputs": [
        {
          "output_type": "stream",
          "text": [
            "Epoch 1/100\n",
            "100/100 [==============================] - 45s 454ms/step - loss: 0.0923 - acc: 0.9645 - val_loss: 0.0738 - val_acc: 0.9680\n",
            "Epoch 2/100\n",
            "100/100 [==============================] - 41s 414ms/step - loss: 0.0805 - acc: 0.9650 - val_loss: 0.0622 - val_acc: 0.9768\n",
            "Epoch 3/100\n",
            "100/100 [==============================] - 41s 414ms/step - loss: 0.0740 - acc: 0.9680 - val_loss: 0.0661 - val_acc: 0.9800\n",
            "Epoch 4/100\n",
            "100/100 [==============================] - 42s 416ms/step - loss: 0.0679 - acc: 0.9745 - val_loss: 0.0459 - val_acc: 0.9808\n",
            "Epoch 5/100\n",
            "100/100 [==============================] - 41s 413ms/step - loss: 0.0727 - acc: 0.9700 - val_loss: 0.0554 - val_acc: 0.9800\n",
            "Epoch 6/100\n",
            "100/100 [==============================] - 42s 416ms/step - loss: 0.0693 - acc: 0.9710 - val_loss: 0.0510 - val_acc: 0.9839\n",
            "Epoch 7/100\n",
            "100/100 [==============================] - 42s 418ms/step - loss: 0.0658 - acc: 0.9740 - val_loss: 0.0461 - val_acc: 0.9830\n",
            "Epoch 8/100\n",
            "100/100 [==============================] - 42s 418ms/step - loss: 0.0616 - acc: 0.9735 - val_loss: 0.0595 - val_acc: 0.9778\n",
            "Epoch 9/100\n",
            "100/100 [==============================] - 42s 417ms/step - loss: 0.0602 - acc: 0.9780 - val_loss: 0.0337 - val_acc: 0.9870\n",
            "Epoch 10/100\n",
            "100/100 [==============================] - 42s 417ms/step - loss: 0.0569 - acc: 0.9770 - val_loss: 0.0246 - val_acc: 0.9909\n",
            "Epoch 11/100\n",
            "100/100 [==============================] - 41s 410ms/step - loss: 0.0671 - acc: 0.9755 - val_loss: 0.0449 - val_acc: 0.9860\n",
            "Epoch 12/100\n",
            "100/100 [==============================] - 42s 420ms/step - loss: 0.0543 - acc: 0.9775 - val_loss: 0.0283 - val_acc: 0.9919\n",
            "Epoch 13/100\n",
            "100/100 [==============================] - 41s 413ms/step - loss: 0.0444 - acc: 0.9800 - val_loss: 0.0399 - val_acc: 0.9819\n",
            "Epoch 14/100\n",
            "100/100 [==============================] - 42s 418ms/step - loss: 0.0578 - acc: 0.9770 - val_loss: 0.0295 - val_acc: 0.9920\n",
            "Epoch 15/100\n",
            "100/100 [==============================] - 42s 416ms/step - loss: 0.0494 - acc: 0.9805 - val_loss: 0.0313 - val_acc: 0.9849\n",
            "Epoch 16/100\n",
            "100/100 [==============================] - 42s 417ms/step - loss: 0.0562 - acc: 0.9780 - val_loss: 0.0241 - val_acc: 0.9910\n",
            "Epoch 17/100\n",
            "100/100 [==============================] - 41s 412ms/step - loss: 0.0407 - acc: 0.9835 - val_loss: 0.0415 - val_acc: 0.9829\n",
            "Epoch 18/100\n",
            "100/100 [==============================] - 42s 417ms/step - loss: 0.0355 - acc: 0.9870 - val_loss: 0.0258 - val_acc: 0.9890\n",
            "Epoch 19/100\n",
            "100/100 [==============================] - 41s 413ms/step - loss: 0.0656 - acc: 0.9740 - val_loss: 0.0294 - val_acc: 0.9889\n",
            "Epoch 20/100\n",
            "100/100 [==============================] - 42s 418ms/step - loss: 0.0462 - acc: 0.9815 - val_loss: 0.0273 - val_acc: 0.9930\n",
            "Epoch 21/100\n",
            "100/100 [==============================] - 42s 418ms/step - loss: 0.0409 - acc: 0.9820 - val_loss: 0.0471 - val_acc: 0.9819\n",
            "Epoch 22/100\n",
            "100/100 [==============================] - 42s 419ms/step - loss: 0.0455 - acc: 0.9820 - val_loss: 0.0417 - val_acc: 0.9840\n",
            "Epoch 23/100\n",
            "100/100 [==============================] - 42s 420ms/step - loss: 0.0452 - acc: 0.9835 - val_loss: 0.0323 - val_acc: 0.9909\n",
            "Epoch 24/100\n",
            "100/100 [==============================] - 41s 415ms/step - loss: 0.0402 - acc: 0.9820 - val_loss: 0.0559 - val_acc: 0.9849\n",
            "Epoch 25/100\n",
            "100/100 [==============================] - 42s 416ms/step - loss: 0.0473 - acc: 0.9810 - val_loss: 0.0331 - val_acc: 0.9890\n",
            "Epoch 26/100\n",
            "100/100 [==============================] - 42s 416ms/step - loss: 0.0432 - acc: 0.9840 - val_loss: 0.0265 - val_acc: 0.9899\n",
            "Epoch 27/100\n",
            "100/100 [==============================] - 42s 416ms/step - loss: 0.0421 - acc: 0.9845 - val_loss: 0.0180 - val_acc: 0.9950\n",
            "Epoch 28/100\n",
            "100/100 [==============================] - 42s 415ms/step - loss: 0.0340 - acc: 0.9875 - val_loss: 0.0655 - val_acc: 0.9839\n",
            "Epoch 29/100\n",
            "100/100 [==============================] - 41s 414ms/step - loss: 0.0497 - acc: 0.9815 - val_loss: 0.0548 - val_acc: 0.9830\n",
            "Epoch 30/100\n",
            "100/100 [==============================] - 42s 416ms/step - loss: 0.0495 - acc: 0.9835 - val_loss: 0.0281 - val_acc: 0.9919\n",
            "Epoch 31/100\n",
            "100/100 [==============================] - 42s 418ms/step - loss: 0.0439 - acc: 0.9825 - val_loss: 0.0374 - val_acc: 0.9890\n",
            "Epoch 32/100\n",
            "100/100 [==============================] - 41s 414ms/step - loss: 0.0435 - acc: 0.9820 - val_loss: 0.0641 - val_acc: 0.9788\n",
            "Epoch 33/100\n",
            "100/100 [==============================] - 41s 412ms/step - loss: 0.0423 - acc: 0.9810 - val_loss: 0.0527 - val_acc: 0.9840\n",
            "Epoch 34/100\n",
            "100/100 [==============================] - 42s 418ms/step - loss: 0.0429 - acc: 0.9850 - val_loss: 0.0272 - val_acc: 0.9899\n",
            "Epoch 35/100\n",
            "100/100 [==============================] - 42s 415ms/step - loss: 0.0415 - acc: 0.9845 - val_loss: 0.0269 - val_acc: 0.9919\n",
            "Epoch 36/100\n",
            "100/100 [==============================] - 41s 413ms/step - loss: 0.0375 - acc: 0.9845 - val_loss: 0.0551 - val_acc: 0.9840\n",
            "Epoch 37/100\n",
            "100/100 [==============================] - 42s 420ms/step - loss: 0.0387 - acc: 0.9870 - val_loss: 0.0359 - val_acc: 0.9909\n",
            "Epoch 38/100\n",
            "100/100 [==============================] - 41s 415ms/step - loss: 0.0488 - acc: 0.9820 - val_loss: 0.0282 - val_acc: 0.9890\n",
            "Epoch 39/100\n",
            "100/100 [==============================] - 42s 418ms/step - loss: 0.0252 - acc: 0.9895 - val_loss: 0.0283 - val_acc: 0.9929\n",
            "Epoch 40/100\n",
            "100/100 [==============================] - 42s 416ms/step - loss: 0.0479 - acc: 0.9825 - val_loss: 0.0624 - val_acc: 0.9800\n",
            "Epoch 41/100\n",
            "100/100 [==============================] - 41s 415ms/step - loss: 0.0451 - acc: 0.9865 - val_loss: 0.0260 - val_acc: 0.9909\n",
            "Epoch 42/100\n",
            "100/100 [==============================] - 41s 414ms/step - loss: 0.0350 - acc: 0.9885 - val_loss: 0.0488 - val_acc: 0.9840\n",
            "Epoch 43/100\n",
            "100/100 [==============================] - 42s 417ms/step - loss: 0.0271 - acc: 0.9905 - val_loss: 0.0218 - val_acc: 0.9929\n",
            "Epoch 44/100\n",
            "100/100 [==============================] - 42s 419ms/step - loss: 0.0456 - acc: 0.9810 - val_loss: 0.0382 - val_acc: 0.9890\n",
            "Epoch 45/100\n",
            "100/100 [==============================] - 42s 423ms/step - loss: 0.0382 - acc: 0.9850 - val_loss: 0.0459 - val_acc: 0.9869\n",
            "Epoch 46/100\n",
            "100/100 [==============================] - 41s 414ms/step - loss: 0.0308 - acc: 0.9875 - val_loss: 0.0130 - val_acc: 0.9960\n",
            "Epoch 47/100\n",
            "100/100 [==============================] - 42s 416ms/step - loss: 0.0304 - acc: 0.9880 - val_loss: 0.0302 - val_acc: 0.9880\n",
            "Epoch 48/100\n",
            "100/100 [==============================] - 41s 408ms/step - loss: 0.0346 - acc: 0.9875 - val_loss: 0.0301 - val_acc: 0.9940\n",
            "Epoch 49/100\n",
            "100/100 [==============================] - 42s 416ms/step - loss: 0.0320 - acc: 0.9870 - val_loss: 0.0334 - val_acc: 0.9910\n",
            "Epoch 50/100\n",
            "100/100 [==============================] - 41s 413ms/step - loss: 0.0313 - acc: 0.9870 - val_loss: 0.0193 - val_acc: 0.9940\n",
            "Epoch 51/100\n",
            "100/100 [==============================] - 42s 418ms/step - loss: 0.0468 - acc: 0.9810 - val_loss: 0.0243 - val_acc: 0.9930\n",
            "Epoch 52/100\n",
            "100/100 [==============================] - 42s 424ms/step - loss: 0.0269 - acc: 0.9895 - val_loss: 0.0188 - val_acc: 0.9919\n",
            "Epoch 53/100\n",
            "100/100 [==============================] - 42s 417ms/step - loss: 0.0292 - acc: 0.9880 - val_loss: 0.0312 - val_acc: 0.9900\n",
            "Epoch 54/100\n",
            "100/100 [==============================] - 42s 418ms/step - loss: 0.0356 - acc: 0.9845 - val_loss: 0.0236 - val_acc: 0.9919\n",
            "Epoch 55/100\n",
            "100/100 [==============================] - 42s 419ms/step - loss: 0.0240 - acc: 0.9915 - val_loss: 0.0181 - val_acc: 0.9950\n",
            "Epoch 56/100\n",
            "100/100 [==============================] - 42s 417ms/step - loss: 0.0201 - acc: 0.9910 - val_loss: 0.0114 - val_acc: 0.9929\n",
            "Epoch 57/100\n",
            "100/100 [==============================] - 42s 416ms/step - loss: 0.0465 - acc: 0.9880 - val_loss: 0.0262 - val_acc: 0.9940\n",
            "Epoch 58/100\n",
            "100/100 [==============================] - 42s 421ms/step - loss: 0.0327 - acc: 0.9860 - val_loss: 0.0312 - val_acc: 0.9889\n",
            "Epoch 59/100\n",
            "100/100 [==============================] - 42s 425ms/step - loss: 0.0279 - acc: 0.9875 - val_loss: 0.0283 - val_acc: 0.9919\n",
            "Epoch 60/100\n",
            "100/100 [==============================] - 42s 418ms/step - loss: 0.0258 - acc: 0.9905 - val_loss: 0.0303 - val_acc: 0.9920\n",
            "Epoch 61/100\n",
            "100/100 [==============================] - 42s 416ms/step - loss: 0.0407 - acc: 0.9845 - val_loss: 0.0178 - val_acc: 0.9929\n",
            "Epoch 62/100\n",
            "100/100 [==============================] - 42s 417ms/step - loss: 0.0295 - acc: 0.9885 - val_loss: 0.0182 - val_acc: 0.9920\n",
            "Epoch 63/100\n",
            "100/100 [==============================] - 41s 412ms/step - loss: 0.0302 - acc: 0.9880 - val_loss: 0.0392 - val_acc: 0.9889\n",
            "Epoch 64/100\n",
            "100/100 [==============================] - 44s 440ms/step - loss: 0.0260 - acc: 0.9900 - val_loss: 0.0181 - val_acc: 0.9950\n",
            "Epoch 65/100\n",
            "100/100 [==============================] - 42s 417ms/step - loss: 0.0278 - acc: 0.9915 - val_loss: 0.0294 - val_acc: 0.9929\n",
            "Epoch 66/100\n",
            "100/100 [==============================] - 42s 416ms/step - loss: 0.0336 - acc: 0.9875 - val_loss: 0.0297 - val_acc: 0.9900\n",
            "Epoch 67/100\n",
            "100/100 [==============================] - 42s 420ms/step - loss: 0.0288 - acc: 0.9895 - val_loss: 0.0237 - val_acc: 0.9929\n",
            "Epoch 68/100\n",
            "100/100 [==============================] - 41s 409ms/step - loss: 0.0255 - acc: 0.9905 - val_loss: 0.0171 - val_acc: 0.9950\n",
            "Epoch 69/100\n",
            "100/100 [==============================] - 44s 439ms/step - loss: 0.0275 - acc: 0.9895 - val_loss: 0.0164 - val_acc: 0.9960\n",
            "Epoch 70/100\n",
            "100/100 [==============================] - 42s 416ms/step - loss: 0.0394 - acc: 0.9855 - val_loss: 0.0239 - val_acc: 0.9919\n",
            "Epoch 71/100\n",
            "100/100 [==============================] - 42s 416ms/step - loss: 0.0244 - acc: 0.9920 - val_loss: 0.0345 - val_acc: 0.9890\n",
            "Epoch 72/100\n",
            "100/100 [==============================] - 42s 418ms/step - loss: 0.0174 - acc: 0.9925 - val_loss: 0.0195 - val_acc: 0.9909\n",
            "Epoch 73/100\n",
            "100/100 [==============================] - 40s 405ms/step - loss: 0.0351 - acc: 0.9905 - val_loss: 0.0151 - val_acc: 0.9930\n",
            "Epoch 74/100\n",
            "100/100 [==============================] - 44s 442ms/step - loss: 0.0341 - acc: 0.9895 - val_loss: 0.0191 - val_acc: 0.9940\n",
            "Epoch 75/100\n",
            "100/100 [==============================] - 42s 416ms/step - loss: 0.0343 - acc: 0.9890 - val_loss: 0.0210 - val_acc: 0.9930\n",
            "Epoch 76/100\n",
            "100/100 [==============================] - 42s 417ms/step - loss: 0.0280 - acc: 0.9890 - val_loss: 0.0618 - val_acc: 0.9859\n",
            "Epoch 77/100\n",
            "100/100 [==============================] - 42s 418ms/step - loss: 0.0316 - acc: 0.9890 - val_loss: 0.0174 - val_acc: 0.9940\n",
            "Epoch 78/100\n",
            "100/100 [==============================] - 40s 396ms/step - loss: 0.0313 - acc: 0.9875 - val_loss: 0.0349 - val_acc: 0.9909\n",
            "Epoch 79/100\n",
            "100/100 [==============================] - 44s 443ms/step - loss: 0.0340 - acc: 0.9910 - val_loss: 0.0184 - val_acc: 0.9920\n",
            "Epoch 80/100\n",
            "100/100 [==============================] - 42s 422ms/step - loss: 0.0316 - acc: 0.9865 - val_loss: 0.0441 - val_acc: 0.9899\n",
            "Epoch 81/100\n",
            "100/100 [==============================] - 42s 421ms/step - loss: 0.0173 - acc: 0.9950 - val_loss: 0.0334 - val_acc: 0.9919\n",
            "Epoch 82/100\n",
            "100/100 [==============================] - 42s 416ms/step - loss: 0.0359 - acc: 0.9875 - val_loss: 0.0864 - val_acc: 0.9780\n",
            "Epoch 83/100\n",
            "100/100 [==============================] - 42s 417ms/step - loss: 0.0351 - acc: 0.9875 - val_loss: 0.0279 - val_acc: 0.9929\n",
            "Epoch 84/100\n",
            "100/100 [==============================] - 42s 415ms/step - loss: 0.0248 - acc: 0.9890 - val_loss: 0.0693 - val_acc: 0.9800\n",
            "Epoch 85/100\n",
            "100/100 [==============================] - 42s 417ms/step - loss: 0.0250 - acc: 0.9880 - val_loss: 0.0574 - val_acc: 0.9849\n",
            "Epoch 86/100\n",
            "100/100 [==============================] - 42s 418ms/step - loss: 0.0272 - acc: 0.9905 - val_loss: 0.0468 - val_acc: 0.9880\n",
            "Epoch 87/100\n",
            "100/100 [==============================] - 42s 416ms/step - loss: 0.0216 - acc: 0.9930 - val_loss: 0.0749 - val_acc: 0.9839\n",
            "Epoch 88/100\n",
            "100/100 [==============================] - 42s 420ms/step - loss: 0.0227 - acc: 0.9910 - val_loss: 0.0101 - val_acc: 0.9960\n",
            "Epoch 89/100\n",
            "100/100 [==============================] - 42s 420ms/step - loss: 0.0237 - acc: 0.9920 - val_loss: 0.0250 - val_acc: 0.9960\n",
            "Epoch 90/100\n",
            "100/100 [==============================] - 41s 415ms/step - loss: 0.0296 - acc: 0.9905 - val_loss: 0.0328 - val_acc: 0.9910\n",
            "Epoch 91/100\n",
            "100/100 [==============================] - 42s 421ms/step - loss: 0.0341 - acc: 0.9855 - val_loss: 0.0204 - val_acc: 0.9950\n",
            "Epoch 92/100\n",
            "100/100 [==============================] - 42s 416ms/step - loss: 0.0241 - acc: 0.9920 - val_loss: 0.0294 - val_acc: 0.9889\n",
            "Epoch 93/100\n",
            "100/100 [==============================] - 42s 417ms/step - loss: 0.0265 - acc: 0.9910 - val_loss: 0.0317 - val_acc: 0.9930\n",
            "Epoch 94/100\n",
            "100/100 [==============================] - 42s 418ms/step - loss: 0.0184 - acc: 0.9945 - val_loss: 0.0301 - val_acc: 0.9919\n",
            "Epoch 95/100\n",
            "100/100 [==============================] - 42s 417ms/step - loss: 0.0199 - acc: 0.9935 - val_loss: 0.0274 - val_acc: 0.9930\n",
            "Epoch 96/100\n",
            "100/100 [==============================] - 42s 417ms/step - loss: 0.0198 - acc: 0.9935 - val_loss: 0.0174 - val_acc: 0.9960\n",
            "Epoch 97/100\n",
            "100/100 [==============================] - 42s 416ms/step - loss: 0.0316 - acc: 0.9890 - val_loss: 0.0135 - val_acc: 0.9950\n",
            "Epoch 98/100\n",
            "100/100 [==============================] - 41s 414ms/step - loss: 0.0289 - acc: 0.9920 - val_loss: 0.0678 - val_acc: 0.9869\n",
            "Epoch 99/100\n",
            "100/100 [==============================] - 41s 414ms/step - loss: 0.0270 - acc: 0.9895 - val_loss: 0.0128 - val_acc: 0.9950\n",
            "Epoch 100/100\n",
            "100/100 [==============================] - 41s 414ms/step - loss: 0.0193 - acc: 0.9915 - val_loss: 0.0139 - val_acc: 0.9970\n"
          ],
          "name": "stdout"
        }
      ]
    },
    {
      "cell_type": "code",
      "metadata": {
        "id": "wA7GpfhVO41F",
        "colab_type": "code",
        "outputId": "e37eabe6-80b8-4b98-bf43-9c84e8a45f6e",
        "colab": {
          "base_uri": "https://localhost:8080/",
          "height": 545
        }
      },
      "source": [
        "def smooth_curve(points, factor=0.1):\n",
        "  smoothed_points = []\n",
        "  for point in points:\n",
        "    if smoothed_points:\n",
        "      previous = smoothed_points[-1]\n",
        "      smoothed_points.append(previous * factor + point * (1 - factor))\n",
        "    else:\n",
        "        smoothed_points.append(point)\n",
        "  return smoothed_points\n",
        "plt.plot(epochs,\n",
        "  smooth_curve(acc), 'bo', label='Smoothed training acc')\n",
        "plt.plot(epochs,\n",
        "  smooth_curve(val_acc), 'b', label='Smoothed validation acc')\n",
        "plt.title('Training and validation accuracy')\n",
        "plt.legend()\n",
        "plt.figure()\n",
        "plt.plot(epochs,\n",
        "  smooth_curve(loss), 'bo', label='Smoothed training loss')\n",
        "plt.plot(epochs,\n",
        "  smooth_curve(val_loss), 'b', label='Smoothed validation loss')\n",
        "plt.title('Training and validation loss')\n",
        "plt.legend()\n",
        "plt.show()"
      ],
      "execution_count": 0,
      "outputs": [
        {
          "output_type": "display_data",
          "data": {
            "image/png": "[encoded data removed]",
            "text/plain": [
              "<Figure size 432x288 with 1 Axes>"
            ]
          },
          "metadata": {
            "tags": []
          }
        },
        {
          "output_type": "display_data",
          "data": {
            "image/png": "[encoded data removed]",
            "text/plain": [
              "<Figure size 432x288 with 1 Axes>"
            ]
          },
          "metadata": {
            "tags": []
          }
        }
      ]
    },
    {
      "cell_type": "code",
      "metadata": {
        "id": "Eardsd0WpHzA",
        "colab_type": "code",
        "outputId": "aa70f107-d65a-4532-9a66-552a197559bd",
        "colab": {
          "base_uri": "https://localhost:8080/",
          "height": 54
        }
      },
      "source": [
        "test_generator = test_datagen.flow_from_directory(\n",
        "    test_dir,\n",
        "    target_size=(150, 150),\n",
        "    batch_size=20,\n",
        "    class_mode='binary')\n",
        "test_loss, test_acc = model.evaluate_generator(test_generator, steps=50)\n",
        "print('test acc:', test_acc)"
      ],
      "execution_count": 0,
      "outputs": [
        {
          "output_type": "stream",
          "text": [
            "Found 1096 images belonging to 2 classes.\n",
            "test acc: 0.9919999980926514\n"
          ],
          "name": "stdout"
        }
      ]
    }
  ]
}