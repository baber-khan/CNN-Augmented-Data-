{
  "nbformat": 4,
  "nbformat_minor": 0,
  "metadata": {
    "colab": {
      "name": "Rotated - VGG - CNN (Augmented Data).ipynb",
      "provenance": [],
      "collapsed_sections": []
    },
    "kernelspec": {
      "name": "python3",
      "display_name": "Python 3"
    },
    "accelerator": "GPU"
  },
  "cells": [
    {
      "cell_type": "code",
      "metadata": {
        "id": "lz_tma7gAlsn",
        "colab_type": "code",
        "outputId": "629cee69-2c7f-4d67-a453-f601dfda8012",
        "colab": {
          "base_uri": "https://localhost:8080/",
          "height": 147
        }
      },
      "source": [
        "from google.colab import drive\n",
        "drive.mount('/content/Drive')\n",
        "!ls"
      ],
      "execution_count": 0,
      "outputs": [
        {
          "output_type": "stream",
          "text": [
            "Go to this URL in a browser: https://accounts.google.com/o/oauth2/auth?client_id=947318989803-6bn6qk8qdgf4n4g3pfee6491hc0brc4i.apps.googleusercontent.com&redirect_uri=urn%3aietf%3awg%3aoauth%3a2.0%3aoob&response_type=code&scope=email%20https%3a%2f%2fwww.googleapis.com%2fauth%2fdocs.test%20https%3a%2f%2fwww.googleapis.com%2fauth%2fdrive%20https%3a%2f%2fwww.googleapis.com%2fauth%2fdrive.photos.readonly%20https%3a%2f%2fwww.googleapis.com%2fauth%2fpeopleapi.readonly\n",
            "\n",
            "Enter your authorization code:\n",
            "··········\n",
            "Mounted at /content/Drive\n",
            "Drive  sample_data\n"
          ],
          "name": "stdout"
        }
      ]
    },
    {
      "cell_type": "code",
      "metadata": {
        "id": "RICAeU1MAsVT",
        "colab_type": "code",
        "outputId": "658602be-b587-4db5-fd00-553dafa73c05",
        "colab": {
          "base_uri": "https://localhost:8080/",
          "height": 35
        }
      },
      "source": [
        "import os\n",
        "os.getcwd()\n",
        "\n",
        "os.chdir('/content/Drive/My Drive/Colab Notebooks/Augmented1')\n",
        "\n",
        "!ls  "
      ],
      "execution_count": 0,
      "outputs": [
        {
          "output_type": "stream",
          "text": [
            "history.json  Test  Training  Validation  vgg16_2.h5  weights.best.hdf5\n"
          ],
          "name": "stdout"
        }
      ]
    },
    {
      "cell_type": "code",
      "metadata": {
        "id": "FfJp_AX0AvXj",
        "colab_type": "code",
        "outputId": "c06de91c-b677-4b02-b073-e8e3baaf6b2f",
        "colab": {
          "base_uri": "https://localhost:8080/",
          "height": 507
        }
      },
      "source": [
        "from keras.applications import VGG16\n",
        "conv_base = VGG16(weights='imagenet',\n",
        "include_top=False,\n",
        "input_shape=(150, 150, 3))"
      ],
      "execution_count": 0,
      "outputs": [
        {
          "output_type": "stream",
          "text": [
            "Using TensorFlow backend.\n"
          ],
          "name": "stderr"
        },
        {
          "output_type": "display_data",
          "data": {
            "text/html": [
              "<p style=\"color: red;\">\n",
              "The default version of TensorFlow in Colab will soon switch to TensorFlow 2.x.<br>\n",
              "We recommend you <a href=\"https://www.tensorflow.org/guide/migrate\" target=\"_blank\">upgrade</a> now \n",
              "or ensure your notebook will continue to use TensorFlow 1.x via the <code>%tensorflow_version 1.x</code> magic:\n",
              "<a href=\"https://colab.research.google.com/notebooks/tensorflow_version.ipynb\" target=\"_blank\">more info</a>.</p>\n"
            ],
            "text/plain": [
              "<IPython.core.display.HTML object>"
            ]
          },
          "metadata": {
            "tags": []
          }
        },
        {
          "output_type": "stream",
          "text": [
            "WARNING:tensorflow:From /usr/local/lib/python3.6/dist-packages/keras/backend/tensorflow_backend.py:66: The name tf.get_default_graph is deprecated. Please use tf.compat.v1.get_default_graph instead.\n",
            "\n",
            "WARNING:tensorflow:From /usr/local/lib/python3.6/dist-packages/keras/backend/tensorflow_backend.py:541: The name tf.placeholder is deprecated. Please use tf.compat.v1.placeholder instead.\n",
            "\n",
            "WARNING:tensorflow:From /usr/local/lib/python3.6/dist-packages/keras/backend/tensorflow_backend.py:4432: The name tf.random_uniform is deprecated. Please use tf.random.uniform instead.\n",
            "\n",
            "WARNING:tensorflow:From /usr/local/lib/python3.6/dist-packages/keras/backend/tensorflow_backend.py:4267: The name tf.nn.max_pool is deprecated. Please use tf.nn.max_pool2d instead.\n",
            "\n",
            "Downloading data from https://github.com/fchollet/deep-learning-models/releases/download/v0.1/vgg16_weights_tf_dim_ordering_tf_kernels_notop.h5\n",
            "58892288/58889256 [==============================] - 2s 0us/step\n",
            "WARNING:tensorflow:From /usr/local/lib/python3.6/dist-packages/keras/backend/tensorflow_backend.py:190: The name tf.get_default_session is deprecated. Please use tf.compat.v1.get_default_session instead.\n",
            "\n",
            "WARNING:tensorflow:From /usr/local/lib/python3.6/dist-packages/keras/backend/tensorflow_backend.py:197: The name tf.ConfigProto is deprecated. Please use tf.compat.v1.ConfigProto instead.\n",
            "\n",
            "WARNING:tensorflow:From /usr/local/lib/python3.6/dist-packages/keras/backend/tensorflow_backend.py:203: The name tf.Session is deprecated. Please use tf.compat.v1.Session instead.\n",
            "\n",
            "WARNING:tensorflow:From /usr/local/lib/python3.6/dist-packages/keras/backend/tensorflow_backend.py:207: The name tf.global_variables is deprecated. Please use tf.compat.v1.global_variables instead.\n",
            "\n",
            "WARNING:tensorflow:From /usr/local/lib/python3.6/dist-packages/keras/backend/tensorflow_backend.py:216: The name tf.is_variable_initialized is deprecated. Please use tf.compat.v1.is_variable_initialized instead.\n",
            "\n",
            "WARNING:tensorflow:From /usr/local/lib/python3.6/dist-packages/keras/backend/tensorflow_backend.py:223: The name tf.variables_initializer is deprecated. Please use tf.compat.v1.variables_initializer instead.\n",
            "\n"
          ],
          "name": "stdout"
        }
      ]
    },
    {
      "cell_type": "code",
      "metadata": {
        "id": "wNFzRnG6A17D",
        "colab_type": "code",
        "outputId": "0cd78115-508b-41f7-cfc9-7140d6d0d8d5",
        "colab": {
          "base_uri": "https://localhost:8080/",
          "height": 862
        }
      },
      "source": [
        " conv_base.summary()"
      ],
      "execution_count": 0,
      "outputs": [
        {
          "output_type": "stream",
          "text": [
            "Model: \"vgg16\"\n",
            "_________________________________________________________________\n",
            "Layer (type)                 Output Shape              Param #   \n",
            "=================================================================\n",
            "input_1 (InputLayer)         (None, 150, 150, 3)       0         \n",
            "_________________________________________________________________\n",
            "block1_conv1 (Conv2D)        (None, 150, 150, 64)      1792      \n",
            "_________________________________________________________________\n",
            "block1_conv2 (Conv2D)        (None, 150, 150, 64)      36928     \n",
            "_________________________________________________________________\n",
            "block1_pool (MaxPooling2D)   (None, 75, 75, 64)        0         \n",
            "_________________________________________________________________\n",
            "block2_conv1 (Conv2D)        (None, 75, 75, 128)       73856     \n",
            "_________________________________________________________________\n",
            "block2_conv2 (Conv2D)        (None, 75, 75, 128)       147584    \n",
            "_________________________________________________________________\n",
            "block2_pool (MaxPooling2D)   (None, 37, 37, 128)       0         \n",
            "_________________________________________________________________\n",
            "block3_conv1 (Conv2D)        (None, 37, 37, 256)       295168    \n",
            "_________________________________________________________________\n",
            "block3_conv2 (Conv2D)        (None, 37, 37, 256)       590080    \n",
            "_________________________________________________________________\n",
            "block3_conv3 (Conv2D)        (None, 37, 37, 256)       590080    \n",
            "_________________________________________________________________\n",
            "block3_pool (MaxPooling2D)   (None, 18, 18, 256)       0         \n",
            "_________________________________________________________________\n",
            "block4_conv1 (Conv2D)        (None, 18, 18, 512)       1180160   \n",
            "_________________________________________________________________\n",
            "block4_conv2 (Conv2D)        (None, 18, 18, 512)       2359808   \n",
            "_________________________________________________________________\n",
            "block4_conv3 (Conv2D)        (None, 18, 18, 512)       2359808   \n",
            "_________________________________________________________________\n",
            "block4_pool (MaxPooling2D)   (None, 9, 9, 512)         0         \n",
            "_________________________________________________________________\n",
            "block5_conv1 (Conv2D)        (None, 9, 9, 512)         2359808   \n",
            "_________________________________________________________________\n",
            "block5_conv2 (Conv2D)        (None, 9, 9, 512)         2359808   \n",
            "_________________________________________________________________\n",
            "block5_conv3 (Conv2D)        (None, 9, 9, 512)         2359808   \n",
            "_________________________________________________________________\n",
            "block5_pool (MaxPooling2D)   (None, 4, 4, 512)         0         \n",
            "=================================================================\n",
            "Total params: 14,714,688\n",
            "Trainable params: 14,714,688\n",
            "Non-trainable params: 0\n",
            "_________________________________________________________________\n"
          ],
          "name": "stdout"
        }
      ]
    },
    {
      "cell_type": "code",
      "metadata": {
        "id": "n-miyhY8A558",
        "colab_type": "code",
        "outputId": "01800a9a-3136-424b-87bf-69c18da730d5",
        "colab": {
          "base_uri": "https://localhost:8080/",
          "height": 72
        }
      },
      "source": [
        "import os\n",
        "import numpy as np\n",
        "from keras.preprocessing.image import ImageDataGenerator\n",
        "\n",
        "base_dir ='/content/Drive/My Drive/Colab Notebooks/Augmented1'\n",
        "train_dir = os.path.join(base_dir, 'Training')\n",
        "validation_dir = os.path.join(base_dir, 'Validation')\n",
        "test_dir = os.path.join(base_dir, 'Test')\n",
        "\n",
        "datagen = ImageDataGenerator(rescale=1./255)\n",
        "batch_size = 10\n",
        "def extract_features(directory, sample_count):\n",
        "    features = np.zeros(shape=(sample_count, 4, 4, 512))\n",
        "    labels = np.zeros(shape=(sample_count))\n",
        "    generator = datagen.flow_from_directory(\n",
        "        directory,\n",
        "        target_size=(150, 150),\n",
        "        batch_size=batch_size,\n",
        "        class_mode='binary')\n",
        "    i=0\n",
        "    for inputs_batch, labels_batch in generator:\n",
        "        features_batch = conv_base.predict(inputs_batch)\n",
        "        features[i * batch_size : (i + 1) * batch_size] = features_batch\n",
        "        labels[i * batch_size : (i + 1) * batch_size] = labels_batch\n",
        "        i += 1\n",
        "        if i * batch_size >= sample_count:\n",
        "            break\n",
        "    return features, labels\n",
        "train_features, train_labels = extract_features(train_dir, 2597)\n",
        "validation_features, validation_labels = extract_features(validation_dir,1558)\n",
        "test_features, test_labels = extract_features(test_dir, 1045)"
      ],
      "execution_count": 0,
      "outputs": [
        {
          "output_type": "stream",
          "text": [
            "Found 2597 images belonging to 2 classes.\n",
            "Found 1558 images belonging to 2 classes.\n",
            "Found 1045 images belonging to 2 classes.\n"
          ],
          "name": "stdout"
        }
      ]
    },
    {
      "cell_type": "code",
      "metadata": {
        "id": "uxVqY_cGGgFy",
        "colab_type": "code",
        "colab": {}
      },
      "source": [
        "train_features = np.reshape(train_features, (2597, 4*4* 512))\n",
        "validation_features = np.reshape(validation_features, (1558, 4*4* 512))\n",
        "test_features = np.reshape(test_features, (1045, 4*4* 512))"
      ],
      "execution_count": 0,
      "outputs": []
    },
    {
      "cell_type": "code",
      "metadata": {
        "id": "Fp2-qEGYBBag",
        "colab_type": "code",
        "outputId": "bd2c5456-1b69-497e-b5e4-3f994b480957",
        "colab": {
          "base_uri": "https://localhost:8080/",
          "height": 1000
        }
      },
      "source": [
        "from keras import models\n",
        "from keras import layers\n",
        "from keras import optimizers\n",
        "import keras\n",
        "\n",
        "model = models.Sequential()\n",
        "model.add(layers.Dense(256, activation='relu', input_dim=4* 4 * 512))\n",
        "model.add(layers.Dropout(0.2))\n",
        "model.add(layers.Dense(1, activation='sigmoid'))\n",
        "\n",
        "model.summary()\n",
        "model.compile(optimizer=optimizers.RMSprop(lr=2e-5),\n",
        "  loss='binary_crossentropy',\n",
        "  metrics=['acc'])\n",
        "\n",
        "history = model.fit(train_features, train_labels,\n",
        "  epochs=30,\n",
        "  batch_size=20,\n",
        "  validation_data=(validation_features, validation_labels)\n",
        ")"
      ],
      "execution_count": 0,
      "outputs": [
        {
          "output_type": "stream",
          "text": [
            "WARNING:tensorflow:From /usr/local/lib/python3.6/dist-packages/keras/backend/tensorflow_backend.py:148: The name tf.placeholder_with_default is deprecated. Please use tf.compat.v1.placeholder_with_default instead.\n",
            "\n",
            "WARNING:tensorflow:From /usr/local/lib/python3.6/dist-packages/keras/backend/tensorflow_backend.py:3733: calling dropout (from tensorflow.python.ops.nn_ops) with keep_prob is deprecated and will be removed in a future version.\n",
            "Instructions for updating:\n",
            "Please use `rate` instead of `keep_prob`. Rate should be set to `rate = 1 - keep_prob`.\n",
            "Model: \"sequential_1\"\n",
            "_________________________________________________________________\n",
            "Layer (type)                 Output Shape              Param #   \n",
            "=================================================================\n",
            "dense_1 (Dense)              (None, 256)               2097408   \n",
            "_________________________________________________________________\n",
            "dropout_1 (Dropout)          (None, 256)               0         \n",
            "_________________________________________________________________\n",
            "dense_2 (Dense)              (None, 1)                 257       \n",
            "=================================================================\n",
            "Total params: 2,097,665\n",
            "Trainable params: 2,097,665\n",
            "Non-trainable params: 0\n",
            "_________________________________________________________________\n",
            "WARNING:tensorflow:From /usr/local/lib/python3.6/dist-packages/keras/optimizers.py:793: The name tf.train.Optimizer is deprecated. Please use tf.compat.v1.train.Optimizer instead.\n",
            "\n",
            "WARNING:tensorflow:From /usr/local/lib/python3.6/dist-packages/keras/backend/tensorflow_backend.py:3657: The name tf.log is deprecated. Please use tf.math.log instead.\n",
            "\n",
            "WARNING:tensorflow:From /usr/local/lib/python3.6/dist-packages/tensorflow_core/python/ops/nn_impl.py:183: where (from tensorflow.python.ops.array_ops) is deprecated and will be removed in a future version.\n",
            "Instructions for updating:\n",
            "Use tf.where in 2.0, which has the same broadcast rule as np.where\n",
            "WARNING:tensorflow:From /usr/local/lib/python3.6/dist-packages/keras/backend/tensorflow_backend.py:1033: The name tf.assign_add is deprecated. Please use tf.compat.v1.assign_add instead.\n",
            "\n",
            "WARNING:tensorflow:From /usr/local/lib/python3.6/dist-packages/keras/backend/tensorflow_backend.py:1020: The name tf.assign is deprecated. Please use tf.compat.v1.assign instead.\n",
            "\n",
            "Train on 2597 samples, validate on 1558 samples\n",
            "Epoch 1/30\n",
            "2597/2597 [==============================] - 1s 402us/step - loss: 0.7062 - acc: 0.5379 - val_loss: 0.6710 - val_acc: 0.5911\n",
            "Epoch 2/30\n",
            "2597/2597 [==============================] - 1s 268us/step - loss: 0.6666 - acc: 0.5957 - val_loss: 0.6513 - val_acc: 0.6335\n",
            "Epoch 3/30\n",
            "2597/2597 [==============================] - 1s 268us/step - loss: 0.6369 - acc: 0.6407 - val_loss: 0.6400 - val_acc: 0.6348\n",
            "Epoch 4/30\n",
            "2597/2597 [==============================] - 1s 259us/step - loss: 0.6130 - acc: 0.6796 - val_loss: 0.6387 - val_acc: 0.6367\n",
            "Epoch 5/30\n",
            "2597/2597 [==============================] - 1s 269us/step - loss: 0.5903 - acc: 0.6946 - val_loss: 0.6295 - val_acc: 0.6207\n",
            "Epoch 6/30\n",
            "2597/2597 [==============================] - 1s 273us/step - loss: 0.5693 - acc: 0.7189 - val_loss: 0.6061 - val_acc: 0.6906\n",
            "Epoch 7/30\n",
            "2597/2597 [==============================] - 1s 263us/step - loss: 0.5529 - acc: 0.7459 - val_loss: 0.5922 - val_acc: 0.7041\n",
            "Epoch 8/30\n",
            "2597/2597 [==============================] - 1s 272us/step - loss: 0.5363 - acc: 0.7586 - val_loss: 0.5823 - val_acc: 0.7137\n",
            "Epoch 9/30\n",
            "2597/2597 [==============================] - 1s 274us/step - loss: 0.5191 - acc: 0.7740 - val_loss: 0.5729 - val_acc: 0.7176\n",
            "Epoch 10/30\n",
            "2597/2597 [==============================] - 1s 271us/step - loss: 0.5067 - acc: 0.7794 - val_loss: 0.5652 - val_acc: 0.7246\n",
            "Epoch 11/30\n",
            "2597/2597 [==============================] - 1s 269us/step - loss: 0.4873 - acc: 0.7982 - val_loss: 0.5573 - val_acc: 0.7234\n",
            "Epoch 12/30\n",
            "2597/2597 [==============================] - 1s 285us/step - loss: 0.4738 - acc: 0.8136 - val_loss: 0.5512 - val_acc: 0.7368\n",
            "Epoch 13/30\n",
            "2597/2597 [==============================] - 1s 269us/step - loss: 0.4626 - acc: 0.8225 - val_loss: 0.5412 - val_acc: 0.7465\n",
            "Epoch 14/30\n",
            "2597/2597 [==============================] - 1s 256us/step - loss: 0.4524 - acc: 0.8313 - val_loss: 0.5298 - val_acc: 0.7664\n",
            "Epoch 15/30\n",
            "2597/2597 [==============================] - 1s 266us/step - loss: 0.4391 - acc: 0.8433 - val_loss: 0.5214 - val_acc: 0.7555\n",
            "Epoch 16/30\n",
            "2597/2597 [==============================] - 1s 283us/step - loss: 0.4244 - acc: 0.8510 - val_loss: 0.5164 - val_acc: 0.7542\n",
            "Epoch 17/30\n",
            "2597/2597 [==============================] - 1s 276us/step - loss: 0.4140 - acc: 0.8587 - val_loss: 0.5103 - val_acc: 0.7689\n",
            "Epoch 18/30\n",
            "2597/2597 [==============================] - 1s 269us/step - loss: 0.4044 - acc: 0.8645 - val_loss: 0.5017 - val_acc: 0.7747\n",
            "Epoch 19/30\n",
            "2597/2597 [==============================] - 1s 279us/step - loss: 0.3931 - acc: 0.8656 - val_loss: 0.4921 - val_acc: 0.7766\n",
            "Epoch 20/30\n",
            "2597/2597 [==============================] - 1s 276us/step - loss: 0.3859 - acc: 0.8725 - val_loss: 0.4884 - val_acc: 0.7779\n",
            "Epoch 21/30\n",
            "2597/2597 [==============================] - 1s 288us/step - loss: 0.3742 - acc: 0.8787 - val_loss: 0.4794 - val_acc: 0.7895\n",
            "Epoch 22/30\n",
            "2597/2597 [==============================] - 1s 264us/step - loss: 0.3626 - acc: 0.8891 - val_loss: 0.4732 - val_acc: 0.7978\n",
            "Epoch 23/30\n",
            "2597/2597 [==============================] - 1s 258us/step - loss: 0.3574 - acc: 0.8895 - val_loss: 0.4651 - val_acc: 0.7908\n",
            "Epoch 24/30\n",
            "2597/2597 [==============================] - 1s 277us/step - loss: 0.3474 - acc: 0.8953 - val_loss: 0.4560 - val_acc: 0.7972\n",
            "Epoch 25/30\n",
            "2597/2597 [==============================] - 1s 261us/step - loss: 0.3376 - acc: 0.8956 - val_loss: 0.4520 - val_acc: 0.8055\n",
            "Epoch 26/30\n",
            "2597/2597 [==============================] - 1s 272us/step - loss: 0.3276 - acc: 0.8999 - val_loss: 0.4480 - val_acc: 0.8107\n",
            "Epoch 27/30\n",
            "2597/2597 [==============================] - 1s 245us/step - loss: 0.3212 - acc: 0.9103 - val_loss: 0.4420 - val_acc: 0.8068\n",
            "Epoch 28/30\n",
            "2597/2597 [==============================] - 1s 271us/step - loss: 0.3128 - acc: 0.9060 - val_loss: 0.4319 - val_acc: 0.8228\n",
            "Epoch 29/30\n",
            "2597/2597 [==============================] - 1s 279us/step - loss: 0.3069 - acc: 0.9168 - val_loss: 0.4345 - val_acc: 0.8062\n",
            "Epoch 30/30\n",
            "2597/2597 [==============================] - 1s 277us/step - loss: 0.2969 - acc: 0.9130 - val_loss: 0.4203 - val_acc: 0.8318\n"
          ],
          "name": "stdout"
        }
      ]
    },
    {
      "cell_type": "code",
      "metadata": {
        "id": "ZdYGJv7LBJu2",
        "colab_type": "code",
        "outputId": "4da60813-b9d9-46cd-8bbc-eeb17e1c87de",
        "colab": {
          "base_uri": "https://localhost:8080/",
          "height": 545
        }
      },
      "source": [
        "import matplotlib.pyplot as plt\n",
        "acc = history.history['acc']\n",
        "val_acc = history.history['val_acc']\n",
        "loss = history.history['loss']\n",
        "val_loss = history.history['val_loss']\n",
        "epochs = range(1, len(acc) + 1)\n",
        "plt.plot(epochs, acc, 'bo', label='Training acc')\n",
        "plt.plot(epochs, val_acc, 'b', label='Validation acc')\n",
        "plt.title('Training and validation accuracy')\n",
        "plt.legend()\n",
        "plt.figure()\n",
        "plt.plot(epochs, loss, 'bo', label='Training loss')\n",
        "plt.plot(epochs, val_loss, 'b', label='Validation loss')\n",
        "plt.title('Training and validation loss')\n",
        "plt.legend()\n",
        "plt.show()"
      ],
      "execution_count": 0,
      "outputs": [
        {
          "output_type": "display_data",
          "data": {
            "image/png": "[encoded data removed]",
            "text/plain": [
              "<Figure size 432x288 with 1 Axes>"
            ]
          },
          "metadata": {
            "tags": []
          }
        },
        {
          "output_type": "display_data",
          "data": {
            "image/png": "[encoded data removed]",
            "text/plain": [
              "<Figure size 432x288 with 1 Axes>"
            ]
          },
          "metadata": {
            "tags": []
          }
        }
      ]
    },
    {
      "cell_type": "code",
      "metadata": {
        "id": "DjWWMw04sh8q",
        "colab_type": "code",
        "colab": {}
      },
      "source": [
        "from keras import models\n",
        "from keras import layers\n",
        "model = models.Sequential()\n",
        "model.add(conv_base)\n",
        "model.add(layers.Flatten())\n",
        "model.add(layers.Dense(256, activation='relu'))\n",
        "model.add(layers.Dense(1, activation='sigmoid'))"
      ],
      "execution_count": 0,
      "outputs": []
    },
    {
      "cell_type": "code",
      "metadata": {
        "id": "A5-3mqokcL3E",
        "colab_type": "code",
        "outputId": "303de3d2-63eb-4d39-ea2b-c0aff82a9113",
        "colab": {
          "base_uri": "https://localhost:8080/",
          "height": 311
        }
      },
      "source": [
        "model.summary()"
      ],
      "execution_count": 0,
      "outputs": [
        {
          "output_type": "stream",
          "text": [
            "Model: \"sequential_2\"\n",
            "_________________________________________________________________\n",
            "Layer (type)                 Output Shape              Param #   \n",
            "=================================================================\n",
            "vgg16 (Model)                (None, 4, 4, 512)         14714688  \n",
            "_________________________________________________________________\n",
            "flatten_1 (Flatten)          (None, 8192)              0         \n",
            "_________________________________________________________________\n",
            "dense_3 (Dense)              (None, 256)               2097408   \n",
            "_________________________________________________________________\n",
            "dense_4 (Dense)              (None, 1)                 257       \n",
            "=================================================================\n",
            "Total params: 16,812,353\n",
            "Trainable params: 16,812,353\n",
            "Non-trainable params: 0\n",
            "_________________________________________________________________\n"
          ],
          "name": "stdout"
        }
      ]
    },
    {
      "cell_type": "code",
      "metadata": {
        "id": "r53fwHtdcON9",
        "colab_type": "code",
        "outputId": "8ad1410e-e22f-4e63-b3b8-0ad047bdd723",
        "colab": {
          "base_uri": "https://localhost:8080/",
          "height": 1000
        }
      },
      "source": [
        "from keras.preprocessing.image import ImageDataGenerator\n",
        "from keras import optimizers\n",
        "\n",
        "train_datagen = ImageDataGenerator(\n",
        "    rescale=1./255,\n",
        "    # rotation_range=40,\n",
        "    # width_shift_range=0.2,\n",
        "    # height_shift_range=0.2,\n",
        "    # shear_range=0.2,\n",
        "    # zoom_range=0.2,\n",
        "    # horizontal_flip=True,\n",
        "    # fill_mode='nearest'\n",
        "    )\n",
        "\n",
        "test_datagen = ImageDataGenerator(rescale=1./255)\n",
        "\n",
        "train_generator = train_datagen.flow_from_directory(\n",
        "    train_dir,\n",
        "    target_size=(150, 150),\n",
        "    batch_size=20,\n",
        "    class_mode='binary')\n",
        "\n",
        "validation_generator = test_datagen.flow_from_directory(\n",
        "    validation_dir,\n",
        "    target_size=(150, 150),\n",
        "    batch_size=20,\n",
        "    class_mode='binary')\n",
        "\n",
        "model.compile(loss='binary_crossentropy',\n",
        "    optimizer=optimizers.RMSprop(lr=2e-5),\n",
        "    metrics=['acc'])\n",
        "\n",
        "history = model.fit_generator(\n",
        "    train_generator,\n",
        "    steps_per_epoch=100,\n",
        "    epochs=30,\n",
        "    validation_data=validation_generator,\n",
        "    validation_steps=20)"
      ],
      "execution_count": 0,
      "outputs": [
        {
          "output_type": "stream",
          "text": [
            "Found 2597 images belonging to 2 classes.\n",
            "Found 1558 images belonging to 2 classes.\n",
            "Epoch 1/30\n",
            "100/100 [==============================] - 33s 330ms/step - loss: 0.6806 - acc: 0.5660 - val_loss: 0.6493 - val_acc: 0.5850\n",
            "Epoch 2/30\n",
            "100/100 [==============================] - 30s 299ms/step - loss: 0.5614 - acc: 0.7095 - val_loss: 0.5465 - val_acc: 0.7300\n",
            "Epoch 3/30\n",
            "100/100 [==============================] - 29s 293ms/step - loss: 0.3857 - acc: 0.8421 - val_loss: 0.3675 - val_acc: 0.8375\n",
            "Epoch 4/30\n",
            "100/100 [==============================] - 29s 293ms/step - loss: 0.2595 - acc: 0.8985 - val_loss: 0.2735 - val_acc: 0.8693\n",
            "Epoch 5/30\n",
            "100/100 [==============================] - 29s 285ms/step - loss: 0.1553 - acc: 0.9410 - val_loss: 0.1873 - val_acc: 0.9350\n",
            "Epoch 6/30\n",
            "100/100 [==============================] - 29s 286ms/step - loss: 0.0946 - acc: 0.9720 - val_loss: 0.1320 - val_acc: 0.9500\n",
            "Epoch 7/30\n",
            "100/100 [==============================] - 29s 286ms/step - loss: 0.0664 - acc: 0.9763 - val_loss: 0.1965 - val_acc: 0.9150\n",
            "Epoch 8/30\n",
            "100/100 [==============================] - 29s 286ms/step - loss: 0.0504 - acc: 0.9819 - val_loss: 0.0850 - val_acc: 0.9724\n",
            "Epoch 9/30\n",
            "100/100 [==============================] - 28s 283ms/step - loss: 0.0361 - acc: 0.9890 - val_loss: 0.1155 - val_acc: 0.9525\n",
            "Epoch 10/30\n",
            "100/100 [==============================] - 29s 287ms/step - loss: 0.0299 - acc: 0.9894 - val_loss: 0.0660 - val_acc: 0.9775\n",
            "Epoch 11/30\n",
            "100/100 [==============================] - 28s 281ms/step - loss: 0.0311 - acc: 0.9915 - val_loss: 0.0799 - val_acc: 0.9725\n",
            "Epoch 12/30\n",
            "100/100 [==============================] - 28s 284ms/step - loss: 0.0199 - acc: 0.9935 - val_loss: 0.0640 - val_acc: 0.9774\n",
            "Epoch 13/30\n",
            "100/100 [==============================] - 28s 283ms/step - loss: 0.0104 - acc: 0.9980 - val_loss: 0.1328 - val_acc: 0.9425\n",
            "Epoch 14/30\n",
            "100/100 [==============================] - 29s 286ms/step - loss: 0.0221 - acc: 0.9940 - val_loss: 0.1038 - val_acc: 0.9650\n",
            "Epoch 15/30\n",
            "100/100 [==============================] - 29s 285ms/step - loss: 0.0233 - acc: 0.9945 - val_loss: 0.2411 - val_acc: 0.9275\n",
            "Epoch 16/30\n",
            "100/100 [==============================] - 28s 285ms/step - loss: 0.0096 - acc: 0.9970 - val_loss: 0.4518 - val_acc: 0.9146\n",
            "Epoch 17/30\n",
            "100/100 [==============================] - 28s 283ms/step - loss: 0.0255 - acc: 0.9930 - val_loss: 0.2331 - val_acc: 0.9250\n",
            "Epoch 18/30\n",
            "100/100 [==============================] - 28s 283ms/step - loss: 0.0096 - acc: 0.9975 - val_loss: 0.0644 - val_acc: 0.9850\n",
            "Epoch 19/30\n",
            "100/100 [==============================] - 29s 285ms/step - loss: 0.0168 - acc: 0.9970 - val_loss: 0.0676 - val_acc: 0.9725\n",
            "Epoch 20/30\n",
            "100/100 [==============================] - 29s 289ms/step - loss: 0.0331 - acc: 0.9945 - val_loss: 0.0980 - val_acc: 0.9673\n",
            "Epoch 21/30\n",
            "100/100 [==============================] - 28s 280ms/step - loss: 0.0201 - acc: 0.9945 - val_loss: 0.0865 - val_acc: 0.9675\n",
            "Epoch 22/30\n",
            "100/100 [==============================] - 28s 284ms/step - loss: 0.0053 - acc: 0.9990 - val_loss: 0.0696 - val_acc: 0.9800\n",
            "Epoch 23/30\n",
            "100/100 [==============================] - 28s 283ms/step - loss: 0.0154 - acc: 0.9950 - val_loss: 0.0593 - val_acc: 0.9750\n",
            "Epoch 24/30\n",
            "100/100 [==============================] - 29s 289ms/step - loss: 0.0199 - acc: 0.9955 - val_loss: 0.0775 - val_acc: 0.9724\n",
            "Epoch 25/30\n",
            "100/100 [==============================] - 28s 284ms/step - loss: 0.0077 - acc: 0.9985 - val_loss: 0.0632 - val_acc: 0.9725\n",
            "Epoch 26/30\n",
            "100/100 [==============================] - 28s 284ms/step - loss: 0.0072 - acc: 0.9980 - val_loss: 0.1159 - val_acc: 0.9700\n",
            "Epoch 27/30\n",
            "100/100 [==============================] - 29s 285ms/step - loss: 0.0073 - acc: 0.9959 - val_loss: 0.0380 - val_acc: 0.9850\n",
            "Epoch 28/30\n",
            "100/100 [==============================] - 29s 292ms/step - loss: 2.0959e-05 - acc: 1.0000 - val_loss: 0.0488 - val_acc: 0.9874\n",
            "Epoch 29/30\n",
            "100/100 [==============================] - 29s 285ms/step - loss: 0.0171 - acc: 0.9950 - val_loss: 0.0893 - val_acc: 0.9775\n",
            "Epoch 30/30\n",
            "100/100 [==============================] - 29s 289ms/step - loss: 0.0106 - acc: 0.9980 - val_loss: 0.0951 - val_acc: 0.9700\n"
          ],
          "name": "stdout"
        }
      ]
    },
    {
      "cell_type": "code",
      "metadata": {
        "id": "U7--W__dKxgY",
        "colab_type": "code",
        "outputId": "e1c03099-0b8c-4013-de33-f50232955216",
        "colab": {
          "base_uri": "https://localhost:8080/",
          "height": 545
        }
      },
      "source": [
        "import matplotlib.pyplot as plt\n",
        "acc = history.history['acc']\n",
        "val_acc = history.history['val_acc']\n",
        "loss = history.history['loss']\n",
        "val_loss = history.history['val_loss']\n",
        "epochs = range(1, len(acc) + 1)\n",
        "plt.plot(epochs, acc, 'bo', label='Training acc')\n",
        "plt.plot(epochs, val_acc, 'b', label='Validation acc')\n",
        "plt.title('Training and validation accuracy')\n",
        "plt.legend()\n",
        "plt.figure()\n",
        "plt.plot(epochs, loss, 'bo', label='Training loss')\n",
        "plt.plot(epochs, val_loss, 'b', label='Validation loss')\n",
        "plt.title('Training and validation loss')\n",
        "plt.legend()\n",
        "plt.show()"
      ],
      "execution_count": 0,
      "outputs": [
        {
          "output_type": "display_data",
          "data": {
            "image/png": "[encoded data removed]",
            "text/plain": [
              "<Figure size 432x288 with 1 Axes>"
            ]
          },
          "metadata": {
            "tags": []
          }
        },
        {
          "output_type": "display_data",
          "data": {
            "image/png": "[encoded data removed]",
            "text/plain": [
              "<Figure size 432x288 with 1 Axes>"
            ]
          },
          "metadata": {
            "tags": []
          }
        }
      ]
    },
    {
      "cell_type": "code",
      "metadata": {
        "id": "g-KfyWrPOL2W",
        "colab_type": "code",
        "outputId": "a5238ca2-2e79-4b67-db9f-c3051497e1ab",
        "colab": {
          "base_uri": "https://localhost:8080/",
          "height": 862
        }
      },
      "source": [
        "conv_base.summary()"
      ],
      "execution_count": 0,
      "outputs": [
        {
          "output_type": "stream",
          "text": [
            "Model: \"vgg16\"\n",
            "_________________________________________________________________\n",
            "Layer (type)                 Output Shape              Param #   \n",
            "=================================================================\n",
            "input_1 (InputLayer)         (None, 150, 150, 3)       0         \n",
            "_________________________________________________________________\n",
            "block1_conv1 (Conv2D)        (None, 150, 150, 64)      1792      \n",
            "_________________________________________________________________\n",
            "block1_conv2 (Conv2D)        (None, 150, 150, 64)      36928     \n",
            "_________________________________________________________________\n",
            "block1_pool (MaxPooling2D)   (None, 75, 75, 64)        0         \n",
            "_________________________________________________________________\n",
            "block2_conv1 (Conv2D)        (None, 75, 75, 128)       73856     \n",
            "_________________________________________________________________\n",
            "block2_conv2 (Conv2D)        (None, 75, 75, 128)       147584    \n",
            "_________________________________________________________________\n",
            "block2_pool (MaxPooling2D)   (None, 37, 37, 128)       0         \n",
            "_________________________________________________________________\n",
            "block3_conv1 (Conv2D)        (None, 37, 37, 256)       295168    \n",
            "_________________________________________________________________\n",
            "block3_conv2 (Conv2D)        (None, 37, 37, 256)       590080    \n",
            "_________________________________________________________________\n",
            "block3_conv3 (Conv2D)        (None, 37, 37, 256)       590080    \n",
            "_________________________________________________________________\n",
            "block3_pool (MaxPooling2D)   (None, 18, 18, 256)       0         \n",
            "_________________________________________________________________\n",
            "block4_conv1 (Conv2D)        (None, 18, 18, 512)       1180160   \n",
            "_________________________________________________________________\n",
            "block4_conv2 (Conv2D)        (None, 18, 18, 512)       2359808   \n",
            "_________________________________________________________________\n",
            "block4_conv3 (Conv2D)        (None, 18, 18, 512)       2359808   \n",
            "_________________________________________________________________\n",
            "block4_pool (MaxPooling2D)   (None, 9, 9, 512)         0         \n",
            "_________________________________________________________________\n",
            "block5_conv1 (Conv2D)        (None, 9, 9, 512)         2359808   \n",
            "_________________________________________________________________\n",
            "block5_conv2 (Conv2D)        (None, 9, 9, 512)         2359808   \n",
            "_________________________________________________________________\n",
            "block5_conv3 (Conv2D)        (None, 9, 9, 512)         2359808   \n",
            "_________________________________________________________________\n",
            "block5_pool (MaxPooling2D)   (None, 4, 4, 512)         0         \n",
            "=================================================================\n",
            "Total params: 14,714,688\n",
            "Trainable params: 14,714,688\n",
            "Non-trainable params: 0\n",
            "_________________________________________________________________\n"
          ],
          "name": "stdout"
        }
      ]
    },
    {
      "cell_type": "code",
      "metadata": {
        "id": "uByUG_dvxK9T",
        "colab_type": "code",
        "outputId": "7e149812-fd92-4ffd-f912-6593666a45b9",
        "colab": {
          "base_uri": "https://localhost:8080/",
          "height": 54
        }
      },
      "source": [
        "test_generator = test_datagen.flow_from_directory(\n",
        "    test_dir,\n",
        "    target_size=(150, 150),\n",
        "    batch_size=20,\n",
        "    class_mode='binary')\n",
        "test_loss, test_acc = model.evaluate_generator(test_generator, steps=50)\n",
        "print('test acc:', test_acc)"
      ],
      "execution_count": 0,
      "outputs": [
        {
          "output_type": "stream",
          "text": [
            "Found 1045 images belonging to 2 classes.\n",
            "test acc: 0.9639999949932099\n"
          ],
          "name": "stdout"
        }
      ]
    },
    {
      "cell_type": "code",
      "metadata": {
        "id": "R_NOF39wOXvq",
        "colab_type": "code",
        "colab": {}
      },
      "source": [
        "conv_base.trainable = True\n",
        "set_trainable = False\n",
        "for layer in conv_base.layers:\n",
        "  if layer.name == 'block5_conv1':\n",
        "    set_trainable = True\n",
        "  if set_trainable:\n",
        "    layer.trainable = True\n",
        "  else:\n",
        "    layer.trainable = False"
      ],
      "execution_count": 0,
      "outputs": []
    },
    {
      "cell_type": "code",
      "metadata": {
        "id": "AGtsgng_OmgP",
        "colab_type": "code",
        "outputId": "fda3646b-4093-4e70-8bc4-d7069f92f04c",
        "colab": {
          "base_uri": "https://localhost:8080/",
          "height": 1000
        }
      },
      "source": [
        "from keras.callbacks import ModelCheckpoint, EarlyStopping\n",
        "\n",
        "checkpoint = ModelCheckpoint(\"Rotated - VGG - CNN(Augmented1).h5\", \n",
        "                             monitor='val_acc', \n",
        "                             verbose=1, \n",
        "                             save_best_only=True, \n",
        "                             save_weights_only=False, \n",
        "                             mode='auto', period=1)\n",
        "\n",
        "early = EarlyStopping(monitor='val_acc', \n",
        "                      min_delta=0, \n",
        "                      patience=20, \n",
        "                      verbose=1, \n",
        "                      mode='auto')\n",
        "\n",
        "\n",
        "model.compile(loss='binary_crossentropy',\n",
        "    optimizer=optimizers.RMSprop(lr=1e-5),\n",
        "    metrics=['acc'])\n",
        "\n",
        "history = model.fit_generator(\n",
        "    train_generator,\n",
        "    steps_per_epoch=100,\n",
        "    epochs=50,\n",
        "    validation_data=validation_generator,\n",
        "    validation_steps=50,\n",
        "    callbacks = [checkpoint, early])\n"
      ],
      "execution_count": 0,
      "outputs": [
        {
          "output_type": "stream",
          "text": [
            "Epoch 1/50\n",
            "100/100 [==============================] - 39s 391ms/step - loss: 7.9680e-05 - acc: 1.0000 - val_loss: 0.0815 - val_acc: 0.9780\n",
            "\n",
            "Epoch 00001: val_acc improved from -inf to 0.97800, saving model to Rotated - VGG - CNN(Augmented1).h5\n",
            "Epoch 2/50\n",
            "100/100 [==============================] - 37s 369ms/step - loss: 6.3108e-06 - acc: 1.0000 - val_loss: 0.0718 - val_acc: 0.9820\n",
            "\n",
            "Epoch 00002: val_acc improved from 0.97800 to 0.98196, saving model to Rotated - VGG - CNN(Augmented1).h5\n",
            "Epoch 3/50\n",
            "100/100 [==============================] - 36s 363ms/step - loss: 6.1786e-07 - acc: 1.0000 - val_loss: 0.0542 - val_acc: 0.9860\n",
            "\n",
            "Epoch 00003: val_acc improved from 0.98196 to 0.98600, saving model to Rotated - VGG - CNN(Augmented1).h5\n",
            "Epoch 4/50\n",
            "100/100 [==============================] - 37s 370ms/step - loss: 1.5125e-07 - acc: 1.0000 - val_loss: 0.0580 - val_acc: 0.9850\n",
            "\n",
            "Epoch 00004: val_acc did not improve from 0.98600\n",
            "Epoch 5/50\n",
            "100/100 [==============================] - 35s 350ms/step - loss: 1.1912e-07 - acc: 1.0000 - val_loss: 0.0945 - val_acc: 0.9780\n",
            "\n",
            "Epoch 00005: val_acc did not improve from 0.98600\n",
            "Epoch 6/50\n",
            "100/100 [==============================] - 34s 336ms/step - loss: 1.1553e-07 - acc: 1.0000 - val_loss: 0.0755 - val_acc: 0.9850\n",
            "\n",
            "Epoch 00006: val_acc did not improve from 0.98600\n",
            "Epoch 7/50\n",
            "100/100 [==============================] - 34s 338ms/step - loss: 1.1294e-07 - acc: 1.0000 - val_loss: 0.1028 - val_acc: 0.9810\n",
            "\n",
            "Epoch 00007: val_acc did not improve from 0.98600\n",
            "Epoch 8/50\n",
            "100/100 [==============================] - 34s 341ms/step - loss: 1.1095e-07 - acc: 1.0000 - val_loss: 0.0481 - val_acc: 0.9880\n",
            "\n",
            "Epoch 00008: val_acc improved from 0.98600 to 0.98798, saving model to Rotated - VGG - CNN(Augmented1).h5\n",
            "Epoch 9/50\n",
            "100/100 [==============================] - 34s 343ms/step - loss: 1.1094e-07 - acc: 1.0000 - val_loss: 0.0736 - val_acc: 0.9850\n",
            "\n",
            "Epoch 00009: val_acc did not improve from 0.98798\n",
            "Epoch 10/50\n",
            "100/100 [==============================] - 34s 342ms/step - loss: 1.1001e-07 - acc: 1.0000 - val_loss: 0.0759 - val_acc: 0.9850\n",
            "\n",
            "Epoch 00010: val_acc did not improve from 0.98798\n",
            "Epoch 11/50\n",
            "100/100 [==============================] - 34s 343ms/step - loss: 1.1021e-07 - acc: 1.0000 - val_loss: 0.0750 - val_acc: 0.9810\n",
            "\n",
            "Epoch 00011: val_acc did not improve from 0.98798\n",
            "Epoch 12/50\n",
            "100/100 [==============================] - 34s 342ms/step - loss: 1.0978e-07 - acc: 1.0000 - val_loss: 0.0663 - val_acc: 0.9860\n",
            "\n",
            "Epoch 00012: val_acc did not improve from 0.98798\n",
            "Epoch 13/50\n",
            "100/100 [==============================] - 35s 345ms/step - loss: 1.0928e-07 - acc: 1.0000 - val_loss: 0.0824 - val_acc: 0.9820\n",
            "\n",
            "Epoch 00013: val_acc did not improve from 0.98798\n",
            "Epoch 14/50\n",
            "100/100 [==============================] - 34s 341ms/step - loss: 1.0925e-07 - acc: 1.0000 - val_loss: 0.0796 - val_acc: 0.9810\n",
            "\n",
            "Epoch 00014: val_acc did not improve from 0.98798\n",
            "Epoch 15/50\n",
            "100/100 [==============================] - 34s 344ms/step - loss: 1.0928e-07 - acc: 1.0000 - val_loss: 0.0931 - val_acc: 0.9850\n",
            "\n",
            "Epoch 00015: val_acc did not improve from 0.98798\n",
            "Epoch 16/50\n",
            "100/100 [==============================] - 34s 343ms/step - loss: 1.0934e-07 - acc: 1.0000 - val_loss: 0.0701 - val_acc: 0.9850\n",
            "\n",
            "Epoch 00016: val_acc did not improve from 0.98798\n",
            "Epoch 17/50\n",
            "100/100 [==============================] - 34s 340ms/step - loss: 1.0936e-07 - acc: 1.0000 - val_loss: 0.0751 - val_acc: 0.9840\n",
            "\n",
            "Epoch 00017: val_acc did not improve from 0.98798\n",
            "Epoch 18/50\n",
            "100/100 [==============================] - 35s 347ms/step - loss: 1.0922e-07 - acc: 1.0000 - val_loss: 0.0933 - val_acc: 0.9830\n",
            "\n",
            "Epoch 00018: val_acc did not improve from 0.98798\n",
            "Epoch 19/50\n",
            "100/100 [==============================] - 34s 342ms/step - loss: 1.0890e-07 - acc: 1.0000 - val_loss: 0.0719 - val_acc: 0.9800\n",
            "\n",
            "Epoch 00019: val_acc did not improve from 0.98798\n",
            "Epoch 20/50\n",
            "100/100 [==============================] - 35s 345ms/step - loss: 1.0917e-07 - acc: 1.0000 - val_loss: 0.0521 - val_acc: 0.9850\n",
            "\n",
            "Epoch 00020: val_acc did not improve from 0.98798\n",
            "Epoch 21/50\n",
            "100/100 [==============================] - 35s 351ms/step - loss: 1.0903e-07 - acc: 1.0000 - val_loss: 0.0808 - val_acc: 0.9860\n",
            "\n",
            "Epoch 00021: val_acc did not improve from 0.98798\n",
            "Epoch 22/50\n",
            "100/100 [==============================] - 35s 352ms/step - loss: 1.0921e-07 - acc: 1.0000 - val_loss: 0.0935 - val_acc: 0.9810\n",
            "\n",
            "Epoch 00022: val_acc did not improve from 0.98798\n",
            "Epoch 23/50\n",
            "100/100 [==============================] - 35s 353ms/step - loss: 1.0910e-07 - acc: 1.0000 - val_loss: 0.0626 - val_acc: 0.9860\n",
            "\n",
            "Epoch 00023: val_acc did not improve from 0.98798\n",
            "Epoch 24/50\n",
            "100/100 [==============================] - 35s 349ms/step - loss: 1.0908e-07 - acc: 1.0000 - val_loss: 0.0824 - val_acc: 0.9800\n",
            "\n",
            "Epoch 00024: val_acc did not improve from 0.98798\n",
            "Epoch 25/50\n",
            "100/100 [==============================] - 35s 346ms/step - loss: 1.0898e-07 - acc: 1.0000 - val_loss: 0.0898 - val_acc: 0.9820\n",
            "\n",
            "Epoch 00025: val_acc did not improve from 0.98798\n",
            "Epoch 26/50\n",
            "100/100 [==============================] - 35s 348ms/step - loss: 1.0905e-07 - acc: 1.0000 - val_loss: 0.0775 - val_acc: 0.9830\n",
            "\n",
            "Epoch 00026: val_acc did not improve from 0.98798\n",
            "Epoch 27/50\n",
            "100/100 [==============================] - 35s 346ms/step - loss: 1.0911e-07 - acc: 1.0000 - val_loss: 0.0746 - val_acc: 0.9830\n",
            "\n",
            "Epoch 00027: val_acc did not improve from 0.98798\n",
            "Epoch 28/50\n",
            "100/100 [==============================] - 34s 344ms/step - loss: 1.0913e-07 - acc: 1.0000 - val_loss: 0.0760 - val_acc: 0.9860\n",
            "\n",
            "Epoch 00028: val_acc did not improve from 0.98798\n",
            "Epoch 00028: early stopping\n"
          ],
          "name": "stdout"
        }
      ]
    },
    {
      "cell_type": "code",
      "metadata": {
        "id": "wA7GpfhVO41F",
        "colab_type": "code",
        "outputId": "c49987be-5f6b-44fb-cb65-ecbd48729eec",
        "colab": {
          "base_uri": "https://localhost:8080/",
          "height": 545
        }
      },
      "source": [
        "def smooth_curve(points, factor=0.1):\n",
        "  smoothed_points = []\n",
        "  for point in points:\n",
        "    if smoothed_points:\n",
        "      previous = smoothed_points[-1]\n",
        "      smoothed_points.append(previous * factor + point * (1 - factor))\n",
        "    else:\n",
        "        smoothed_points.append(point)\n",
        "  return smoothed_points\n",
        "plt.plot(epochs,\n",
        "  smooth_curve(acc), 'bo', label='Smoothed training acc')\n",
        "plt.plot(epochs,\n",
        "  smooth_curve(val_acc), 'b', label='Smoothed validation acc')\n",
        "plt.title('Training and validation accuracy')\n",
        "plt.legend()\n",
        "plt.figure()\n",
        "plt.plot(epochs,\n",
        "  smooth_curve(loss), 'bo', label='Smoothed training loss')\n",
        "plt.plot(epochs,\n",
        "  smooth_curve(val_loss), 'b', label='Smoothed validation loss')\n",
        "plt.title('Training and validation loss')\n",
        "plt.legend()\n",
        "plt.show()"
      ],
      "execution_count": 0,
      "outputs": [
        {
          "output_type": "display_data",
          "data": {
            "image/png": "[encoded data removed]",
            "text/plain": [
              "<Figure size 432x288 with 1 Axes>"
            ]
          },
          "metadata": {
            "tags": []
          }
        },
        {
          "output_type": "display_data",
          "data": {
            "image/png": "[encoded data removed]",
            "text/plain": [
              "<Figure size 432x288 with 1 Axes>"
            ]
          },
          "metadata": {
            "tags": []
          }
        }
      ]
    },
    {
      "cell_type": "code",
      "metadata": {
        "id": "Eardsd0WpHzA",
        "colab_type": "code",
        "outputId": "327aec79-a783-4525-c1a1-6c785b00367e",
        "colab": {
          "base_uri": "https://localhost:8080/",
          "height": 54
        }
      },
      "source": [
        "test_generator = test_datagen.flow_from_directory(\n",
        "    test_dir,\n",
        "    target_size=(150, 150),\n",
        "    batch_size=20,\n",
        "    class_mode='binary')\n",
        "test_loss, test_acc = model.evaluate_generator(test_generator, steps=20)\n",
        "print('test acc:', test_acc)"
      ],
      "execution_count": 0,
      "outputs": [
        {
          "output_type": "stream",
          "text": [
            "Found 1045 images belonging to 2 classes.\n",
            "test acc: 0.9799999952316284\n"
          ],
          "name": "stdout"
        }
      ]
    },
    {
      "cell_type": "code",
      "metadata": {
        "id": "HJ5sdahmEDto",
        "colab_type": "code",
        "outputId": "c5ac92f7-f44d-434c-b77a-2ac4b7b72e48",
        "colab": {
          "base_uri": "https://localhost:8080/",
          "height": 35
        }
      },
      "source": [
        "# load_model_sample.py\n",
        "from keras.models import load_model\n",
        "from keras.preprocessing import image\n",
        "import matplotlib.pyplot as plt\n",
        "import numpy as np\n",
        "import os\n",
        "\n",
        "\n",
        "def load_image(img_path, show=False):\n",
        "\n",
        "    img = image.load_img(img_path, target_size=(150, 150))\n",
        "    img_tensor = image.img_to_array(img)                    # (height, width, channels)\n",
        "    img_tensor = np.expand_dims(img_tensor, axis=0)         # (1, height, width, channels), add a dimension because the model expects this shape: (batch_size, height, width, channels)\n",
        "    img_tensor /= 255.                                      # imshow expects values in the range [0, 1]\n",
        "\n",
        "    if show:\n",
        "        plt.imshow(img_tensor[0])                           \n",
        "        plt.axis('off')\n",
        "        plt.show()\n",
        "\n",
        "    return img_tensor\n",
        "\n",
        "\n",
        "if __name__ == \"__main__\":\n",
        "\n",
        "    # load model\n",
        "    model = load_model(\"Rotated - VGG - CNN(Augmented1).h5\")\n",
        "\n",
        "    # image path\n",
        "    img_path = '/content/Drive/My Drive/Colab Notebooks/Augmented1/Test/Benign/Benign_0_7990.jpg'    # benign\n",
        "    # img_path = '/content/Drive/My Drive/Colab Notebooks/Augmented1/Test/Malignant/Malignant_0_7875.jpg'      # malignant\n",
        "\n",
        "    # load a single image\n",
        "    new_image = load_image(img_path)\n",
        "\n",
        "    # check prediction\n",
        "    pred = model.predict(new_image)\n",
        "    print (pred)"
      ],
      "execution_count": 0,
      "outputs": [
        {
          "output_type": "stream",
          "text": [
            "[[3.9895494e-07]]\n"
          ],
          "name": "stdout"
        }
      ]
    },
    {
      "cell_type": "code",
      "metadata": {
        "id": "zP5zqqG4cAzT",
        "colab_type": "code",
        "colab": {}
      },
      "source": [
        ""
      ],
      "execution_count": 0,
      "outputs": []
    }
  ]
}