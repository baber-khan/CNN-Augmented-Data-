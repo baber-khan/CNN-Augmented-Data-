{
  "nbformat": 4,
  "nbformat_minor": 0,
  "metadata": {
    "colab": {
      "name": "Raw VGG16.ipynb",
      "provenance": [],
      "collapsed_sections": []
    },
    "kernelspec": {
      "name": "python3",
      "display_name": "Python 3"
    },
    "accelerator": "GPU"
  },
  "cells": [
    {
      "cell_type": "code",
      "metadata": {
        "id": "sQ6vKTK2qBsL",
        "colab_type": "code",
        "outputId": "1a89df32-5a6a-4d14-d7c9-810430ac69d1",
        "colab": {
          "base_uri": "https://localhost:8080/",
          "height": 147
        }
      },
      "source": [
        "from google.colab import drive\n",
        "drive.mount('/content/Drive')\n",
        "!ls"
      ],
      "execution_count": 0,
      "outputs": [
        {
          "output_type": "stream",
          "text": [
            "Go to this URL in a browser: https://accounts.google.com/o/oauth2/auth?client_id=947318989803-6bn6qk8qdgf4n4g3pfee6491hc0brc4i.apps.googleusercontent.com&redirect_uri=urn%3aietf%3awg%3aoauth%3a2.0%3aoob&response_type=code&scope=email%20https%3a%2f%2fwww.googleapis.com%2fauth%2fdocs.test%20https%3a%2f%2fwww.googleapis.com%2fauth%2fdrive%20https%3a%2f%2fwww.googleapis.com%2fauth%2fdrive.photos.readonly%20https%3a%2f%2fwww.googleapis.com%2fauth%2fpeopleapi.readonly\n",
            "\n",
            "Enter your authorization code:\n",
            "··········\n",
            "Mounted at /content/Drive\n",
            "Drive  sample_data\n"
          ],
          "name": "stdout"
        }
      ]
    },
    {
      "cell_type": "code",
      "metadata": {
        "id": "KV6nmTSVqBi8",
        "colab_type": "code",
        "outputId": "4631747a-641e-4577-8d1f-13b8f275e905",
        "colab": {
          "base_uri": "https://localhost:8080/",
          "height": 35
        }
      },
      "source": [
        "import os\n",
        "os.getcwd()\n",
        "\n",
        "os.chdir('/content/Drive/My Drive/Colab Notebooks/Augmented1')\n",
        "\n",
        "!ls  "
      ],
      "execution_count": 0,
      "outputs": [
        {
          "output_type": "stream",
          "text": [
            "history.json  Test  Training  Validation  vgg16_2.h5  weights.best.hdf5\n"
          ],
          "name": "stdout"
        }
      ]
    },
    {
      "cell_type": "code",
      "metadata": {
        "id": "aXQHkSQMpzA_",
        "colab_type": "code",
        "colab": {}
      },
      "source": [
        "import keras\n",
        "from keras.models import Sequential\n",
        "from keras.layers import Dense, Activation, Dropout, Flatten\n",
        "from keras.layers import Conv2D\n",
        "from keras.layers import MaxPooling2D\n",
        "\n",
        "input_shape = (150, 150, 3)\n",
        "\n",
        "#Instantiate an empty model\n",
        "conv_base = Sequential([\n",
        "\n",
        "Conv2D(64, (3, 3), input_shape=input_shape, padding= 'same', activation= 'relu'),\n",
        "Conv2D(64, (3, 3), activation='relu', padding='same'),\n",
        "MaxPooling2D(pool_size=(2, 2), strides=(2, 2)),\n",
        "\n",
        "Conv2D(128, (3, 3), activation='relu', padding='same'),\n",
        "Conv2D(128, (3, 3), activation='relu', padding='same',),\n",
        "MaxPooling2D(pool_size=(2, 2), strides=(2, 2)),\n",
        "\n",
        "Conv2D(256, (3, 3), activation='relu', padding='same',),\n",
        "Conv2D(256, (3, 3), activation='relu', padding='same',),\n",
        "Conv2D(256, (3, 3), activation='relu', padding='same',),\n",
        "MaxPooling2D(pool_size=(2, 2), strides=(2, 2)),\n",
        "\n",
        "Conv2D(512, (3, 3), activation='relu', padding='same',),\n",
        "Conv2D(512, (3, 3), activation='relu', padding='same',),\n",
        "Conv2D(512, (3, 3), activation='relu', padding='same',),\n",
        "MaxPooling2D(pool_size=(2, 2), strides=(2, 2)),\n",
        "\n",
        "Conv2D(512, (3, 3), activation='relu', padding='same',),\n",
        "Conv2D(512, (3, 3), activation='relu', padding='same',),\n",
        "Conv2D(512, (3, 3), activation='relu', padding='same',),\n",
        "MaxPooling2D(pool_size=(2, 2), strides=(2, 2)),\n",
        "\n",
        "])"
      ],
      "execution_count": 0,
      "outputs": []
    },
    {
      "cell_type": "code",
      "metadata": {
        "id": "nrq3PbegqYND",
        "colab_type": "code",
        "outputId": "c2462136-06bb-4d3e-cf2e-09420e75d18a",
        "colab": {
          "base_uri": "https://localhost:8080/",
          "height": 825
        }
      },
      "source": [
        "conv_base.summary()"
      ],
      "execution_count": 0,
      "outputs": [
        {
          "output_type": "stream",
          "text": [
            "Model: \"sequential_2\"\n",
            "_________________________________________________________________\n",
            "Layer (type)                 Output Shape              Param #   \n",
            "=================================================================\n",
            "conv2d_14 (Conv2D)           (None, 150, 150, 64)      1792      \n",
            "_________________________________________________________________\n",
            "conv2d_15 (Conv2D)           (None, 150, 150, 64)      36928     \n",
            "_________________________________________________________________\n",
            "max_pooling2d_6 (MaxPooling2 (None, 75, 75, 64)        0         \n",
            "_________________________________________________________________\n",
            "conv2d_16 (Conv2D)           (None, 75, 75, 128)       73856     \n",
            "_________________________________________________________________\n",
            "conv2d_17 (Conv2D)           (None, 75, 75, 128)       147584    \n",
            "_________________________________________________________________\n",
            "max_pooling2d_7 (MaxPooling2 (None, 37, 37, 128)       0         \n",
            "_________________________________________________________________\n",
            "conv2d_18 (Conv2D)           (None, 37, 37, 256)       295168    \n",
            "_________________________________________________________________\n",
            "conv2d_19 (Conv2D)           (None, 37, 37, 256)       590080    \n",
            "_________________________________________________________________\n",
            "conv2d_20 (Conv2D)           (None, 37, 37, 256)       590080    \n",
            "_________________________________________________________________\n",
            "max_pooling2d_8 (MaxPooling2 (None, 18, 18, 256)       0         \n",
            "_________________________________________________________________\n",
            "conv2d_21 (Conv2D)           (None, 18, 18, 512)       1180160   \n",
            "_________________________________________________________________\n",
            "conv2d_22 (Conv2D)           (None, 18, 18, 512)       2359808   \n",
            "_________________________________________________________________\n",
            "conv2d_23 (Conv2D)           (None, 18, 18, 512)       2359808   \n",
            "_________________________________________________________________\n",
            "max_pooling2d_9 (MaxPooling2 (None, 9, 9, 512)         0         \n",
            "_________________________________________________________________\n",
            "conv2d_24 (Conv2D)           (None, 9, 9, 512)         2359808   \n",
            "_________________________________________________________________\n",
            "conv2d_25 (Conv2D)           (None, 9, 9, 512)         2359808   \n",
            "_________________________________________________________________\n",
            "conv2d_26 (Conv2D)           (None, 9, 9, 512)         2359808   \n",
            "_________________________________________________________________\n",
            "max_pooling2d_10 (MaxPooling (None, 4, 4, 512)         0         \n",
            "=================================================================\n",
            "Total params: 14,714,688\n",
            "Trainable params: 14,714,688\n",
            "Non-trainable params: 0\n",
            "_________________________________________________________________\n"
          ],
          "name": "stdout"
        }
      ]
    },
    {
      "cell_type": "code",
      "metadata": {
        "id": "ijW8lPCAE_M3",
        "colab_type": "code",
        "outputId": "e5798f4d-334f-40d4-d93a-c53beaac79ea",
        "colab": {
          "base_uri": "https://localhost:8080/",
          "height": 72
        }
      },
      "source": [
        "import os\n",
        "import numpy as np\n",
        "from keras.preprocessing.image import ImageDataGenerator\n",
        "\n",
        "base_dir ='/content/Drive/My Drive/Colab Notebooks/Augmented1'\n",
        "train_dir = os.path.join(base_dir, 'Training')\n",
        "validation_dir = os.path.join(base_dir, 'Validation')\n",
        "test_dir = os.path.join(base_dir, 'Test')\n",
        "\n",
        "datagen = ImageDataGenerator(rescale=1./255)\n",
        "batch_size = 10\n",
        "def extract_features(directory, sample_count):\n",
        "    features = np.zeros(shape=(sample_count, 4, 4, 512))\n",
        "    labels = np.zeros(shape=(sample_count))\n",
        "    generator = datagen.flow_from_directory(\n",
        "        directory,\n",
        "        target_size=(150, 150),\n",
        "        batch_size=batch_size,\n",
        "        class_mode='binary')\n",
        "    i=0\n",
        "    for inputs_batch, labels_batch in generator:\n",
        "        features_batch = conv_base.predict(inputs_batch)\n",
        "        features[i * batch_size : (i + 1) * batch_size] = features_batch\n",
        "        labels[i * batch_size : (i + 1) * batch_size] = labels_batch\n",
        "        i += 1\n",
        "        if i * batch_size >= sample_count:\n",
        "            break\n",
        "    return features, labels\n",
        "train_features, train_labels = extract_features(train_dir, 2597)\n",
        "validation_features, validation_labels = extract_features(validation_dir,1558)\n",
        "test_features, test_labels = extract_features(test_dir, 1045)"
      ],
      "execution_count": 0,
      "outputs": [
        {
          "output_type": "stream",
          "text": [
            "Found 2597 images belonging to 2 classes.\n",
            "Found 1558 images belonging to 2 classes.\n",
            "Found 1045 images belonging to 2 classes.\n"
          ],
          "name": "stdout"
        }
      ]
    },
    {
      "cell_type": "code",
      "metadata": {
        "id": "ewpuirDmqcb6",
        "colab_type": "code",
        "colab": {}
      },
      "source": [
        "train_features = np.reshape(train_features, (2597, 4*4* 512))\n",
        "validation_features = np.reshape(validation_features, (1558, 4*4* 512))\n",
        "test_features = np.reshape(test_features, (1045, 4*4* 512))"
      ],
      "execution_count": 0,
      "outputs": []
    },
    {
      "cell_type": "code",
      "metadata": {
        "id": "Q5oaqIeLFR6F",
        "colab_type": "code",
        "outputId": "98936015-ec2e-4b3f-b055-402eacb0024a",
        "colab": {
          "base_uri": "https://localhost:8080/",
          "height": 1000
        }
      },
      "source": [
        "from keras import models\n",
        "from keras import layers\n",
        "from keras import optimizers\n",
        "import keras\n",
        "\n",
        "model = models.Sequential()\n",
        "model.add(layers.Dense(256, activation='relu', input_dim=4* 4 * 512))\n",
        "model.add(layers.Dropout(0.2))\n",
        "model.add(layers.Dense(1, activation='sigmoid'))\n",
        "\n",
        "model.summary()\n",
        "model.compile(optimizer=optimizers.RMSprop(lr=2e-5),\n",
        "  loss='binary_crossentropy',\n",
        "  metrics=['acc'])\n",
        "\n",
        "history = model.fit(train_features, train_labels,\n",
        "  epochs=30,\n",
        "  batch_size=20,\n",
        "  validation_data=(validation_features, validation_labels)\n",
        ")"
      ],
      "execution_count": 0,
      "outputs": [
        {
          "output_type": "stream",
          "text": [
            "WARNING:tensorflow:From /usr/local/lib/python3.6/dist-packages/keras/backend/tensorflow_backend.py:148: The name tf.placeholder_with_default is deprecated. Please use tf.compat.v1.placeholder_with_default instead.\n",
            "\n",
            "WARNING:tensorflow:From /usr/local/lib/python3.6/dist-packages/keras/backend/tensorflow_backend.py:3733: calling dropout (from tensorflow.python.ops.nn_ops) with keep_prob is deprecated and will be removed in a future version.\n",
            "Instructions for updating:\n",
            "Please use `rate` instead of `keep_prob`. Rate should be set to `rate = 1 - keep_prob`.\n",
            "Model: \"sequential_3\"\n",
            "_________________________________________________________________\n",
            "Layer (type)                 Output Shape              Param #   \n",
            "=================================================================\n",
            "dense_4 (Dense)              (None, 256)               2097408   \n",
            "_________________________________________________________________\n",
            "dropout_1 (Dropout)          (None, 256)               0         \n",
            "_________________________________________________________________\n",
            "dense_5 (Dense)              (None, 1)                 257       \n",
            "=================================================================\n",
            "Total params: 2,097,665\n",
            "Trainable params: 2,097,665\n",
            "Non-trainable params: 0\n",
            "_________________________________________________________________\n",
            "Train on 2597 samples, validate on 1558 samples\n",
            "Epoch 1/30\n",
            "2597/2597 [==============================] - 1s 451us/step - loss: 0.6926 - acc: 0.5333 - val_loss: 0.6922 - val_acc: 0.5353\n",
            "Epoch 2/30\n",
            "2597/2597 [==============================] - 1s 345us/step - loss: 0.6920 - acc: 0.5352 - val_loss: 0.6917 - val_acc: 0.5353\n",
            "Epoch 3/30\n",
            "2597/2597 [==============================] - 1s 349us/step - loss: 0.6916 - acc: 0.5352 - val_loss: 0.6913 - val_acc: 0.5353\n",
            "Epoch 4/30\n",
            "2597/2597 [==============================] - 1s 352us/step - loss: 0.6913 - acc: 0.5352 - val_loss: 0.6911 - val_acc: 0.5353\n",
            "Epoch 5/30\n",
            "2597/2597 [==============================] - 1s 337us/step - loss: 0.6912 - acc: 0.5352 - val_loss: 0.6909 - val_acc: 0.5353\n",
            "Epoch 6/30\n",
            "2597/2597 [==============================] - 1s 351us/step - loss: 0.6910 - acc: 0.5352 - val_loss: 0.6908 - val_acc: 0.5353\n",
            "Epoch 7/30\n",
            "2597/2597 [==============================] - 1s 329us/step - loss: 0.6910 - acc: 0.5352 - val_loss: 0.6907 - val_acc: 0.5353\n",
            "Epoch 8/30\n",
            "2597/2597 [==============================] - 1s 316us/step - loss: 0.6909 - acc: 0.5352 - val_loss: 0.6907 - val_acc: 0.5353\n",
            "Epoch 9/30\n",
            "2597/2597 [==============================] - 1s 347us/step - loss: 0.6907 - acc: 0.5352 - val_loss: 0.6906 - val_acc: 0.5353\n",
            "Epoch 10/30\n",
            "2597/2597 [==============================] - 1s 327us/step - loss: 0.6907 - acc: 0.5352 - val_loss: 0.6906 - val_acc: 0.5353\n",
            "Epoch 11/30\n",
            "2597/2597 [==============================] - 1s 341us/step - loss: 0.6908 - acc: 0.5352 - val_loss: 0.6906 - val_acc: 0.5353\n",
            "Epoch 12/30\n",
            "2597/2597 [==============================] - 1s 323us/step - loss: 0.6906 - acc: 0.5352 - val_loss: 0.6905 - val_acc: 0.5353\n",
            "Epoch 13/30\n",
            "2597/2597 [==============================] - 1s 339us/step - loss: 0.6906 - acc: 0.5352 - val_loss: 0.6905 - val_acc: 0.5353\n",
            "Epoch 14/30\n",
            "2597/2597 [==============================] - 1s 326us/step - loss: 0.6905 - acc: 0.5352 - val_loss: 0.6905 - val_acc: 0.5353\n",
            "Epoch 15/30\n",
            "2597/2597 [==============================] - 1s 339us/step - loss: 0.6904 - acc: 0.5352 - val_loss: 0.6905 - val_acc: 0.5353\n",
            "Epoch 16/30\n",
            "2597/2597 [==============================] - 1s 322us/step - loss: 0.6903 - acc: 0.5352 - val_loss: 0.6905 - val_acc: 0.5353\n",
            "Epoch 17/30\n",
            "2597/2597 [==============================] - 1s 323us/step - loss: 0.6903 - acc: 0.5352 - val_loss: 0.6904 - val_acc: 0.5353\n",
            "Epoch 18/30\n",
            "2597/2597 [==============================] - 1s 321us/step - loss: 0.6904 - acc: 0.5352 - val_loss: 0.6904 - val_acc: 0.5353\n",
            "Epoch 19/30\n",
            "2597/2597 [==============================] - 1s 318us/step - loss: 0.6903 - acc: 0.5352 - val_loss: 0.6904 - val_acc: 0.5353\n",
            "Epoch 20/30\n",
            "2597/2597 [==============================] - 1s 333us/step - loss: 0.6902 - acc: 0.5352 - val_loss: 0.6904 - val_acc: 0.5353\n",
            "Epoch 21/30\n",
            "2597/2597 [==============================] - 1s 312us/step - loss: 0.6902 - acc: 0.5352 - val_loss: 0.6904 - val_acc: 0.5353\n",
            "Epoch 22/30\n",
            "2597/2597 [==============================] - 1s 381us/step - loss: 0.6901 - acc: 0.5352 - val_loss: 0.6903 - val_acc: 0.5353\n",
            "Epoch 23/30\n",
            "2597/2597 [==============================] - 1s 342us/step - loss: 0.6900 - acc: 0.5352 - val_loss: 0.6903 - val_acc: 0.5353\n",
            "Epoch 24/30\n",
            "2597/2597 [==============================] - 1s 335us/step - loss: 0.6898 - acc: 0.5352 - val_loss: 0.6903 - val_acc: 0.5353\n",
            "Epoch 25/30\n",
            "2597/2597 [==============================] - 1s 359us/step - loss: 0.6899 - acc: 0.5352 - val_loss: 0.6903 - val_acc: 0.5353\n",
            "Epoch 26/30\n",
            "2597/2597 [==============================] - 1s 334us/step - loss: 0.6901 - acc: 0.5352 - val_loss: 0.6903 - val_acc: 0.5353\n",
            "Epoch 27/30\n",
            "2597/2597 [==============================] - 1s 367us/step - loss: 0.6899 - acc: 0.5352 - val_loss: 0.6903 - val_acc: 0.5353\n",
            "Epoch 28/30\n",
            "2597/2597 [==============================] - 1s 341us/step - loss: 0.6897 - acc: 0.5352 - val_loss: 0.6902 - val_acc: 0.5353\n",
            "Epoch 29/30\n",
            "2597/2597 [==============================] - 1s 337us/step - loss: 0.6898 - acc: 0.5352 - val_loss: 0.6902 - val_acc: 0.5353\n",
            "Epoch 30/30\n",
            "2597/2597 [==============================] - 1s 331us/step - loss: 0.6897 - acc: 0.5352 - val_loss: 0.6902 - val_acc: 0.5353\n"
          ],
          "name": "stdout"
        }
      ]
    },
    {
      "cell_type": "code",
      "metadata": {
        "id": "gyD9TnQWF7N1",
        "colab_type": "code",
        "outputId": "f3566d5c-58a1-4895-fb66-f5b802fff7b2",
        "colab": {
          "base_uri": "https://localhost:8080/",
          "height": 545
        }
      },
      "source": [
        "import matplotlib.pyplot as plt\n",
        "acc = history.history['acc']\n",
        "val_acc = history.history['val_acc']\n",
        "loss = history.history['loss']\n",
        "val_loss = history.history['val_loss']\n",
        "epochs = range(1, len(acc) + 1)\n",
        "plt.plot(epochs, acc, 'bo', label='Training acc')\n",
        "plt.plot(epochs, val_acc, 'b', label='Validation acc')\n",
        "plt.title('Training and validation accuracy')\n",
        "plt.legend()\n",
        "plt.figure()\n",
        "plt.plot(epochs, loss, 'bo', label='Training loss')\n",
        "plt.plot(epochs, val_loss, 'b', label='Validation loss')\n",
        "plt.title('Training and validation loss')\n",
        "plt.legend()\n",
        "plt.show()"
      ],
      "execution_count": 0,
      "outputs": [
        {
          "output_type": "display_data",
          "data": {
            "image/png": "[encoded data removed]",
            "text/plain": [
              "<Figure size 432x288 with 1 Axes>"
            ]
          },
          "metadata": {
            "tags": []
          }
        },
        {
          "output_type": "display_data",
          "data": {
            "image/png": "[encoded data removed]",
            "text/plain": [
              "<Figure size 432x288 with 1 Axes>"
            ]
          },
          "metadata": {
            "tags": []
          }
        }
      ]
    },
    {
      "cell_type": "code",
      "metadata": {
        "id": "hX2rQPf2F7JC",
        "colab_type": "code",
        "colab": {}
      },
      "source": [
        "from keras import models\n",
        "from keras import layers\n",
        "model = models.Sequential()\n",
        "model.add(conv_base)\n",
        "model.add(layers.Flatten())\n",
        "model.add(layers.Dense(256, activation='relu'))\n",
        "model.add(layers.Dense(1, activation='sigmoid'))"
      ],
      "execution_count": 0,
      "outputs": []
    },
    {
      "cell_type": "code",
      "metadata": {
        "id": "K-ThlOVdF7F8",
        "colab_type": "code",
        "outputId": "1f0a3db8-b4f7-499b-c666-042f2ca8b9cb",
        "colab": {
          "base_uri": "https://localhost:8080/",
          "height": 311
        }
      },
      "source": [
        "model.summary()"
      ],
      "execution_count": 0,
      "outputs": [
        {
          "output_type": "stream",
          "text": [
            "Model: \"sequential_4\"\n",
            "_________________________________________________________________\n",
            "Layer (type)                 Output Shape              Param #   \n",
            "=================================================================\n",
            "sequential_2 (Sequential)    (None, 4, 4, 512)         14714688  \n",
            "_________________________________________________________________\n",
            "flatten_2 (Flatten)          (None, 8192)              0         \n",
            "_________________________________________________________________\n",
            "dense_6 (Dense)              (None, 256)               2097408   \n",
            "_________________________________________________________________\n",
            "dense_7 (Dense)              (None, 1)                 257       \n",
            "=================================================================\n",
            "Total params: 16,812,353\n",
            "Trainable params: 16,812,353\n",
            "Non-trainable params: 0\n",
            "_________________________________________________________________\n"
          ],
          "name": "stdout"
        }
      ]
    },
    {
      "cell_type": "code",
      "metadata": {
        "id": "B_d8dUyYF7CR",
        "colab_type": "code",
        "outputId": "36a36764-8491-41af-ca84-f4cb5d0eefbf",
        "colab": {
          "base_uri": "https://localhost:8080/",
          "height": 1000
        }
      },
      "source": [
        "from keras.preprocessing.image import ImageDataGenerator\n",
        "from keras import optimizers\n",
        "\n",
        "train_datagen = ImageDataGenerator(\n",
        "    rescale=1./255,\n",
        "    rotation_range=40,\n",
        "    horizontal_flip=True,\n",
        "    vertical_flip=True,\n",
        "    fill_mode='nearest'\n",
        "    )\n",
        "\n",
        "test_datagen = ImageDataGenerator(rescale=1./255)\n",
        "\n",
        "train_generator = train_datagen.flow_from_directory(\n",
        "    train_dir,\n",
        "    target_size=(150, 150),\n",
        "    batch_size=20,\n",
        "    class_mode='binary')\n",
        "\n",
        "validation_generator = test_datagen.flow_from_directory(\n",
        "    validation_dir,\n",
        "    target_size=(150, 150),\n",
        "    batch_size=20,\n",
        "    class_mode='binary')\n",
        "\n",
        "model.compile(loss='binary_crossentropy',\n",
        "    optimizer=optimizers.RMSprop(lr=2e-5),\n",
        "    metrics=['acc'])\n",
        "\n",
        "history = model.fit_generator(\n",
        "    train_generator,\n",
        "    steps_per_epoch=100,\n",
        "    epochs=30,\n",
        "    validation_data=validation_generator,\n",
        "    validation_steps=20)"
      ],
      "execution_count": 0,
      "outputs": [
        {
          "output_type": "stream",
          "text": [
            "Found 2597 images belonging to 2 classes.\n",
            "Found 1558 images belonging to 2 classes.\n",
            "Epoch 1/30\n",
            "100/100 [==============================] - 47s 469ms/step - loss: 0.6934 - acc: 0.5252 - val_loss: 0.6929 - val_acc: 0.5300\n",
            "Epoch 2/30\n",
            "100/100 [==============================] - 44s 438ms/step - loss: 0.6914 - acc: 0.5460 - val_loss: 0.6941 - val_acc: 0.5075\n",
            "Epoch 3/30\n",
            "100/100 [==============================] - 43s 428ms/step - loss: 0.6909 - acc: 0.5419 - val_loss: 0.6821 - val_acc: 0.5675\n",
            "Epoch 4/30\n",
            "100/100 [==============================] - 43s 431ms/step - loss: 0.6930 - acc: 0.5239 - val_loss: 0.6881 - val_acc: 0.5678\n",
            "Epoch 5/30\n",
            "100/100 [==============================] - 44s 436ms/step - loss: 0.6890 - acc: 0.5360 - val_loss: 0.6896 - val_acc: 0.5350\n",
            "Epoch 6/30\n",
            "100/100 [==============================] - 43s 433ms/step - loss: 0.6907 - acc: 0.5307 - val_loss: 0.6857 - val_acc: 0.5375\n",
            "Epoch 7/30\n",
            "100/100 [==============================] - 43s 431ms/step - loss: 0.6888 - acc: 0.5200 - val_loss: 0.6895 - val_acc: 0.5500\n",
            "Epoch 8/30\n",
            "100/100 [==============================] - 43s 435ms/step - loss: 0.6864 - acc: 0.5353 - val_loss: 0.6830 - val_acc: 0.5402\n",
            "Epoch 9/30\n",
            "100/100 [==============================] - 44s 436ms/step - loss: 0.6829 - acc: 0.5331 - val_loss: 0.6731 - val_acc: 0.5775\n",
            "Epoch 10/30\n",
            "100/100 [==============================] - 43s 431ms/step - loss: 0.6815 - acc: 0.5455 - val_loss: 0.6638 - val_acc: 0.6125\n",
            "Epoch 11/30\n",
            "100/100 [==============================] - 43s 428ms/step - loss: 0.6777 - acc: 0.5481 - val_loss: 0.6789 - val_acc: 0.5625\n",
            "Epoch 12/30\n",
            "100/100 [==============================] - 43s 431ms/step - loss: 0.6780 - acc: 0.5583 - val_loss: 0.6623 - val_acc: 0.5930\n",
            "Epoch 13/30\n",
            "100/100 [==============================] - 44s 436ms/step - loss: 0.6615 - acc: 0.5915 - val_loss: 0.6707 - val_acc: 0.5550\n",
            "Epoch 14/30\n",
            "100/100 [==============================] - 43s 433ms/step - loss: 0.6613 - acc: 0.5850 - val_loss: 0.7019 - val_acc: 0.5325\n",
            "Epoch 15/30\n",
            "100/100 [==============================] - 44s 435ms/step - loss: 0.6510 - acc: 0.6080 - val_loss: 0.6663 - val_acc: 0.6150\n",
            "Epoch 16/30\n",
            "100/100 [==============================] - 44s 442ms/step - loss: 0.6465 - acc: 0.6135 - val_loss: 0.6116 - val_acc: 0.6633\n",
            "Epoch 17/30\n",
            "100/100 [==============================] - 43s 431ms/step - loss: 0.6457 - acc: 0.6170 - val_loss: 0.6281 - val_acc: 0.6275\n",
            "Epoch 18/30\n",
            "100/100 [==============================] - 43s 432ms/step - loss: 0.6322 - acc: 0.6221 - val_loss: 0.6573 - val_acc: 0.5925\n",
            "Epoch 19/30\n",
            "100/100 [==============================] - 43s 433ms/step - loss: 0.6138 - acc: 0.6447 - val_loss: 0.6266 - val_acc: 0.6500\n",
            "Epoch 20/30\n",
            "100/100 [==============================] - 44s 443ms/step - loss: 0.6147 - acc: 0.6475 - val_loss: 0.6268 - val_acc: 0.6281\n",
            "Epoch 21/30\n",
            "100/100 [==============================] - 42s 424ms/step - loss: 0.5984 - acc: 0.6626 - val_loss: 0.5961 - val_acc: 0.6375\n",
            "Epoch 22/30\n",
            "100/100 [==============================] - 44s 440ms/step - loss: 0.5919 - acc: 0.6628 - val_loss: 0.5962 - val_acc: 0.6500\n",
            "Epoch 23/30\n",
            "100/100 [==============================] - 44s 438ms/step - loss: 0.5820 - acc: 0.6788 - val_loss: 0.5914 - val_acc: 0.6525\n",
            "Epoch 24/30\n",
            "100/100 [==============================] - 45s 448ms/step - loss: 0.5669 - acc: 0.7015 - val_loss: 0.6088 - val_acc: 0.6608\n",
            "Epoch 25/30\n",
            "100/100 [==============================] - 42s 425ms/step - loss: 0.5684 - acc: 0.6910 - val_loss: 0.5470 - val_acc: 0.7325\n",
            "Epoch 26/30\n",
            "100/100 [==============================] - 44s 441ms/step - loss: 0.5388 - acc: 0.7108 - val_loss: 0.5730 - val_acc: 0.6825\n",
            "Epoch 27/30\n",
            "100/100 [==============================] - 44s 436ms/step - loss: 0.5298 - acc: 0.7175 - val_loss: 0.5123 - val_acc: 0.7200\n",
            "Epoch 28/30\n",
            "100/100 [==============================] - 45s 448ms/step - loss: 0.5112 - acc: 0.7351 - val_loss: 0.4951 - val_acc: 0.7462\n",
            "Epoch 29/30\n",
            "100/100 [==============================] - 42s 418ms/step - loss: 0.5123 - acc: 0.7395 - val_loss: 0.5058 - val_acc: 0.7325\n",
            "Epoch 30/30\n",
            "100/100 [==============================] - 44s 437ms/step - loss: 0.4828 - acc: 0.7496 - val_loss: 0.6523 - val_acc: 0.6925\n"
          ],
          "name": "stdout"
        }
      ]
    },
    {
      "cell_type": "code",
      "metadata": {
        "id": "UaudmndIF6Xj",
        "colab_type": "code",
        "outputId": "a91b7ecf-835c-473e-b67c-168446ad2bd2",
        "colab": {
          "base_uri": "https://localhost:8080/",
          "height": 545
        }
      },
      "source": [
        "import matplotlib.pyplot as plt\n",
        "acc = history.history['acc']\n",
        "val_acc = history.history['val_acc']\n",
        "loss = history.history['loss']\n",
        "val_loss = history.history['val_loss']\n",
        "epochs = range(1, len(acc) + 1)\n",
        "plt.plot(epochs, acc, 'bo', label='Training acc')\n",
        "plt.plot(epochs, val_acc, 'b', label='Validation acc')\n",
        "plt.title('Training and validation accuracy')\n",
        "plt.legend()\n",
        "plt.figure()\n",
        "plt.plot(epochs, loss, 'bo', label='Training loss')\n",
        "plt.plot(epochs, val_loss, 'b', label='Validation loss')\n",
        "plt.title('Training and validation loss')\n",
        "plt.legend()\n",
        "plt.show()"
      ],
      "execution_count": 0,
      "outputs": [
        {
          "output_type": "display_data",
          "data": {
            "image/png": "[encoded data removed]",
            "text/plain": [
              "<Figure size 432x288 with 1 Axes>"
            ]
          },
          "metadata": {
            "tags": []
          }
        },
        {
          "output_type": "display_data",
          "data": {
            "image/png": "[encoded data removed]",
            "text/plain": [
              "<Figure size 432x288 with 1 Axes>"
            ]
          },
          "metadata": {
            "tags": []
          }
        }
      ]
    },
    {
      "cell_type": "code",
      "metadata": {
        "id": "8sr8sIaVGSwd",
        "colab_type": "code",
        "outputId": "eba38b24-5f35-4e96-d105-95c53f5c4a17",
        "colab": {
          "base_uri": "https://localhost:8080/",
          "height": 825
        }
      },
      "source": [
        "conv_base.summary()"
      ],
      "execution_count": 0,
      "outputs": [
        {
          "output_type": "stream",
          "text": [
            "Model: \"sequential_2\"\n",
            "_________________________________________________________________\n",
            "Layer (type)                 Output Shape              Param #   \n",
            "=================================================================\n",
            "conv2d_14 (Conv2D)           (None, 150, 150, 64)      1792      \n",
            "_________________________________________________________________\n",
            "conv2d_15 (Conv2D)           (None, 150, 150, 64)      36928     \n",
            "_________________________________________________________________\n",
            "max_pooling2d_6 (MaxPooling2 (None, 75, 75, 64)        0         \n",
            "_________________________________________________________________\n",
            "conv2d_16 (Conv2D)           (None, 75, 75, 128)       73856     \n",
            "_________________________________________________________________\n",
            "conv2d_17 (Conv2D)           (None, 75, 75, 128)       147584    \n",
            "_________________________________________________________________\n",
            "max_pooling2d_7 (MaxPooling2 (None, 37, 37, 128)       0         \n",
            "_________________________________________________________________\n",
            "conv2d_18 (Conv2D)           (None, 37, 37, 256)       295168    \n",
            "_________________________________________________________________\n",
            "conv2d_19 (Conv2D)           (None, 37, 37, 256)       590080    \n",
            "_________________________________________________________________\n",
            "conv2d_20 (Conv2D)           (None, 37, 37, 256)       590080    \n",
            "_________________________________________________________________\n",
            "max_pooling2d_8 (MaxPooling2 (None, 18, 18, 256)       0         \n",
            "_________________________________________________________________\n",
            "conv2d_21 (Conv2D)           (None, 18, 18, 512)       1180160   \n",
            "_________________________________________________________________\n",
            "conv2d_22 (Conv2D)           (None, 18, 18, 512)       2359808   \n",
            "_________________________________________________________________\n",
            "conv2d_23 (Conv2D)           (None, 18, 18, 512)       2359808   \n",
            "_________________________________________________________________\n",
            "max_pooling2d_9 (MaxPooling2 (None, 9, 9, 512)         0         \n",
            "_________________________________________________________________\n",
            "conv2d_24 (Conv2D)           (None, 9, 9, 512)         2359808   \n",
            "_________________________________________________________________\n",
            "conv2d_25 (Conv2D)           (None, 9, 9, 512)         2359808   \n",
            "_________________________________________________________________\n",
            "conv2d_26 (Conv2D)           (None, 9, 9, 512)         2359808   \n",
            "_________________________________________________________________\n",
            "max_pooling2d_10 (MaxPooling (None, 4, 4, 512)         0         \n",
            "=================================================================\n",
            "Total params: 14,714,688\n",
            "Trainable params: 14,714,688\n",
            "Non-trainable params: 0\n",
            "_________________________________________________________________\n"
          ],
          "name": "stdout"
        }
      ]
    },
    {
      "cell_type": "code",
      "metadata": {
        "id": "DNd9bxcDGSr4",
        "colab_type": "code",
        "outputId": "d4fbd2d5-5fb3-431a-b7ce-a7dafd1977e2",
        "colab": {
          "base_uri": "https://localhost:8080/",
          "height": 54
        }
      },
      "source": [
        "test_generator = test_datagen.flow_from_directory(\n",
        "    test_dir,\n",
        "    target_size=(150, 150),\n",
        "    batch_size=20,\n",
        "    class_mode='binary')\n",
        "test_loss, test_acc = model.evaluate_generator(test_generator, steps=50)\n",
        "print('test acc:', test_acc)"
      ],
      "execution_count": 0,
      "outputs": [
        {
          "output_type": "stream",
          "text": [
            "Found 1045 images belonging to 2 classes.\n",
            "test acc: 0.67700000166893\n"
          ],
          "name": "stdout"
        }
      ]
    },
    {
      "cell_type": "code",
      "metadata": {
        "id": "PRw9EjPwGSlZ",
        "colab_type": "code",
        "colab": {}
      },
      "source": [
        "conv_base.trainable = True\n",
        "set_trainable = False\n",
        "for layer in conv_base.layers:\n",
        "  if layer.name == 'block5_conv1':\n",
        "    set_trainable = True\n",
        "  if set_trainable:\n",
        "    layer.trainable = True\n",
        "  else:\n",
        "    layer.trainable = False"
      ],
      "execution_count": 0,
      "outputs": []
    },
    {
      "cell_type": "code",
      "metadata": {
        "id": "025YUpVUGSgX",
        "colab_type": "code",
        "outputId": "7392951f-e9ac-4017-df43-08a4d581564b",
        "colab": {
          "base_uri": "https://localhost:8080/",
          "height": 1000
        }
      },
      "source": [
        "from keras.callbacks import ModelCheckpoint, EarlyStopping\n",
        "\n",
        "checkpoint = ModelCheckpoint(\"Raw VGG16.h5\", \n",
        "                             monitor='val_acc', \n",
        "                             verbose=1, \n",
        "                             save_best_only=True, \n",
        "                             save_weights_only=False, \n",
        "                             mode='auto', period=1)\n",
        "\n",
        "early = EarlyStopping(monitor='val_acc', \n",
        "                      min_delta=0, \n",
        "                      patience=20, \n",
        "                      verbose=1, \n",
        "                      mode='auto')\n",
        "\n",
        "\n",
        "model.compile(loss='binary_crossentropy',\n",
        "    optimizer=optimizers.RMSprop(lr=1e-5),\n",
        "    metrics=['acc'])\n",
        "\n",
        "history = model.fit_generator(\n",
        "    train_generator,\n",
        "    steps_per_epoch=100,\n",
        "    epochs=50,\n",
        "    validation_data=validation_generator,\n",
        "    validation_steps=50,\n",
        "    callbacks = [checkpoint, early])\n"
      ],
      "execution_count": 0,
      "outputs": [
        {
          "output_type": "stream",
          "text": [
            "Epoch 1/50\n",
            "100/100 [==============================] - 49s 488ms/step - loss: 0.3936 - acc: 0.8189 - val_loss: 0.4263 - val_acc: 0.8020\n",
            "\n",
            "Epoch 00001: val_acc improved from -inf to 0.80200, saving model to Raw VGG16.h5\n",
            "Epoch 2/50\n",
            "100/100 [==============================] - 45s 447ms/step - loss: 0.3905 - acc: 0.8217 - val_loss: 0.4079 - val_acc: 0.8196\n",
            "\n",
            "Epoch 00002: val_acc improved from 0.80200 to 0.81964, saving model to Raw VGG16.h5\n",
            "Epoch 3/50\n",
            "100/100 [==============================] - 45s 446ms/step - loss: 0.3825 - acc: 0.8315 - val_loss: 0.4084 - val_acc: 0.8030\n",
            "\n",
            "Epoch 00003: val_acc did not improve from 0.81964\n",
            "Epoch 4/50\n",
            "100/100 [==============================] - 45s 448ms/step - loss: 0.3725 - acc: 0.8415 - val_loss: 0.3986 - val_acc: 0.8357\n",
            "\n",
            "Epoch 00004: val_acc improved from 0.81964 to 0.83567, saving model to Raw VGG16.h5\n",
            "Epoch 5/50\n",
            "100/100 [==============================] - 45s 447ms/step - loss: 0.3790 - acc: 0.8352 - val_loss: 0.4207 - val_acc: 0.7956\n",
            "\n",
            "Epoch 00005: val_acc did not improve from 0.83567\n",
            "Epoch 6/50\n",
            "100/100 [==============================] - 45s 445ms/step - loss: 0.3703 - acc: 0.8468 - val_loss: 0.3917 - val_acc: 0.8410\n",
            "\n",
            "Epoch 00006: val_acc improved from 0.83567 to 0.84100, saving model to Raw VGG16.h5\n",
            "Epoch 7/50\n",
            "100/100 [==============================] - 45s 446ms/step - loss: 0.3789 - acc: 0.8355 - val_loss: 0.4095 - val_acc: 0.8106\n",
            "\n",
            "Epoch 00007: val_acc did not improve from 0.84100\n",
            "Epoch 8/50\n",
            "100/100 [==============================] - 44s 440ms/step - loss: 0.3657 - acc: 0.8455 - val_loss: 0.4063 - val_acc: 0.8106\n",
            "\n",
            "Epoch 00008: val_acc did not improve from 0.84100\n",
            "Epoch 9/50\n",
            "100/100 [==============================] - 44s 439ms/step - loss: 0.3735 - acc: 0.8551 - val_loss: 0.4041 - val_acc: 0.7980\n",
            "\n",
            "Epoch 00009: val_acc did not improve from 0.84100\n",
            "Epoch 10/50\n",
            "100/100 [==============================] - 45s 449ms/step - loss: 0.3712 - acc: 0.8336 - val_loss: 0.4044 - val_acc: 0.8136\n",
            "\n",
            "Epoch 00010: val_acc did not improve from 0.84100\n",
            "Epoch 11/50\n",
            "100/100 [==============================] - 44s 444ms/step - loss: 0.3699 - acc: 0.8330 - val_loss: 0.3840 - val_acc: 0.8337\n",
            "\n",
            "Epoch 00011: val_acc did not improve from 0.84100\n",
            "Epoch 12/50\n",
            "100/100 [==============================] - 44s 442ms/step - loss: 0.3652 - acc: 0.8506 - val_loss: 0.3894 - val_acc: 0.8270\n",
            "\n",
            "Epoch 00012: val_acc did not improve from 0.84100\n",
            "Epoch 13/50\n",
            "100/100 [==============================] - 45s 446ms/step - loss: 0.3628 - acc: 0.8580 - val_loss: 0.4047 - val_acc: 0.8246\n",
            "\n",
            "Epoch 00013: val_acc did not improve from 0.84100\n",
            "Epoch 14/50\n",
            "100/100 [==============================] - 44s 442ms/step - loss: 0.3561 - acc: 0.8534 - val_loss: 0.3722 - val_acc: 0.8490\n",
            "\n",
            "Epoch 00014: val_acc improved from 0.84100 to 0.84900, saving model to Raw VGG16.h5\n",
            "Epoch 15/50\n",
            "100/100 [==============================] - 45s 451ms/step - loss: 0.3673 - acc: 0.8515 - val_loss: 0.3906 - val_acc: 0.8297\n",
            "\n",
            "Epoch 00015: val_acc did not improve from 0.84900\n",
            "Epoch 16/50\n",
            "100/100 [==============================] - 45s 448ms/step - loss: 0.3577 - acc: 0.8529 - val_loss: 0.3743 - val_acc: 0.8467\n",
            "\n",
            "Epoch 00016: val_acc did not improve from 0.84900\n",
            "Epoch 17/50\n",
            "100/100 [==============================] - 45s 446ms/step - loss: 0.3528 - acc: 0.8589 - val_loss: 0.4016 - val_acc: 0.8150\n",
            "\n",
            "Epoch 00017: val_acc did not improve from 0.84900\n",
            "Epoch 18/50\n",
            "100/100 [==============================] - 45s 451ms/step - loss: 0.3569 - acc: 0.8567 - val_loss: 0.3761 - val_acc: 0.8397\n",
            "\n",
            "Epoch 00018: val_acc did not improve from 0.84900\n",
            "Epoch 19/50\n",
            "100/100 [==============================] - 45s 449ms/step - loss: 0.3489 - acc: 0.8590 - val_loss: 0.3734 - val_acc: 0.8557\n",
            "\n",
            "Epoch 00019: val_acc improved from 0.84900 to 0.85571, saving model to Raw VGG16.h5\n",
            "Epoch 20/50\n",
            "100/100 [==============================] - 45s 448ms/step - loss: 0.3575 - acc: 0.8544 - val_loss: 0.3918 - val_acc: 0.8340\n",
            "\n",
            "Epoch 00020: val_acc did not improve from 0.85571\n",
            "Epoch 21/50\n",
            "100/100 [==============================] - 45s 446ms/step - loss: 0.3456 - acc: 0.8624 - val_loss: 0.3651 - val_acc: 0.8457\n",
            "\n",
            "Epoch 00021: val_acc did not improve from 0.85571\n",
            "Epoch 22/50\n",
            "100/100 [==============================] - 45s 445ms/step - loss: 0.3506 - acc: 0.8594 - val_loss: 0.3639 - val_acc: 0.8577\n",
            "\n",
            "Epoch 00022: val_acc improved from 0.85571 to 0.85772, saving model to Raw VGG16.h5\n",
            "Epoch 23/50\n",
            "100/100 [==============================] - 45s 453ms/step - loss: 0.3399 - acc: 0.8647 - val_loss: 0.3836 - val_acc: 0.8300\n",
            "\n",
            "Epoch 00023: val_acc did not improve from 0.85772\n",
            "Epoch 24/50\n",
            "100/100 [==============================] - 45s 447ms/step - loss: 0.3443 - acc: 0.8610 - val_loss: 0.3749 - val_acc: 0.8437\n",
            "\n",
            "Epoch 00024: val_acc did not improve from 0.85772\n",
            "Epoch 25/50\n",
            "100/100 [==============================] - 45s 446ms/step - loss: 0.3515 - acc: 0.8462 - val_loss: 0.3656 - val_acc: 0.8417\n",
            "\n",
            "Epoch 00025: val_acc did not improve from 0.85772\n",
            "Epoch 26/50\n",
            "100/100 [==============================] - 44s 441ms/step - loss: 0.3452 - acc: 0.8637 - val_loss: 0.3736 - val_acc: 0.8420\n",
            "\n",
            "Epoch 00026: val_acc did not improve from 0.85772\n",
            "Epoch 27/50\n",
            "100/100 [==============================] - 45s 449ms/step - loss: 0.3403 - acc: 0.8665 - val_loss: 0.3593 - val_acc: 0.8497\n",
            "\n",
            "Epoch 00027: val_acc did not improve from 0.85772\n",
            "Epoch 28/50\n",
            "100/100 [==============================] - 44s 443ms/step - loss: 0.3415 - acc: 0.8629 - val_loss: 0.3799 - val_acc: 0.8360\n",
            "\n",
            "Epoch 00028: val_acc did not improve from 0.85772\n",
            "Epoch 29/50\n",
            "100/100 [==============================] - 45s 446ms/step - loss: 0.3410 - acc: 0.8726 - val_loss: 0.3637 - val_acc: 0.8507\n",
            "\n",
            "Epoch 00029: val_acc did not improve from 0.85772\n",
            "Epoch 30/50\n",
            "100/100 [==============================] - 45s 450ms/step - loss: 0.3300 - acc: 0.8675 - val_loss: 0.3591 - val_acc: 0.8507\n",
            "\n",
            "Epoch 00030: val_acc did not improve from 0.85772\n",
            "Epoch 31/50\n",
            "100/100 [==============================] - 45s 452ms/step - loss: 0.3409 - acc: 0.8677 - val_loss: 0.3664 - val_acc: 0.8500\n",
            "\n",
            "Epoch 00031: val_acc did not improve from 0.85772\n",
            "Epoch 32/50\n",
            "100/100 [==============================] - 45s 447ms/step - loss: 0.3228 - acc: 0.8795 - val_loss: 0.3533 - val_acc: 0.8537\n",
            "\n",
            "Epoch 00032: val_acc did not improve from 0.85772\n",
            "Epoch 33/50\n",
            "100/100 [==============================] - 44s 443ms/step - loss: 0.3361 - acc: 0.8673 - val_loss: 0.3708 - val_acc: 0.8367\n",
            "\n",
            "Epoch 00033: val_acc did not improve from 0.85772\n",
            "Epoch 34/50\n",
            "100/100 [==============================] - 45s 451ms/step - loss: 0.3394 - acc: 0.8588 - val_loss: 0.3482 - val_acc: 0.8740\n",
            "\n",
            "Epoch 00034: val_acc improved from 0.85772 to 0.87400, saving model to Raw VGG16.h5\n",
            "Epoch 35/50\n",
            "100/100 [==============================] - 45s 446ms/step - loss: 0.3249 - acc: 0.8786 - val_loss: 0.3517 - val_acc: 0.8657\n",
            "\n",
            "Epoch 00035: val_acc did not improve from 0.87400\n",
            "Epoch 36/50\n",
            "100/100 [==============================] - 45s 450ms/step - loss: 0.3323 - acc: 0.8805 - val_loss: 0.3632 - val_acc: 0.8337\n",
            "\n",
            "Epoch 00036: val_acc did not improve from 0.87400\n",
            "Epoch 37/50\n",
            "100/100 [==============================] - 45s 450ms/step - loss: 0.3253 - acc: 0.8766 - val_loss: 0.3766 - val_acc: 0.8260\n",
            "\n",
            "Epoch 00037: val_acc did not improve from 0.87400\n",
            "Epoch 38/50\n",
            "100/100 [==============================] - 45s 449ms/step - loss: 0.3283 - acc: 0.8670 - val_loss: 0.3463 - val_acc: 0.8587\n",
            "\n",
            "Epoch 00038: val_acc did not improve from 0.87400\n",
            "Epoch 39/50\n",
            "100/100 [==============================] - 45s 449ms/step - loss: 0.3276 - acc: 0.8760 - val_loss: 0.3498 - val_acc: 0.8667\n",
            "\n",
            "Epoch 00039: val_acc did not improve from 0.87400\n",
            "Epoch 40/50\n",
            "100/100 [==============================] - 45s 447ms/step - loss: 0.3185 - acc: 0.8743 - val_loss: 0.3634 - val_acc: 0.8350\n",
            "\n",
            "Epoch 00040: val_acc did not improve from 0.87400\n",
            "Epoch 41/50\n",
            "100/100 [==============================] - 45s 452ms/step - loss: 0.3217 - acc: 0.8784 - val_loss: 0.3348 - val_acc: 0.8768\n",
            "\n",
            "Epoch 00041: val_acc improved from 0.87400 to 0.87675, saving model to Raw VGG16.h5\n",
            "Epoch 42/50\n",
            "100/100 [==============================] - 45s 449ms/step - loss: 0.3167 - acc: 0.8840 - val_loss: 0.3479 - val_acc: 0.8560\n",
            "\n",
            "Epoch 00042: val_acc did not improve from 0.87675\n",
            "Epoch 43/50\n",
            "100/100 [==============================] - 46s 458ms/step - loss: 0.3204 - acc: 0.8778 - val_loss: 0.3350 - val_acc: 0.8768\n",
            "\n",
            "Epoch 00043: val_acc improved from 0.87675 to 0.87675, saving model to Raw VGG16.h5\n",
            "Epoch 44/50\n",
            "100/100 [==============================] - 45s 448ms/step - loss: 0.3166 - acc: 0.8769 - val_loss: 0.3476 - val_acc: 0.8637\n",
            "\n",
            "Epoch 00044: val_acc did not improve from 0.87675\n",
            "Epoch 45/50\n",
            "100/100 [==============================] - 46s 459ms/step - loss: 0.3169 - acc: 0.8940 - val_loss: 0.3257 - val_acc: 0.8860\n",
            "\n",
            "Epoch 00045: val_acc improved from 0.87675 to 0.88600, saving model to Raw VGG16.h5\n",
            "Epoch 46/50\n",
            "100/100 [==============================] - 45s 454ms/step - loss: 0.3182 - acc: 0.8798 - val_loss: 0.3234 - val_acc: 0.8898\n",
            "\n",
            "Epoch 00046: val_acc improved from 0.88600 to 0.88978, saving model to Raw VGG16.h5\n",
            "Epoch 47/50\n",
            "100/100 [==============================] - 46s 456ms/step - loss: 0.3107 - acc: 0.8809 - val_loss: 0.3506 - val_acc: 0.8577\n",
            "\n",
            "Epoch 00047: val_acc did not improve from 0.88978\n",
            "Epoch 48/50\n",
            "100/100 [==============================] - 45s 450ms/step - loss: 0.3159 - acc: 0.8768 - val_loss: 0.3294 - val_acc: 0.8810\n",
            "\n",
            "Epoch 00048: val_acc did not improve from 0.88978\n",
            "Epoch 49/50\n",
            "100/100 [==============================] - 45s 451ms/step - loss: 0.3042 - acc: 0.8912 - val_loss: 0.3420 - val_acc: 0.8818\n",
            "\n",
            "Epoch 00049: val_acc did not improve from 0.88978\n",
            "Epoch 50/50\n",
            "100/100 [==============================] - 44s 445ms/step - loss: 0.3009 - acc: 0.8940 - val_loss: 0.3438 - val_acc: 0.8677\n",
            "\n",
            "Epoch 00050: val_acc did not improve from 0.88978\n"
          ],
          "name": "stdout"
        }
      ]
    },
    {
      "cell_type": "code",
      "metadata": {
        "id": "otoBtda9Gfox",
        "colab_type": "code",
        "outputId": "fccd2f33-5aaf-40f8-97e2-729b0f8de937",
        "colab": {
          "base_uri": "https://localhost:8080/",
          "height": 545
        }
      },
      "source": [
        "def smooth_curve(points, factor=0.1):\n",
        "  smoothed_points = []\n",
        "  for point in points:\n",
        "    if smoothed_points:\n",
        "      previous = smoothed_points[-1]\n",
        "      smoothed_points.append(previous * factor + point * (1 - factor))\n",
        "    else:\n",
        "        smoothed_points.append(point)\n",
        "  return smoothed_points\n",
        "plt.plot(epochs,\n",
        "  smooth_curve(acc), 'bo', label='Smoothed training acc')\n",
        "plt.plot(epochs,\n",
        "  smooth_curve(val_acc), 'b', label='Smoothed validation acc')\n",
        "plt.title('Training and validation accuracy')\n",
        "plt.legend()\n",
        "plt.figure()\n",
        "plt.plot(epochs,\n",
        "  smooth_curve(loss), 'bo', label='Smoothed training loss')\n",
        "plt.plot(epochs,\n",
        "  smooth_curve(val_loss), 'b', label='Smoothed validation loss')\n",
        "plt.title('Training and validation loss')\n",
        "plt.legend()\n",
        "plt.show()"
      ],
      "execution_count": 0,
      "outputs": [
        {
          "output_type": "display_data",
          "data": {
            "image/png": "[encoded data removed]",
            "text/plain": [
              "<Figure size 432x288 with 1 Axes>"
            ]
          },
          "metadata": {
            "tags": []
          }
        },
        {
          "output_type": "display_data",
          "data": {
            "image/png": "[encoded data removed]",
            "text/plain": [
              "<Figure size 432x288 with 1 Axes>"
            ]
          },
          "metadata": {
            "tags": []
          }
        }
      ]
    },
    {
      "cell_type": "code",
      "metadata": {
        "id": "eGj5oUSyGffQ",
        "colab_type": "code",
        "outputId": "15b99d06-1822-453e-db3d-32c44cdf3a00",
        "colab": {
          "base_uri": "https://localhost:8080/",
          "height": 54
        }
      },
      "source": [
        "test_generator = test_datagen.flow_from_directory(\n",
        "    test_dir,\n",
        "    target_size=(150, 150),\n",
        "    batch_size=20,\n",
        "    class_mode='binary')\n",
        "test_loss, test_acc = model.evaluate_generator(test_generator, steps=20)\n",
        "print('test acc:', test_acc)"
      ],
      "execution_count": 0,
      "outputs": [
        {
          "output_type": "stream",
          "text": [
            "Found 1045 images belonging to 2 classes.\n",
            "test acc: 0.8674999952316285\n"
          ],
          "name": "stdout"
        }
      ]
    },
    {
      "cell_type": "code",
      "metadata": {
        "id": "Hk5L8B9pGfb3",
        "colab_type": "code",
        "outputId": "ca78f521-2f73-46b0-82a0-63c2e98f2158",
        "colab": {
          "base_uri": "https://localhost:8080/",
          "height": 35
        }
      },
      "source": [
        "# load_model_sample.py\n",
        "from keras.models import load_model\n",
        "from keras.preprocessing import image\n",
        "import matplotlib.pyplot as plt\n",
        "import numpy as np\n",
        "import os\n",
        "\n",
        "\n",
        "def load_image(img_path, show=False):\n",
        "\n",
        "    img = image.load_img(img_path, target_size=(150, 150))\n",
        "    img_tensor = image.img_to_array(img)                    # (height, width, channels)\n",
        "    img_tensor = np.expand_dims(img_tensor, axis=0)         # (1, height, width, channels), add a dimension because the model expects this shape: (batch_size, height, width, channels)\n",
        "    img_tensor /= 255.                                      # imshow expects values in the range [0, 1]\n",
        "\n",
        "    if show:\n",
        "        plt.imshow(img_tensor[0])                           \n",
        "        plt.axis('off')\n",
        "        plt.show()\n",
        "\n",
        "    return img_tensor\n",
        "\n",
        "\n",
        "if __name__ == \"__main__\":\n",
        "\n",
        "    # load model\n",
        "    model = load_model(\"Raw VGG16.h5\")\n",
        "\n",
        "    # image path\n",
        "    img_path = '/content/Drive/My Drive/Colab Notebooks/data01/Test/mdb226.jpg'    # benign\n",
        "    # img_path = '/content/Drive/My Drive/Colab Notebooks/data01/Test/mdb241.jpg'      # malignant\n",
        "\n",
        "    # load a single image\n",
        "    new_image = load_image(img_path)\n",
        "\n",
        "    # check prediction\n",
        "    pred = model.predict(new_image)\n",
        "    print (pred)"
      ],
      "execution_count": 0,
      "outputs": [
        {
          "output_type": "stream",
          "text": [
            "[[0.00164255]]\n"
          ],
          "name": "stdout"
        }
      ]
    },
    {
      "cell_type": "code",
      "metadata": {
        "id": "_aUq_J40TuZI",
        "colab_type": "code",
        "colab": {}
      },
      "source": [
        ""
      ],
      "execution_count": 0,
      "outputs": []
    }
  ]
}